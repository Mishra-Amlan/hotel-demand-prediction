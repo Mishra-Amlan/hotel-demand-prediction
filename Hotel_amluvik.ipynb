{
 "cells": [
  {
   "cell_type": "markdown",
   "id": "78669bd1",
   "metadata": {},
   "source": [
    "## Importing the libraries"
   ]
  },
  {
   "cell_type": "code",
   "execution_count": 1,
   "id": "119ce8b0",
   "metadata": {},
   "outputs": [],
   "source": [
    "import pandas as pd\n",
    "import numpy as np\n",
    "import matplotlib.pyplot as plt\n",
    "import seaborn as sns\n"
   ]
  },
  {
   "cell_type": "code",
   "execution_count": 3,
   "id": "c3c81709",
   "metadata": {},
   "outputs": [
    {
     "data": {
      "text/html": [
       "<div>\n",
       "<style scoped>\n",
       "    .dataframe tbody tr th:only-of-type {\n",
       "        vertical-align: middle;\n",
       "    }\n",
       "\n",
       "    .dataframe tbody tr th {\n",
       "        vertical-align: top;\n",
       "    }\n",
       "\n",
       "    .dataframe thead th {\n",
       "        text-align: right;\n",
       "    }\n",
       "</style>\n",
       "<table border=\"1\" class=\"dataframe\">\n",
       "  <thead>\n",
       "    <tr style=\"text-align: right;\">\n",
       "      <th></th>\n",
       "      <th>hotel</th>\n",
       "      <th>is_canceled</th>\n",
       "      <th>lead_time</th>\n",
       "      <th>arrival_month_year</th>\n",
       "      <th>arrival_date_year</th>\n",
       "      <th>arrival_date_month</th>\n",
       "      <th>arrival_date_week_number</th>\n",
       "      <th>arrival_date_day_of_month</th>\n",
       "      <th>stays_in_weekend_nights</th>\n",
       "      <th>stays_in_week_nights</th>\n",
       "      <th>...</th>\n",
       "      <th>deposit_type</th>\n",
       "      <th>agent</th>\n",
       "      <th>company</th>\n",
       "      <th>days_in_waiting_list</th>\n",
       "      <th>customer_type</th>\n",
       "      <th>adr</th>\n",
       "      <th>required_car_parking_spaces</th>\n",
       "      <th>total_of_special_requests</th>\n",
       "      <th>reservation_status</th>\n",
       "      <th>reservation_status_date</th>\n",
       "    </tr>\n",
       "  </thead>\n",
       "  <tbody>\n",
       "    <tr>\n",
       "      <th>119380</th>\n",
       "      <td>City Hotel</td>\n",
       "      <td>0</td>\n",
       "      <td>44</td>\n",
       "      <td>August 2017</td>\n",
       "      <td>2017</td>\n",
       "      <td>August</td>\n",
       "      <td>35</td>\n",
       "      <td>31</td>\n",
       "      <td>1</td>\n",
       "      <td>3</td>\n",
       "      <td>...</td>\n",
       "      <td>No Deposit</td>\n",
       "      <td>9.0</td>\n",
       "      <td>NaN</td>\n",
       "      <td>0</td>\n",
       "      <td>Transient</td>\n",
       "      <td>140.75</td>\n",
       "      <td>0</td>\n",
       "      <td>1</td>\n",
       "      <td>Check-Out</td>\n",
       "      <td>04-09-2017</td>\n",
       "    </tr>\n",
       "    <tr>\n",
       "      <th>119381</th>\n",
       "      <td>City Hotel</td>\n",
       "      <td>0</td>\n",
       "      <td>188</td>\n",
       "      <td>August 2017</td>\n",
       "      <td>2017</td>\n",
       "      <td>August</td>\n",
       "      <td>35</td>\n",
       "      <td>31</td>\n",
       "      <td>2</td>\n",
       "      <td>3</td>\n",
       "      <td>...</td>\n",
       "      <td>No Deposit</td>\n",
       "      <td>14.0</td>\n",
       "      <td>NaN</td>\n",
       "      <td>0</td>\n",
       "      <td>Transient</td>\n",
       "      <td>99.00</td>\n",
       "      <td>0</td>\n",
       "      <td>0</td>\n",
       "      <td>Check-Out</td>\n",
       "      <td>05-09-2017</td>\n",
       "    </tr>\n",
       "    <tr>\n",
       "      <th>119382</th>\n",
       "      <td>City Hotel</td>\n",
       "      <td>0</td>\n",
       "      <td>135</td>\n",
       "      <td>August 2017</td>\n",
       "      <td>2017</td>\n",
       "      <td>August</td>\n",
       "      <td>35</td>\n",
       "      <td>30</td>\n",
       "      <td>2</td>\n",
       "      <td>4</td>\n",
       "      <td>...</td>\n",
       "      <td>No Deposit</td>\n",
       "      <td>7.0</td>\n",
       "      <td>NaN</td>\n",
       "      <td>0</td>\n",
       "      <td>Transient</td>\n",
       "      <td>209.00</td>\n",
       "      <td>0</td>\n",
       "      <td>0</td>\n",
       "      <td>Check-Out</td>\n",
       "      <td>05-09-2017</td>\n",
       "    </tr>\n",
       "    <tr>\n",
       "      <th>119383</th>\n",
       "      <td>City Hotel</td>\n",
       "      <td>0</td>\n",
       "      <td>164</td>\n",
       "      <td>August 2017</td>\n",
       "      <td>2017</td>\n",
       "      <td>August</td>\n",
       "      <td>35</td>\n",
       "      <td>31</td>\n",
       "      <td>2</td>\n",
       "      <td>4</td>\n",
       "      <td>...</td>\n",
       "      <td>No Deposit</td>\n",
       "      <td>42.0</td>\n",
       "      <td>NaN</td>\n",
       "      <td>0</td>\n",
       "      <td>Transient</td>\n",
       "      <td>87.60</td>\n",
       "      <td>0</td>\n",
       "      <td>0</td>\n",
       "      <td>Check-Out</td>\n",
       "      <td>06-09-2017</td>\n",
       "    </tr>\n",
       "    <tr>\n",
       "      <th>119384</th>\n",
       "      <td>City Hotel</td>\n",
       "      <td>0</td>\n",
       "      <td>21</td>\n",
       "      <td>August 2017</td>\n",
       "      <td>2017</td>\n",
       "      <td>August</td>\n",
       "      <td>35</td>\n",
       "      <td>30</td>\n",
       "      <td>2</td>\n",
       "      <td>5</td>\n",
       "      <td>...</td>\n",
       "      <td>No Deposit</td>\n",
       "      <td>394.0</td>\n",
       "      <td>NaN</td>\n",
       "      <td>0</td>\n",
       "      <td>Transient</td>\n",
       "      <td>96.14</td>\n",
       "      <td>0</td>\n",
       "      <td>2</td>\n",
       "      <td>Check-Out</td>\n",
       "      <td>06-09-2017</td>\n",
       "    </tr>\n",
       "    <tr>\n",
       "      <th>119385</th>\n",
       "      <td>City Hotel</td>\n",
       "      <td>0</td>\n",
       "      <td>23</td>\n",
       "      <td>August 2017</td>\n",
       "      <td>2017</td>\n",
       "      <td>August</td>\n",
       "      <td>35</td>\n",
       "      <td>30</td>\n",
       "      <td>2</td>\n",
       "      <td>5</td>\n",
       "      <td>...</td>\n",
       "      <td>No Deposit</td>\n",
       "      <td>394.0</td>\n",
       "      <td>NaN</td>\n",
       "      <td>0</td>\n",
       "      <td>Transient</td>\n",
       "      <td>96.14</td>\n",
       "      <td>0</td>\n",
       "      <td>0</td>\n",
       "      <td>Check-Out</td>\n",
       "      <td>06-09-2017</td>\n",
       "    </tr>\n",
       "    <tr>\n",
       "      <th>119386</th>\n",
       "      <td>City Hotel</td>\n",
       "      <td>0</td>\n",
       "      <td>102</td>\n",
       "      <td>August 2017</td>\n",
       "      <td>2017</td>\n",
       "      <td>August</td>\n",
       "      <td>35</td>\n",
       "      <td>31</td>\n",
       "      <td>2</td>\n",
       "      <td>5</td>\n",
       "      <td>...</td>\n",
       "      <td>No Deposit</td>\n",
       "      <td>9.0</td>\n",
       "      <td>NaN</td>\n",
       "      <td>0</td>\n",
       "      <td>Transient</td>\n",
       "      <td>225.43</td>\n",
       "      <td>0</td>\n",
       "      <td>2</td>\n",
       "      <td>Check-Out</td>\n",
       "      <td>07-09-2017</td>\n",
       "    </tr>\n",
       "    <tr>\n",
       "      <th>119387</th>\n",
       "      <td>City Hotel</td>\n",
       "      <td>0</td>\n",
       "      <td>34</td>\n",
       "      <td>August 2017</td>\n",
       "      <td>2017</td>\n",
       "      <td>August</td>\n",
       "      <td>35</td>\n",
       "      <td>31</td>\n",
       "      <td>2</td>\n",
       "      <td>5</td>\n",
       "      <td>...</td>\n",
       "      <td>No Deposit</td>\n",
       "      <td>9.0</td>\n",
       "      <td>NaN</td>\n",
       "      <td>0</td>\n",
       "      <td>Transient</td>\n",
       "      <td>157.71</td>\n",
       "      <td>0</td>\n",
       "      <td>4</td>\n",
       "      <td>Check-Out</td>\n",
       "      <td>07-09-2017</td>\n",
       "    </tr>\n",
       "    <tr>\n",
       "      <th>119388</th>\n",
       "      <td>City Hotel</td>\n",
       "      <td>0</td>\n",
       "      <td>109</td>\n",
       "      <td>August 2017</td>\n",
       "      <td>2017</td>\n",
       "      <td>August</td>\n",
       "      <td>35</td>\n",
       "      <td>31</td>\n",
       "      <td>2</td>\n",
       "      <td>5</td>\n",
       "      <td>...</td>\n",
       "      <td>No Deposit</td>\n",
       "      <td>89.0</td>\n",
       "      <td>NaN</td>\n",
       "      <td>0</td>\n",
       "      <td>Transient</td>\n",
       "      <td>104.40</td>\n",
       "      <td>0</td>\n",
       "      <td>0</td>\n",
       "      <td>Check-Out</td>\n",
       "      <td>07-09-2017</td>\n",
       "    </tr>\n",
       "    <tr>\n",
       "      <th>119389</th>\n",
       "      <td>City Hotel</td>\n",
       "      <td>0</td>\n",
       "      <td>205</td>\n",
       "      <td>August 2017</td>\n",
       "      <td>2017</td>\n",
       "      <td>August</td>\n",
       "      <td>35</td>\n",
       "      <td>29</td>\n",
       "      <td>2</td>\n",
       "      <td>7</td>\n",
       "      <td>...</td>\n",
       "      <td>No Deposit</td>\n",
       "      <td>9.0</td>\n",
       "      <td>NaN</td>\n",
       "      <td>0</td>\n",
       "      <td>Transient</td>\n",
       "      <td>151.20</td>\n",
       "      <td>0</td>\n",
       "      <td>2</td>\n",
       "      <td>Check-Out</td>\n",
       "      <td>07-09-2017</td>\n",
       "    </tr>\n",
       "  </tbody>\n",
       "</table>\n",
       "<p>10 rows × 33 columns</p>\n",
       "</div>"
      ],
      "text/plain": [
       "             hotel  is_canceled  lead_time arrival_month_year  \\\n",
       "119380  City Hotel            0         44        August 2017   \n",
       "119381  City Hotel            0        188        August 2017   \n",
       "119382  City Hotel            0        135        August 2017   \n",
       "119383  City Hotel            0        164        August 2017   \n",
       "119384  City Hotel            0         21        August 2017   \n",
       "119385  City Hotel            0         23        August 2017   \n",
       "119386  City Hotel            0        102        August 2017   \n",
       "119387  City Hotel            0         34        August 2017   \n",
       "119388  City Hotel            0        109        August 2017   \n",
       "119389  City Hotel            0        205        August 2017   \n",
       "\n",
       "        arrival_date_year arrival_date_month  arrival_date_week_number  \\\n",
       "119380               2017             August                        35   \n",
       "119381               2017             August                        35   \n",
       "119382               2017             August                        35   \n",
       "119383               2017             August                        35   \n",
       "119384               2017             August                        35   \n",
       "119385               2017             August                        35   \n",
       "119386               2017             August                        35   \n",
       "119387               2017             August                        35   \n",
       "119388               2017             August                        35   \n",
       "119389               2017             August                        35   \n",
       "\n",
       "        arrival_date_day_of_month  stays_in_weekend_nights  \\\n",
       "119380                         31                        1   \n",
       "119381                         31                        2   \n",
       "119382                         30                        2   \n",
       "119383                         31                        2   \n",
       "119384                         30                        2   \n",
       "119385                         30                        2   \n",
       "119386                         31                        2   \n",
       "119387                         31                        2   \n",
       "119388                         31                        2   \n",
       "119389                         29                        2   \n",
       "\n",
       "        stays_in_week_nights  ...  deposit_type  agent  company  \\\n",
       "119380                     3  ...    No Deposit    9.0      NaN   \n",
       "119381                     3  ...    No Deposit   14.0      NaN   \n",
       "119382                     4  ...    No Deposit    7.0      NaN   \n",
       "119383                     4  ...    No Deposit   42.0      NaN   \n",
       "119384                     5  ...    No Deposit  394.0      NaN   \n",
       "119385                     5  ...    No Deposit  394.0      NaN   \n",
       "119386                     5  ...    No Deposit    9.0      NaN   \n",
       "119387                     5  ...    No Deposit    9.0      NaN   \n",
       "119388                     5  ...    No Deposit   89.0      NaN   \n",
       "119389                     7  ...    No Deposit    9.0      NaN   \n",
       "\n",
       "       days_in_waiting_list customer_type     adr required_car_parking_spaces  \\\n",
       "119380                    0     Transient  140.75                           0   \n",
       "119381                    0     Transient   99.00                           0   \n",
       "119382                    0     Transient  209.00                           0   \n",
       "119383                    0     Transient   87.60                           0   \n",
       "119384                    0     Transient   96.14                           0   \n",
       "119385                    0     Transient   96.14                           0   \n",
       "119386                    0     Transient  225.43                           0   \n",
       "119387                    0     Transient  157.71                           0   \n",
       "119388                    0     Transient  104.40                           0   \n",
       "119389                    0     Transient  151.20                           0   \n",
       "\n",
       "        total_of_special_requests  reservation_status  reservation_status_date  \n",
       "119380                          1           Check-Out               04-09-2017  \n",
       "119381                          0           Check-Out               05-09-2017  \n",
       "119382                          0           Check-Out               05-09-2017  \n",
       "119383                          0           Check-Out               06-09-2017  \n",
       "119384                          2           Check-Out               06-09-2017  \n",
       "119385                          0           Check-Out               06-09-2017  \n",
       "119386                          2           Check-Out               07-09-2017  \n",
       "119387                          4           Check-Out               07-09-2017  \n",
       "119388                          0           Check-Out               07-09-2017  \n",
       "119389                          2           Check-Out               07-09-2017  \n",
       "\n",
       "[10 rows x 33 columns]"
      ]
     },
     "execution_count": 3,
     "metadata": {},
     "output_type": "execute_result"
    }
   ],
   "source": [
    "hd = pd.read_csv('hotel_bookings.csv')\n",
    "hd.tail(10)"
   ]
  },
  {
   "cell_type": "markdown",
   "id": "b2cef2cc",
   "metadata": {},
   "source": [
    "## Exploratory Data Analysis."
   ]
  },
  {
   "cell_type": "code",
   "execution_count": 3,
   "id": "327ff665",
   "metadata": {},
   "outputs": [
    {
     "data": {
      "text/plain": [
       "(119390, 33)"
      ]
     },
     "execution_count": 3,
     "metadata": {},
     "output_type": "execute_result"
    }
   ],
   "source": [
    "hd.shape"
   ]
  },
  {
   "cell_type": "code",
   "execution_count": 4,
   "id": "e9bab0c3",
   "metadata": {},
   "outputs": [
    {
     "name": "stdout",
     "output_type": "stream",
     "text": [
      "<class 'pandas.core.frame.DataFrame'>\n",
      "RangeIndex: 119390 entries, 0 to 119389\n",
      "Data columns (total 33 columns):\n",
      " #   Column                          Non-Null Count   Dtype  \n",
      "---  ------                          --------------   -----  \n",
      " 0   hotel                           119390 non-null  object \n",
      " 1   is_canceled                     119390 non-null  int64  \n",
      " 2   lead_time                       119390 non-null  int64  \n",
      " 3   arrival_month_year              119390 non-null  object \n",
      " 4   arrival_date_year               119390 non-null  int64  \n",
      " 5   arrival_date_month              119390 non-null  object \n",
      " 6   arrival_date_week_number        119390 non-null  int64  \n",
      " 7   arrival_date_day_of_month       119390 non-null  int64  \n",
      " 8   stays_in_weekend_nights         119390 non-null  int64  \n",
      " 9   stays_in_week_nights            119390 non-null  int64  \n",
      " 10  adults                          119390 non-null  int64  \n",
      " 11  children                        119386 non-null  float64\n",
      " 12  babies                          119390 non-null  int64  \n",
      " 13  meal                            119390 non-null  object \n",
      " 14  country                         118902 non-null  object \n",
      " 15  market_segment                  119390 non-null  object \n",
      " 16  distribution_channel            119390 non-null  object \n",
      " 17  is_repeated_guest               119390 non-null  int64  \n",
      " 18  previous_cancellations          119390 non-null  int64  \n",
      " 19  previous_bookings_not_canceled  119390 non-null  int64  \n",
      " 20  reserved_room_type              119390 non-null  object \n",
      " 21  assigned_room_type              119390 non-null  object \n",
      " 22  booking_changes                 119390 non-null  int64  \n",
      " 23  deposit_type                    119390 non-null  object \n",
      " 24  agent                           103050 non-null  float64\n",
      " 25  company                         6797 non-null    float64\n",
      " 26  days_in_waiting_list            119390 non-null  int64  \n",
      " 27  customer_type                   119390 non-null  object \n",
      " 28  adr                             119390 non-null  float64\n",
      " 29  required_car_parking_spaces     119390 non-null  int64  \n",
      " 30  total_of_special_requests       119390 non-null  int64  \n",
      " 31  reservation_status              119390 non-null  object \n",
      " 32  reservation_status_date         119390 non-null  object \n",
      "dtypes: float64(4), int64(16), object(13)\n",
      "memory usage: 30.1+ MB\n"
     ]
    }
   ],
   "source": [
    "hd.info()"
   ]
  },
  {
   "cell_type": "code",
   "execution_count": 5,
   "id": "912a7534",
   "metadata": {},
   "outputs": [
    {
     "data": {
      "text/plain": [
       "hotel                                  0\n",
       "is_canceled                            0\n",
       "lead_time                              0\n",
       "arrival_month_year                     0\n",
       "arrival_date_year                      0\n",
       "arrival_date_month                     0\n",
       "arrival_date_week_number               0\n",
       "arrival_date_day_of_month              0\n",
       "stays_in_weekend_nights                0\n",
       "stays_in_week_nights                   0\n",
       "adults                                 0\n",
       "children                               4\n",
       "babies                                 0\n",
       "meal                                   0\n",
       "country                              488\n",
       "market_segment                         0\n",
       "distribution_channel                   0\n",
       "is_repeated_guest                      0\n",
       "previous_cancellations                 0\n",
       "previous_bookings_not_canceled         0\n",
       "reserved_room_type                     0\n",
       "assigned_room_type                     0\n",
       "booking_changes                        0\n",
       "deposit_type                           0\n",
       "agent                              16340\n",
       "company                           112593\n",
       "days_in_waiting_list                   0\n",
       "customer_type                          0\n",
       "adr                                    0\n",
       "required_car_parking_spaces            0\n",
       "total_of_special_requests              0\n",
       "reservation_status                     0\n",
       "reservation_status_date                0\n",
       "dtype: int64"
      ]
     },
     "execution_count": 5,
     "metadata": {},
     "output_type": "execute_result"
    }
   ],
   "source": [
    "hd.isnull().sum()"
   ]
  },
  {
   "cell_type": "code",
   "execution_count": 6,
   "id": "c53f05fd",
   "metadata": {},
   "outputs": [],
   "source": [
    "# hd[['company']].value_counts()"
   ]
  },
  {
   "cell_type": "markdown",
   "id": "c2b23dee",
   "metadata": {},
   "source": [
    "## Defining Target Variable"
   ]
  },
  {
   "cell_type": "code",
   "execution_count": 7,
   "id": "1dcc5d05",
   "metadata": {},
   "outputs": [],
   "source": [
    "X = hd.drop(['is_canceled'], axis = 1)\n",
    "Y = hd[['is_canceled']]"
   ]
  },
  {
   "cell_type": "markdown",
   "id": "eb60edec",
   "metadata": {},
   "source": [
    "# Getting the cancellation Rate."
   ]
  },
  {
   "cell_type": "code",
   "execution_count": 8,
   "id": "2403e497",
   "metadata": {
    "scrolled": true
   },
   "outputs": [
    {
     "data": {
      "text/plain": [
       "is_canceled\n",
       "0              75166\n",
       "1              44224\n",
       "dtype: int64"
      ]
     },
     "execution_count": 8,
     "metadata": {},
     "output_type": "execute_result"
    }
   ],
   "source": [
    "Y.value_counts()"
   ]
  },
  {
   "cell_type": "code",
   "execution_count": 9,
   "id": "76b800c6",
   "metadata": {},
   "outputs": [
    {
     "data": {
      "image/png": "[encoded data removed]",
      "text/plain": [
       "<Figure size 432x288 with 1 Axes>"
      ]
     },
     "metadata": {},
     "output_type": "display_data"
    }
   ],
   "source": [
    "plt.pie(Y.value_counts(), labels = ['not cancelled', 'cancelled'], autopct = '%0.2f')\n",
    "plt.show()"
   ]
  },
  {
   "cell_type": "code",
   "execution_count": 10,
   "id": "13f95429",
   "metadata": {},
   "outputs": [
    {
     "data": {
      "text/plain": [
       "is_canceled    37.041628\n",
       "dtype: float64"
      ]
     },
     "execution_count": 10,
     "metadata": {},
     "output_type": "execute_result"
    }
   ],
   "source": [
    "Y.value_counts()[1] / Y.count()  * 100"
   ]
  },
  {
   "cell_type": "markdown",
   "id": "87a48718",
   "metadata": {},
   "source": [
    "- We are getting a cancellation Rate of 37.04 % ."
   ]
  },
  {
   "cell_type": "markdown",
   "id": "81f7d4b6",
   "metadata": {},
   "source": [
    "## Getting the unique values"
   ]
  },
  {
   "cell_type": "code",
   "execution_count": 11,
   "id": "6d2dd590",
   "metadata": {},
   "outputs": [
    {
     "name": "stdout",
     "output_type": "stream",
     "text": [
      "hotel  -->  2\n",
      "is_canceled  -->  2\n",
      "lead_time  -->  479\n",
      "arrival_month_year  -->  26\n",
      "arrival_date_year  -->  3\n",
      "arrival_date_month  -->  12\n",
      "arrival_date_week_number  -->  53\n",
      "arrival_date_day_of_month  -->  31\n",
      "stays_in_weekend_nights  -->  17\n",
      "stays_in_week_nights  -->  35\n",
      "adults  -->  14\n",
      "children  -->  5\n",
      "babies  -->  5\n",
      "meal  -->  5\n",
      "country  -->  177\n",
      "market_segment  -->  8\n",
      "distribution_channel  -->  5\n",
      "is_repeated_guest  -->  2\n",
      "previous_cancellations  -->  15\n",
      "previous_bookings_not_canceled  -->  73\n",
      "reserved_room_type  -->  10\n",
      "assigned_room_type  -->  12\n",
      "booking_changes  -->  21\n",
      "deposit_type  -->  3\n",
      "agent  -->  333\n",
      "company  -->  352\n",
      "days_in_waiting_list  -->  128\n",
      "customer_type  -->  4\n",
      "adr  -->  8879\n",
      "required_car_parking_spaces  -->  5\n",
      "total_of_special_requests  -->  6\n",
      "reservation_status  -->  3\n",
      "reservation_status_date  -->  926\n"
     ]
    }
   ],
   "source": [
    "for i in hd.columns:\n",
    "    print(f'{i}  -->  {hd[i].nunique()}')\n",
    "#     print()"
   ]
  },
  {
   "cell_type": "markdown",
   "id": "77f2d943",
   "metadata": {},
   "source": [
    "## Segregating Categorical and Numerical Features.."
   ]
  },
  {
   "cell_type": "code",
   "execution_count": 12,
   "id": "bdb3a383",
   "metadata": {},
   "outputs": [],
   "source": [
    "char = X.select_dtypes(include='object')\n",
    "\n",
    "num = X.select_dtypes(include='number')"
   ]
  },
  {
   "cell_type": "code",
   "execution_count": 13,
   "id": "4edfa388",
   "metadata": {
    "scrolled": true
   },
   "outputs": [
    {
     "data": {
      "text/html": [
       "<div>\n",
       "<style scoped>\n",
       "    .dataframe tbody tr th:only-of-type {\n",
       "        vertical-align: middle;\n",
       "    }\n",
       "\n",
       "    .dataframe tbody tr th {\n",
       "        vertical-align: top;\n",
       "    }\n",
       "\n",
       "    .dataframe thead th {\n",
       "        text-align: right;\n",
       "    }\n",
       "</style>\n",
       "<table border=\"1\" class=\"dataframe\">\n",
       "  <thead>\n",
       "    <tr style=\"text-align: right;\">\n",
       "      <th></th>\n",
       "      <th>hotel</th>\n",
       "      <th>arrival_month_year</th>\n",
       "      <th>arrival_date_month</th>\n",
       "      <th>meal</th>\n",
       "      <th>country</th>\n",
       "      <th>market_segment</th>\n",
       "      <th>distribution_channel</th>\n",
       "      <th>reserved_room_type</th>\n",
       "      <th>assigned_room_type</th>\n",
       "      <th>deposit_type</th>\n",
       "      <th>customer_type</th>\n",
       "      <th>reservation_status</th>\n",
       "      <th>reservation_status_date</th>\n",
       "    </tr>\n",
       "  </thead>\n",
       "  <tbody>\n",
       "    <tr>\n",
       "      <th>0</th>\n",
       "      <td>Resort Hotel</td>\n",
       "      <td>July 2015</td>\n",
       "      <td>July</td>\n",
       "      <td>BB</td>\n",
       "      <td>PRT</td>\n",
       "      <td>Direct</td>\n",
       "      <td>Direct</td>\n",
       "      <td>C</td>\n",
       "      <td>C</td>\n",
       "      <td>No Deposit</td>\n",
       "      <td>Transient</td>\n",
       "      <td>Check-Out</td>\n",
       "      <td>01-07-2015</td>\n",
       "    </tr>\n",
       "    <tr>\n",
       "      <th>1</th>\n",
       "      <td>Resort Hotel</td>\n",
       "      <td>July 2015</td>\n",
       "      <td>July</td>\n",
       "      <td>BB</td>\n",
       "      <td>PRT</td>\n",
       "      <td>Direct</td>\n",
       "      <td>Direct</td>\n",
       "      <td>C</td>\n",
       "      <td>C</td>\n",
       "      <td>No Deposit</td>\n",
       "      <td>Transient</td>\n",
       "      <td>Check-Out</td>\n",
       "      <td>01-07-2015</td>\n",
       "    </tr>\n",
       "    <tr>\n",
       "      <th>2</th>\n",
       "      <td>Resort Hotel</td>\n",
       "      <td>July 2015</td>\n",
       "      <td>July</td>\n",
       "      <td>BB</td>\n",
       "      <td>GBR</td>\n",
       "      <td>Direct</td>\n",
       "      <td>Direct</td>\n",
       "      <td>A</td>\n",
       "      <td>C</td>\n",
       "      <td>No Deposit</td>\n",
       "      <td>Transient</td>\n",
       "      <td>Check-Out</td>\n",
       "      <td>02-07-2015</td>\n",
       "    </tr>\n",
       "    <tr>\n",
       "      <th>3</th>\n",
       "      <td>Resort Hotel</td>\n",
       "      <td>July 2015</td>\n",
       "      <td>July</td>\n",
       "      <td>BB</td>\n",
       "      <td>GBR</td>\n",
       "      <td>Corporate</td>\n",
       "      <td>Corporate</td>\n",
       "      <td>A</td>\n",
       "      <td>A</td>\n",
       "      <td>No Deposit</td>\n",
       "      <td>Transient</td>\n",
       "      <td>Check-Out</td>\n",
       "      <td>02-07-2015</td>\n",
       "    </tr>\n",
       "    <tr>\n",
       "      <th>4</th>\n",
       "      <td>Resort Hotel</td>\n",
       "      <td>July 2015</td>\n",
       "      <td>July</td>\n",
       "      <td>BB</td>\n",
       "      <td>GBR</td>\n",
       "      <td>Online TA</td>\n",
       "      <td>TA/TO</td>\n",
       "      <td>A</td>\n",
       "      <td>A</td>\n",
       "      <td>No Deposit</td>\n",
       "      <td>Transient</td>\n",
       "      <td>Check-Out</td>\n",
       "      <td>03-07-2015</td>\n",
       "    </tr>\n",
       "  </tbody>\n",
       "</table>\n",
       "</div>"
      ],
      "text/plain": [
       "          hotel arrival_month_year arrival_date_month meal country  \\\n",
       "0  Resort Hotel          July 2015               July   BB     PRT   \n",
       "1  Resort Hotel          July 2015               July   BB     PRT   \n",
       "2  Resort Hotel          July 2015               July   BB     GBR   \n",
       "3  Resort Hotel          July 2015               July   BB     GBR   \n",
       "4  Resort Hotel          July 2015               July   BB     GBR   \n",
       "\n",
       "  market_segment distribution_channel reserved_room_type assigned_room_type  \\\n",
       "0         Direct               Direct                  C                  C   \n",
       "1         Direct               Direct                  C                  C   \n",
       "2         Direct               Direct                  A                  C   \n",
       "3      Corporate            Corporate                  A                  A   \n",
       "4      Online TA                TA/TO                  A                  A   \n",
       "\n",
       "  deposit_type customer_type reservation_status reservation_status_date  \n",
       "0   No Deposit     Transient          Check-Out              01-07-2015  \n",
       "1   No Deposit     Transient          Check-Out              01-07-2015  \n",
       "2   No Deposit     Transient          Check-Out              02-07-2015  \n",
       "3   No Deposit     Transient          Check-Out              02-07-2015  \n",
       "4   No Deposit     Transient          Check-Out              03-07-2015  "
      ]
     },
     "execution_count": 13,
     "metadata": {},
     "output_type": "execute_result"
    }
   ],
   "source": [
    "char.head()"
   ]
  },
  {
   "cell_type": "code",
   "execution_count": 14,
   "id": "386817e7",
   "metadata": {
    "scrolled": true
   },
   "outputs": [
    {
     "data": {
      "text/plain": [
       "68614"
      ]
     },
     "execution_count": 14,
     "metadata": {},
     "output_type": "execute_result"
    }
   ],
   "source": [
    "char.value_counts().count()"
   ]
  },
  {
   "cell_type": "code",
   "execution_count": 15,
   "id": "afa66088",
   "metadata": {},
   "outputs": [],
   "source": [
    "def unique_values(i):\n",
    "    i = i.value_counts().count()\n",
    "    return(i)\n",
    "\n",
    "num_unique_val = pd.DataFrame(num.apply(lambda i: unique_values(i)))\n",
    "    "
   ]
  },
  {
   "cell_type": "code",
   "execution_count": 16,
   "id": "e02adb1b",
   "metadata": {},
   "outputs": [],
   "source": [
    "# num_unique_val"
   ]
  },
  {
   "cell_type": "code",
   "execution_count": 17,
   "id": "5aa18b0a",
   "metadata": {
    "scrolled": true
   },
   "outputs": [
    {
     "data": {
      "text/html": [
       "<div>\n",
       "<style scoped>\n",
       "    .dataframe tbody tr th:only-of-type {\n",
       "        vertical-align: middle;\n",
       "    }\n",
       "\n",
       "    .dataframe tbody tr th {\n",
       "        vertical-align: top;\n",
       "    }\n",
       "\n",
       "    .dataframe thead th {\n",
       "        text-align: right;\n",
       "    }\n",
       "</style>\n",
       "<table border=\"1\" class=\"dataframe\">\n",
       "  <thead>\n",
       "    <tr style=\"text-align: right;\">\n",
       "      <th></th>\n",
       "      <th>features_levels</th>\n",
       "    </tr>\n",
       "  </thead>\n",
       "  <tbody>\n",
       "    <tr>\n",
       "      <th>lead_time</th>\n",
       "      <td>479</td>\n",
       "    </tr>\n",
       "    <tr>\n",
       "      <th>arrival_date_year</th>\n",
       "      <td>3</td>\n",
       "    </tr>\n",
       "    <tr>\n",
       "      <th>arrival_date_week_number</th>\n",
       "      <td>53</td>\n",
       "    </tr>\n",
       "    <tr>\n",
       "      <th>arrival_date_day_of_month</th>\n",
       "      <td>31</td>\n",
       "    </tr>\n",
       "    <tr>\n",
       "      <th>stays_in_weekend_nights</th>\n",
       "      <td>17</td>\n",
       "    </tr>\n",
       "  </tbody>\n",
       "</table>\n",
       "</div>"
      ],
      "text/plain": [
       "                           features_levels\n",
       "lead_time                              479\n",
       "arrival_date_year                        3\n",
       "arrival_date_week_number                53\n",
       "arrival_date_day_of_month               31\n",
       "stays_in_weekend_nights                 17"
      ]
     },
     "execution_count": 17,
     "metadata": {},
     "output_type": "execute_result"
    }
   ],
   "source": [
    "num_unique_val.columns = ['features_levels']\n",
    "num_unique_val.head()\n"
   ]
  },
  {
   "cell_type": "code",
   "execution_count": 18,
   "id": "8a8eda30",
   "metadata": {
    "scrolled": false
   },
   "outputs": [
    {
     "data": {
      "text/html": [
       "<div>\n",
       "<style scoped>\n",
       "    .dataframe tbody tr th:only-of-type {\n",
       "        vertical-align: middle;\n",
       "    }\n",
       "\n",
       "    .dataframe tbody tr th {\n",
       "        vertical-align: top;\n",
       "    }\n",
       "\n",
       "    .dataframe thead th {\n",
       "        text-align: right;\n",
       "    }\n",
       "</style>\n",
       "<table border=\"1\" class=\"dataframe\">\n",
       "  <thead>\n",
       "    <tr style=\"text-align: right;\">\n",
       "      <th></th>\n",
       "      <th>features_levels</th>\n",
       "    </tr>\n",
       "  </thead>\n",
       "  <tbody>\n",
       "    <tr>\n",
       "      <th>arrival_date_year</th>\n",
       "      <td>3</td>\n",
       "    </tr>\n",
       "    <tr>\n",
       "      <th>stays_in_weekend_nights</th>\n",
       "      <td>17</td>\n",
       "    </tr>\n",
       "    <tr>\n",
       "      <th>adults</th>\n",
       "      <td>14</td>\n",
       "    </tr>\n",
       "    <tr>\n",
       "      <th>children</th>\n",
       "      <td>5</td>\n",
       "    </tr>\n",
       "    <tr>\n",
       "      <th>babies</th>\n",
       "      <td>5</td>\n",
       "    </tr>\n",
       "    <tr>\n",
       "      <th>is_repeated_guest</th>\n",
       "      <td>2</td>\n",
       "    </tr>\n",
       "    <tr>\n",
       "      <th>previous_cancellations</th>\n",
       "      <td>15</td>\n",
       "    </tr>\n",
       "    <tr>\n",
       "      <th>required_car_parking_spaces</th>\n",
       "      <td>5</td>\n",
       "    </tr>\n",
       "    <tr>\n",
       "      <th>total_of_special_requests</th>\n",
       "      <td>6</td>\n",
       "    </tr>\n",
       "  </tbody>\n",
       "</table>\n",
       "</div>"
      ],
      "text/plain": [
       "                             features_levels\n",
       "arrival_date_year                          3\n",
       "stays_in_weekend_nights                   17\n",
       "adults                                    14\n",
       "children                                   5\n",
       "babies                                     5\n",
       "is_repeated_guest                          2\n",
       "previous_cancellations                    15\n",
       "required_car_parking_spaces                5\n",
       "total_of_special_requests                  6"
      ]
     },
     "execution_count": 18,
     "metadata": {},
     "output_type": "execute_result"
    }
   ],
   "source": [
    "num_cat = num_unique_val[num_unique_val['features_levels'] <= 20]\n",
    "num_cat\n"
   ]
  },
  {
   "cell_type": "markdown",
   "id": "509517bf",
   "metadata": {},
   "source": [
    "## Concatenate categorical and <20 unique levels numerical cols"
   ]
  },
  {
   "cell_type": "code",
   "execution_count": 19,
   "id": "4687b57c",
   "metadata": {
    "scrolled": true
   },
   "outputs": [
    {
     "data": {
      "text/html": [
       "<div>\n",
       "<style scoped>\n",
       "    .dataframe tbody tr th:only-of-type {\n",
       "        vertical-align: middle;\n",
       "    }\n",
       "\n",
       "    .dataframe tbody tr th {\n",
       "        vertical-align: top;\n",
       "    }\n",
       "\n",
       "    .dataframe thead th {\n",
       "        text-align: right;\n",
       "    }\n",
       "</style>\n",
       "<table border=\"1\" class=\"dataframe\">\n",
       "  <thead>\n",
       "    <tr style=\"text-align: right;\">\n",
       "      <th></th>\n",
       "      <th>hotel</th>\n",
       "      <th>arrival_month_year</th>\n",
       "      <th>arrival_date_month</th>\n",
       "      <th>meal</th>\n",
       "      <th>country</th>\n",
       "      <th>market_segment</th>\n",
       "      <th>distribution_channel</th>\n",
       "      <th>reserved_room_type</th>\n",
       "      <th>assigned_room_type</th>\n",
       "      <th>deposit_type</th>\n",
       "      <th>customer_type</th>\n",
       "      <th>reservation_status</th>\n",
       "      <th>reservation_status_date</th>\n",
       "    </tr>\n",
       "  </thead>\n",
       "  <tbody>\n",
       "    <tr>\n",
       "      <th>0</th>\n",
       "      <td>Resort Hotel</td>\n",
       "      <td>July 2015</td>\n",
       "      <td>July</td>\n",
       "      <td>BB</td>\n",
       "      <td>PRT</td>\n",
       "      <td>Direct</td>\n",
       "      <td>Direct</td>\n",
       "      <td>C</td>\n",
       "      <td>C</td>\n",
       "      <td>No Deposit</td>\n",
       "      <td>Transient</td>\n",
       "      <td>Check-Out</td>\n",
       "      <td>01-07-2015</td>\n",
       "    </tr>\n",
       "    <tr>\n",
       "      <th>1</th>\n",
       "      <td>Resort Hotel</td>\n",
       "      <td>July 2015</td>\n",
       "      <td>July</td>\n",
       "      <td>BB</td>\n",
       "      <td>PRT</td>\n",
       "      <td>Direct</td>\n",
       "      <td>Direct</td>\n",
       "      <td>C</td>\n",
       "      <td>C</td>\n",
       "      <td>No Deposit</td>\n",
       "      <td>Transient</td>\n",
       "      <td>Check-Out</td>\n",
       "      <td>01-07-2015</td>\n",
       "    </tr>\n",
       "    <tr>\n",
       "      <th>2</th>\n",
       "      <td>Resort Hotel</td>\n",
       "      <td>July 2015</td>\n",
       "      <td>July</td>\n",
       "      <td>BB</td>\n",
       "      <td>GBR</td>\n",
       "      <td>Direct</td>\n",
       "      <td>Direct</td>\n",
       "      <td>A</td>\n",
       "      <td>C</td>\n",
       "      <td>No Deposit</td>\n",
       "      <td>Transient</td>\n",
       "      <td>Check-Out</td>\n",
       "      <td>02-07-2015</td>\n",
       "    </tr>\n",
       "    <tr>\n",
       "      <th>3</th>\n",
       "      <td>Resort Hotel</td>\n",
       "      <td>July 2015</td>\n",
       "      <td>July</td>\n",
       "      <td>BB</td>\n",
       "      <td>GBR</td>\n",
       "      <td>Corporate</td>\n",
       "      <td>Corporate</td>\n",
       "      <td>A</td>\n",
       "      <td>A</td>\n",
       "      <td>No Deposit</td>\n",
       "      <td>Transient</td>\n",
       "      <td>Check-Out</td>\n",
       "      <td>02-07-2015</td>\n",
       "    </tr>\n",
       "    <tr>\n",
       "      <th>4</th>\n",
       "      <td>Resort Hotel</td>\n",
       "      <td>July 2015</td>\n",
       "      <td>July</td>\n",
       "      <td>BB</td>\n",
       "      <td>GBR</td>\n",
       "      <td>Online TA</td>\n",
       "      <td>TA/TO</td>\n",
       "      <td>A</td>\n",
       "      <td>A</td>\n",
       "      <td>No Deposit</td>\n",
       "      <td>Transient</td>\n",
       "      <td>Check-Out</td>\n",
       "      <td>03-07-2015</td>\n",
       "    </tr>\n",
       "  </tbody>\n",
       "</table>\n",
       "</div>"
      ],
      "text/plain": [
       "          hotel arrival_month_year arrival_date_month meal country  \\\n",
       "0  Resort Hotel          July 2015               July   BB     PRT   \n",
       "1  Resort Hotel          July 2015               July   BB     PRT   \n",
       "2  Resort Hotel          July 2015               July   BB     GBR   \n",
       "3  Resort Hotel          July 2015               July   BB     GBR   \n",
       "4  Resort Hotel          July 2015               July   BB     GBR   \n",
       "\n",
       "  market_segment distribution_channel reserved_room_type assigned_room_type  \\\n",
       "0         Direct               Direct                  C                  C   \n",
       "1         Direct               Direct                  C                  C   \n",
       "2         Direct               Direct                  A                  C   \n",
       "3      Corporate            Corporate                  A                  A   \n",
       "4      Online TA                TA/TO                  A                  A   \n",
       "\n",
       "  deposit_type customer_type reservation_status reservation_status_date  \n",
       "0   No Deposit     Transient          Check-Out              01-07-2015  \n",
       "1   No Deposit     Transient          Check-Out              01-07-2015  \n",
       "2   No Deposit     Transient          Check-Out              02-07-2015  \n",
       "3   No Deposit     Transient          Check-Out              02-07-2015  \n",
       "4   No Deposit     Transient          Check-Out              03-07-2015  "
      ]
     },
     "execution_count": 19,
     "metadata": {},
     "output_type": "execute_result"
    }
   ],
   "source": [
    "char.head()"
   ]
  },
  {
   "cell_type": "code",
   "execution_count": 20,
   "id": "717936e0",
   "metadata": {},
   "outputs": [
    {
     "data": {
      "text/plain": [
       "City Hotel      79330\n",
       "Resort Hotel    40060\n",
       "Name: hotel, dtype: int64"
      ]
     },
     "execution_count": 20,
     "metadata": {},
     "output_type": "execute_result"
    }
   ],
   "source": [
    "char['hotel'].value_counts()\n"
   ]
  },
  {
   "cell_type": "code",
   "execution_count": 21,
   "id": "1340769b",
   "metadata": {
    "scrolled": true
   },
   "outputs": [
    {
     "data": {
      "text/plain": [
       "Index(['arrival_date_year', 'stays_in_weekend_nights', 'adults', 'children',\n",
       "       'babies', 'is_repeated_guest', 'previous_cancellations',\n",
       "       'required_car_parking_spaces', 'total_of_special_requests'],\n",
       "      dtype='object')"
      ]
     },
     "execution_count": 21,
     "metadata": {},
     "output_type": "execute_result"
    }
   ],
   "source": [
    "cat_list = num_cat.index\n",
    "cat_list"
   ]
  },
  {
   "cell_type": "code",
   "execution_count": 22,
   "id": "4930ee68",
   "metadata": {
    "scrolled": true
   },
   "outputs": [
    {
     "data": {
      "text/plain": [
       "arrival_date_year                int64\n",
       "stays_in_weekend_nights          int64\n",
       "adults                           int64\n",
       "children                       float64\n",
       "babies                           int64\n",
       "is_repeated_guest                int64\n",
       "previous_cancellations           int64\n",
       "required_car_parking_spaces      int64\n",
       "total_of_special_requests        int64\n",
       "dtype: object"
      ]
     },
     "execution_count": 22,
     "metadata": {},
     "output_type": "execute_result"
    }
   ],
   "source": [
    "num_cat1 = num.loc[:, cat_list]\n",
    "num_cat1.dtypes"
   ]
  },
  {
   "cell_type": "code",
   "execution_count": 23,
   "id": "b315ff42",
   "metadata": {},
   "outputs": [
    {
     "data": {
      "text/plain": [
       "hotel                           object\n",
       "arrival_month_year              object\n",
       "arrival_date_month              object\n",
       "meal                            object\n",
       "country                         object\n",
       "market_segment                  object\n",
       "distribution_channel            object\n",
       "reserved_room_type              object\n",
       "assigned_room_type              object\n",
       "deposit_type                    object\n",
       "customer_type                   object\n",
       "reservation_status              object\n",
       "reservation_status_date         object\n",
       "arrival_date_year                int64\n",
       "stays_in_weekend_nights          int64\n",
       "adults                           int64\n",
       "children                       float64\n",
       "babies                           int64\n",
       "is_repeated_guest                int64\n",
       "previous_cancellations           int64\n",
       "required_car_parking_spaces      int64\n",
       "total_of_special_requests        int64\n",
       "dtype: object"
      ]
     },
     "execution_count": 23,
     "metadata": {},
     "output_type": "execute_result"
    }
   ],
   "source": [
    "char = pd.concat([char, num_cat1], axis = 1, join = 'inner')\n",
    "char.dtypes"
   ]
  },
  {
   "cell_type": "markdown",
   "id": "ef6c2654",
   "metadata": {},
   "source": [
    "## Numerical columns"
   ]
  },
  {
   "cell_type": "code",
   "execution_count": 24,
   "id": "20faa7c7",
   "metadata": {},
   "outputs": [
    {
     "data": {
      "text/html": [
       "<div>\n",
       "<style scoped>\n",
       "    .dataframe tbody tr th:only-of-type {\n",
       "        vertical-align: middle;\n",
       "    }\n",
       "\n",
       "    .dataframe tbody tr th {\n",
       "        vertical-align: top;\n",
       "    }\n",
       "\n",
       "    .dataframe thead th {\n",
       "        text-align: right;\n",
       "    }\n",
       "</style>\n",
       "<table border=\"1\" class=\"dataframe\">\n",
       "  <thead>\n",
       "    <tr style=\"text-align: right;\">\n",
       "      <th></th>\n",
       "      <th>features_levels</th>\n",
       "    </tr>\n",
       "  </thead>\n",
       "  <tbody>\n",
       "    <tr>\n",
       "      <th>lead_time</th>\n",
       "      <td>479</td>\n",
       "    </tr>\n",
       "    <tr>\n",
       "      <th>arrival_date_week_number</th>\n",
       "      <td>53</td>\n",
       "    </tr>\n",
       "    <tr>\n",
       "      <th>arrival_date_day_of_month</th>\n",
       "      <td>31</td>\n",
       "    </tr>\n",
       "    <tr>\n",
       "      <th>stays_in_week_nights</th>\n",
       "      <td>35</td>\n",
       "    </tr>\n",
       "    <tr>\n",
       "      <th>previous_bookings_not_canceled</th>\n",
       "      <td>73</td>\n",
       "    </tr>\n",
       "    <tr>\n",
       "      <th>booking_changes</th>\n",
       "      <td>21</td>\n",
       "    </tr>\n",
       "    <tr>\n",
       "      <th>agent</th>\n",
       "      <td>333</td>\n",
       "    </tr>\n",
       "    <tr>\n",
       "      <th>company</th>\n",
       "      <td>352</td>\n",
       "    </tr>\n",
       "    <tr>\n",
       "      <th>days_in_waiting_list</th>\n",
       "      <td>128</td>\n",
       "    </tr>\n",
       "    <tr>\n",
       "      <th>adr</th>\n",
       "      <td>8879</td>\n",
       "    </tr>\n",
       "  </tbody>\n",
       "</table>\n",
       "</div>"
      ],
      "text/plain": [
       "                                features_levels\n",
       "lead_time                                   479\n",
       "arrival_date_week_number                     53\n",
       "arrival_date_day_of_month                    31\n",
       "stays_in_week_nights                         35\n",
       "previous_bookings_not_canceled               73\n",
       "booking_changes                              21\n",
       "agent                                       333\n",
       "company                                     352\n",
       "days_in_waiting_list                        128\n",
       "adr                                        8879"
      ]
     },
     "execution_count": 24,
     "metadata": {},
     "output_type": "execute_result"
    }
   ],
   "source": [
    "num_n = num_unique_val[num_unique_val['features_levels'] >= 20]\n",
    "num_n"
   ]
  },
  {
   "cell_type": "code",
   "execution_count": null,
   "id": "87f23599",
   "metadata": {},
   "outputs": [],
   "source": []
  },
  {
   "cell_type": "markdown",
   "id": "c20f34e6",
   "metadata": {},
   "source": [
    "## Handling missing values -- Categorical columns"
   ]
  },
  {
   "cell_type": "code",
   "execution_count": 25,
   "id": "caa6b4c3",
   "metadata": {
    "scrolled": true
   },
   "outputs": [
    {
     "data": {
      "text/plain": [
       "hotel                            0\n",
       "arrival_month_year               0\n",
       "arrival_date_month               0\n",
       "meal                             0\n",
       "country                        488\n",
       "market_segment                   0\n",
       "distribution_channel             0\n",
       "reserved_room_type               0\n",
       "assigned_room_type               0\n",
       "deposit_type                     0\n",
       "customer_type                    0\n",
       "reservation_status               0\n",
       "reservation_status_date          0\n",
       "arrival_date_year                0\n",
       "stays_in_weekend_nights          0\n",
       "adults                           0\n",
       "children                         4\n",
       "babies                           0\n",
       "is_repeated_guest                0\n",
       "previous_cancellations           0\n",
       "required_car_parking_spaces      0\n",
       "total_of_special_requests        0\n",
       "dtype: int64"
      ]
     },
     "execution_count": 25,
     "metadata": {},
     "output_type": "execute_result"
    }
   ],
   "source": [
    "char.isnull().sum()"
   ]
  },
  {
   "cell_type": "code",
   "execution_count": 26,
   "id": "af573a1e",
   "metadata": {},
   "outputs": [
    {
     "data": {
      "text/plain": [
       "0    PRT\n",
       "dtype: object"
      ]
     },
     "execution_count": 26,
     "metadata": {},
     "output_type": "execute_result"
    }
   ],
   "source": [
    "mode = char['country'].mode()\n",
    "mode"
   ]
  },
  {
   "cell_type": "code",
   "execution_count": 27,
   "id": "193dde65",
   "metadata": {},
   "outputs": [],
   "source": [
    "#  char.loc[:, 'country']"
   ]
  },
  {
   "cell_type": "code",
   "execution_count": 28,
   "id": "85b30fe0",
   "metadata": {
    "scrolled": true
   },
   "outputs": [],
   "source": [
    "char['country'] = char.loc[:, 'country'].fillna(value = mode[0])"
   ]
  },
  {
   "cell_type": "code",
   "execution_count": 29,
   "id": "df2f816c",
   "metadata": {},
   "outputs": [],
   "source": [
    "# char.isna().sum()"
   ]
  },
  {
   "cell_type": "code",
   "execution_count": 30,
   "id": "a07b04a2",
   "metadata": {},
   "outputs": [
    {
     "data": {
      "text/plain": [
       "0.0     110796\n",
       "1.0       4861\n",
       "2.0       3652\n",
       "3.0         76\n",
       "10.0         1\n",
       "Name: children, dtype: int64"
      ]
     },
     "execution_count": 30,
     "metadata": {},
     "output_type": "execute_result"
    }
   ],
   "source": [
    "char['children'].value_counts()"
   ]
  },
  {
   "cell_type": "code",
   "execution_count": 31,
   "id": "4edf7ffc",
   "metadata": {},
   "outputs": [
    {
     "data": {
      "text/plain": [
       "0.0"
      ]
     },
     "execution_count": 31,
     "metadata": {},
     "output_type": "execute_result"
    }
   ],
   "source": [
    "med = char['children'].median()\n",
    "med"
   ]
  },
  {
   "cell_type": "code",
   "execution_count": 32,
   "id": "ac5cd147",
   "metadata": {
    "scrolled": true
   },
   "outputs": [],
   "source": [
    "char['children'] = char.loc[:, 'children'].fillna(value = med)"
   ]
  },
  {
   "cell_type": "code",
   "execution_count": 33,
   "id": "bd347860",
   "metadata": {},
   "outputs": [
    {
     "data": {
      "text/plain": [
       "hotel                          0\n",
       "arrival_month_year             0\n",
       "arrival_date_month             0\n",
       "meal                           0\n",
       "country                        0\n",
       "market_segment                 0\n",
       "distribution_channel           0\n",
       "reserved_room_type             0\n",
       "assigned_room_type             0\n",
       "deposit_type                   0\n",
       "customer_type                  0\n",
       "reservation_status             0\n",
       "reservation_status_date        0\n",
       "arrival_date_year              0\n",
       "stays_in_weekend_nights        0\n",
       "adults                         0\n",
       "children                       0\n",
       "babies                         0\n",
       "is_repeated_guest              0\n",
       "previous_cancellations         0\n",
       "required_car_parking_spaces    0\n",
       "total_of_special_requests      0\n",
       "dtype: int64"
      ]
     },
     "execution_count": 33,
     "metadata": {},
     "output_type": "execute_result"
    }
   ],
   "source": [
    "char.isna().sum()"
   ]
  },
  {
   "cell_type": "markdown",
   "id": "eaebf516",
   "metadata": {},
   "source": [
    "## Handling missing values -- Numerical columns"
   ]
  },
  {
   "cell_type": "code",
   "execution_count": 34,
   "id": "495200ca",
   "metadata": {},
   "outputs": [
    {
     "data": {
      "text/html": [
       "<div>\n",
       "<style scoped>\n",
       "    .dataframe tbody tr th:only-of-type {\n",
       "        vertical-align: middle;\n",
       "    }\n",
       "\n",
       "    .dataframe tbody tr th {\n",
       "        vertical-align: top;\n",
       "    }\n",
       "\n",
       "    .dataframe thead th {\n",
       "        text-align: right;\n",
       "    }\n",
       "</style>\n",
       "<table border=\"1\" class=\"dataframe\">\n",
       "  <thead>\n",
       "    <tr style=\"text-align: right;\">\n",
       "      <th></th>\n",
       "      <th>lead_time</th>\n",
       "      <th>arrival_date_year</th>\n",
       "      <th>arrival_date_week_number</th>\n",
       "      <th>arrival_date_day_of_month</th>\n",
       "      <th>stays_in_weekend_nights</th>\n",
       "      <th>stays_in_week_nights</th>\n",
       "      <th>adults</th>\n",
       "      <th>children</th>\n",
       "      <th>babies</th>\n",
       "      <th>is_repeated_guest</th>\n",
       "      <th>previous_cancellations</th>\n",
       "      <th>previous_bookings_not_canceled</th>\n",
       "      <th>booking_changes</th>\n",
       "      <th>agent</th>\n",
       "      <th>company</th>\n",
       "      <th>days_in_waiting_list</th>\n",
       "      <th>adr</th>\n",
       "      <th>required_car_parking_spaces</th>\n",
       "      <th>total_of_special_requests</th>\n",
       "    </tr>\n",
       "  </thead>\n",
       "  <tbody>\n",
       "    <tr>\n",
       "      <th>0</th>\n",
       "      <td>342</td>\n",
       "      <td>2015</td>\n",
       "      <td>27</td>\n",
       "      <td>1</td>\n",
       "      <td>0</td>\n",
       "      <td>0</td>\n",
       "      <td>2</td>\n",
       "      <td>0.0</td>\n",
       "      <td>0</td>\n",
       "      <td>0</td>\n",
       "      <td>0</td>\n",
       "      <td>0</td>\n",
       "      <td>3</td>\n",
       "      <td>NaN</td>\n",
       "      <td>NaN</td>\n",
       "      <td>0</td>\n",
       "      <td>0.00</td>\n",
       "      <td>0</td>\n",
       "      <td>0</td>\n",
       "    </tr>\n",
       "    <tr>\n",
       "      <th>1</th>\n",
       "      <td>737</td>\n",
       "      <td>2015</td>\n",
       "      <td>27</td>\n",
       "      <td>1</td>\n",
       "      <td>0</td>\n",
       "      <td>0</td>\n",
       "      <td>2</td>\n",
       "      <td>0.0</td>\n",
       "      <td>0</td>\n",
       "      <td>0</td>\n",
       "      <td>0</td>\n",
       "      <td>0</td>\n",
       "      <td>4</td>\n",
       "      <td>NaN</td>\n",
       "      <td>NaN</td>\n",
       "      <td>0</td>\n",
       "      <td>0.00</td>\n",
       "      <td>0</td>\n",
       "      <td>0</td>\n",
       "    </tr>\n",
       "    <tr>\n",
       "      <th>2</th>\n",
       "      <td>7</td>\n",
       "      <td>2015</td>\n",
       "      <td>27</td>\n",
       "      <td>1</td>\n",
       "      <td>0</td>\n",
       "      <td>1</td>\n",
       "      <td>1</td>\n",
       "      <td>0.0</td>\n",
       "      <td>0</td>\n",
       "      <td>0</td>\n",
       "      <td>0</td>\n",
       "      <td>0</td>\n",
       "      <td>0</td>\n",
       "      <td>NaN</td>\n",
       "      <td>NaN</td>\n",
       "      <td>0</td>\n",
       "      <td>75.00</td>\n",
       "      <td>0</td>\n",
       "      <td>0</td>\n",
       "    </tr>\n",
       "    <tr>\n",
       "      <th>3</th>\n",
       "      <td>13</td>\n",
       "      <td>2015</td>\n",
       "      <td>27</td>\n",
       "      <td>1</td>\n",
       "      <td>0</td>\n",
       "      <td>1</td>\n",
       "      <td>1</td>\n",
       "      <td>0.0</td>\n",
       "      <td>0</td>\n",
       "      <td>0</td>\n",
       "      <td>0</td>\n",
       "      <td>0</td>\n",
       "      <td>0</td>\n",
       "      <td>304.0</td>\n",
       "      <td>NaN</td>\n",
       "      <td>0</td>\n",
       "      <td>75.00</td>\n",
       "      <td>0</td>\n",
       "      <td>0</td>\n",
       "    </tr>\n",
       "    <tr>\n",
       "      <th>4</th>\n",
       "      <td>14</td>\n",
       "      <td>2015</td>\n",
       "      <td>27</td>\n",
       "      <td>1</td>\n",
       "      <td>0</td>\n",
       "      <td>2</td>\n",
       "      <td>2</td>\n",
       "      <td>0.0</td>\n",
       "      <td>0</td>\n",
       "      <td>0</td>\n",
       "      <td>0</td>\n",
       "      <td>0</td>\n",
       "      <td>0</td>\n",
       "      <td>240.0</td>\n",
       "      <td>NaN</td>\n",
       "      <td>0</td>\n",
       "      <td>98.00</td>\n",
       "      <td>0</td>\n",
       "      <td>1</td>\n",
       "    </tr>\n",
       "    <tr>\n",
       "      <th>...</th>\n",
       "      <td>...</td>\n",
       "      <td>...</td>\n",
       "      <td>...</td>\n",
       "      <td>...</td>\n",
       "      <td>...</td>\n",
       "      <td>...</td>\n",
       "      <td>...</td>\n",
       "      <td>...</td>\n",
       "      <td>...</td>\n",
       "      <td>...</td>\n",
       "      <td>...</td>\n",
       "      <td>...</td>\n",
       "      <td>...</td>\n",
       "      <td>...</td>\n",
       "      <td>...</td>\n",
       "      <td>...</td>\n",
       "      <td>...</td>\n",
       "      <td>...</td>\n",
       "      <td>...</td>\n",
       "    </tr>\n",
       "    <tr>\n",
       "      <th>119385</th>\n",
       "      <td>23</td>\n",
       "      <td>2017</td>\n",
       "      <td>35</td>\n",
       "      <td>30</td>\n",
       "      <td>2</td>\n",
       "      <td>5</td>\n",
       "      <td>2</td>\n",
       "      <td>0.0</td>\n",
       "      <td>0</td>\n",
       "      <td>0</td>\n",
       "      <td>0</td>\n",
       "      <td>0</td>\n",
       "      <td>0</td>\n",
       "      <td>394.0</td>\n",
       "      <td>NaN</td>\n",
       "      <td>0</td>\n",
       "      <td>96.14</td>\n",
       "      <td>0</td>\n",
       "      <td>0</td>\n",
       "    </tr>\n",
       "    <tr>\n",
       "      <th>119386</th>\n",
       "      <td>102</td>\n",
       "      <td>2017</td>\n",
       "      <td>35</td>\n",
       "      <td>31</td>\n",
       "      <td>2</td>\n",
       "      <td>5</td>\n",
       "      <td>3</td>\n",
       "      <td>0.0</td>\n",
       "      <td>0</td>\n",
       "      <td>0</td>\n",
       "      <td>0</td>\n",
       "      <td>0</td>\n",
       "      <td>0</td>\n",
       "      <td>9.0</td>\n",
       "      <td>NaN</td>\n",
       "      <td>0</td>\n",
       "      <td>225.43</td>\n",
       "      <td>0</td>\n",
       "      <td>2</td>\n",
       "    </tr>\n",
       "    <tr>\n",
       "      <th>119387</th>\n",
       "      <td>34</td>\n",
       "      <td>2017</td>\n",
       "      <td>35</td>\n",
       "      <td>31</td>\n",
       "      <td>2</td>\n",
       "      <td>5</td>\n",
       "      <td>2</td>\n",
       "      <td>0.0</td>\n",
       "      <td>0</td>\n",
       "      <td>0</td>\n",
       "      <td>0</td>\n",
       "      <td>0</td>\n",
       "      <td>0</td>\n",
       "      <td>9.0</td>\n",
       "      <td>NaN</td>\n",
       "      <td>0</td>\n",
       "      <td>157.71</td>\n",
       "      <td>0</td>\n",
       "      <td>4</td>\n",
       "    </tr>\n",
       "    <tr>\n",
       "      <th>119388</th>\n",
       "      <td>109</td>\n",
       "      <td>2017</td>\n",
       "      <td>35</td>\n",
       "      <td>31</td>\n",
       "      <td>2</td>\n",
       "      <td>5</td>\n",
       "      <td>2</td>\n",
       "      <td>0.0</td>\n",
       "      <td>0</td>\n",
       "      <td>0</td>\n",
       "      <td>0</td>\n",
       "      <td>0</td>\n",
       "      <td>0</td>\n",
       "      <td>89.0</td>\n",
       "      <td>NaN</td>\n",
       "      <td>0</td>\n",
       "      <td>104.40</td>\n",
       "      <td>0</td>\n",
       "      <td>0</td>\n",
       "    </tr>\n",
       "    <tr>\n",
       "      <th>119389</th>\n",
       "      <td>205</td>\n",
       "      <td>2017</td>\n",
       "      <td>35</td>\n",
       "      <td>29</td>\n",
       "      <td>2</td>\n",
       "      <td>7</td>\n",
       "      <td>2</td>\n",
       "      <td>0.0</td>\n",
       "      <td>0</td>\n",
       "      <td>0</td>\n",
       "      <td>0</td>\n",
       "      <td>0</td>\n",
       "      <td>0</td>\n",
       "      <td>9.0</td>\n",
       "      <td>NaN</td>\n",
       "      <td>0</td>\n",
       "      <td>151.20</td>\n",
       "      <td>0</td>\n",
       "      <td>2</td>\n",
       "    </tr>\n",
       "  </tbody>\n",
       "</table>\n",
       "<p>119390 rows × 19 columns</p>\n",
       "</div>"
      ],
      "text/plain": [
       "        lead_time  arrival_date_year  arrival_date_week_number  \\\n",
       "0             342               2015                        27   \n",
       "1             737               2015                        27   \n",
       "2               7               2015                        27   \n",
       "3              13               2015                        27   \n",
       "4              14               2015                        27   \n",
       "...           ...                ...                       ...   \n",
       "119385         23               2017                        35   \n",
       "119386        102               2017                        35   \n",
       "119387         34               2017                        35   \n",
       "119388        109               2017                        35   \n",
       "119389        205               2017                        35   \n",
       "\n",
       "        arrival_date_day_of_month  stays_in_weekend_nights  \\\n",
       "0                               1                        0   \n",
       "1                               1                        0   \n",
       "2                               1                        0   \n",
       "3                               1                        0   \n",
       "4                               1                        0   \n",
       "...                           ...                      ...   \n",
       "119385                         30                        2   \n",
       "119386                         31                        2   \n",
       "119387                         31                        2   \n",
       "119388                         31                        2   \n",
       "119389                         29                        2   \n",
       "\n",
       "        stays_in_week_nights  adults  children  babies  is_repeated_guest  \\\n",
       "0                          0       2       0.0       0                  0   \n",
       "1                          0       2       0.0       0                  0   \n",
       "2                          1       1       0.0       0                  0   \n",
       "3                          1       1       0.0       0                  0   \n",
       "4                          2       2       0.0       0                  0   \n",
       "...                      ...     ...       ...     ...                ...   \n",
       "119385                     5       2       0.0       0                  0   \n",
       "119386                     5       3       0.0       0                  0   \n",
       "119387                     5       2       0.0       0                  0   \n",
       "119388                     5       2       0.0       0                  0   \n",
       "119389                     7       2       0.0       0                  0   \n",
       "\n",
       "        previous_cancellations  previous_bookings_not_canceled  \\\n",
       "0                            0                               0   \n",
       "1                            0                               0   \n",
       "2                            0                               0   \n",
       "3                            0                               0   \n",
       "4                            0                               0   \n",
       "...                        ...                             ...   \n",
       "119385                       0                               0   \n",
       "119386                       0                               0   \n",
       "119387                       0                               0   \n",
       "119388                       0                               0   \n",
       "119389                       0                               0   \n",
       "\n",
       "        booking_changes  agent  company  days_in_waiting_list     adr  \\\n",
       "0                     3    NaN      NaN                     0    0.00   \n",
       "1                     4    NaN      NaN                     0    0.00   \n",
       "2                     0    NaN      NaN                     0   75.00   \n",
       "3                     0  304.0      NaN                     0   75.00   \n",
       "4                     0  240.0      NaN                     0   98.00   \n",
       "...                 ...    ...      ...                   ...     ...   \n",
       "119385                0  394.0      NaN                     0   96.14   \n",
       "119386                0    9.0      NaN                     0  225.43   \n",
       "119387                0    9.0      NaN                     0  157.71   \n",
       "119388                0   89.0      NaN                     0  104.40   \n",
       "119389                0    9.0      NaN                     0  151.20   \n",
       "\n",
       "        required_car_parking_spaces  total_of_special_requests  \n",
       "0                                 0                          0  \n",
       "1                                 0                          0  \n",
       "2                                 0                          0  \n",
       "3                                 0                          0  \n",
       "4                                 0                          1  \n",
       "...                             ...                        ...  \n",
       "119385                            0                          0  \n",
       "119386                            0                          2  \n",
       "119387                            0                          4  \n",
       "119388                            0                          0  \n",
       "119389                            0                          2  \n",
       "\n",
       "[119390 rows x 19 columns]"
      ]
     },
     "execution_count": 34,
     "metadata": {},
     "output_type": "execute_result"
    }
   ],
   "source": [
    "num"
   ]
  },
  {
   "cell_type": "code",
   "execution_count": 35,
   "id": "3cc25a92",
   "metadata": {},
   "outputs": [
    {
     "data": {
      "text/plain": [
       "Index(['lead_time', 'arrival_date_week_number', 'arrival_date_day_of_month',\n",
       "       'stays_in_week_nights', 'previous_bookings_not_canceled',\n",
       "       'booking_changes', 'agent', 'company', 'days_in_waiting_list', 'adr'],\n",
       "      dtype='object')"
      ]
     },
     "execution_count": 35,
     "metadata": {},
     "output_type": "execute_result"
    }
   ],
   "source": [
    "num_list = num_n.index\n",
    "num_list"
   ]
  },
  {
   "cell_type": "code",
   "execution_count": 36,
   "id": "e6c63e0e",
   "metadata": {},
   "outputs": [
    {
     "data": {
      "text/plain": [
       "lead_time                           int64\n",
       "arrival_date_week_number            int64\n",
       "arrival_date_day_of_month           int64\n",
       "stays_in_week_nights                int64\n",
       "previous_bookings_not_canceled      int64\n",
       "booking_changes                     int64\n",
       "agent                             float64\n",
       "company                           float64\n",
       "days_in_waiting_list                int64\n",
       "adr                               float64\n",
       "dtype: object"
      ]
     },
     "execution_count": 36,
     "metadata": {},
     "output_type": "execute_result"
    }
   ],
   "source": [
    "num = num.loc[:, num_list]\n",
    "num.dtypes"
   ]
  },
  {
   "cell_type": "code",
   "execution_count": 37,
   "id": "01e135a0",
   "metadata": {},
   "outputs": [
    {
     "data": {
      "text/plain": [
       "lead_time                              0\n",
       "arrival_date_week_number               0\n",
       "arrival_date_day_of_month              0\n",
       "stays_in_week_nights                   0\n",
       "previous_bookings_not_canceled         0\n",
       "booking_changes                        0\n",
       "agent                              16340\n",
       "company                           112593\n",
       "days_in_waiting_list                   0\n",
       "adr                                    0\n",
       "dtype: int64"
      ]
     },
     "execution_count": 37,
     "metadata": {},
     "output_type": "execute_result"
    }
   ],
   "source": [
    "num.isna().sum()"
   ]
  },
  {
   "cell_type": "code",
   "execution_count": 38,
   "id": "35aa31d2",
   "metadata": {},
   "outputs": [
    {
     "data": {
      "text/plain": [
       "9.0      31961\n",
       "240.0    13922\n",
       "1.0       7191\n",
       "14.0      3640\n",
       "7.0       3539\n",
       "         ...  \n",
       "304.0        1\n",
       "431.0        1\n",
       "278.0        1\n",
       "450.0        1\n",
       "114.0        1\n",
       "Name: agent, Length: 333, dtype: int64"
      ]
     },
     "execution_count": 38,
     "metadata": {},
     "output_type": "execute_result"
    }
   ],
   "source": [
    "num['agent'].value_counts()"
   ]
  },
  {
   "cell_type": "code",
   "execution_count": 39,
   "id": "a0a38de9",
   "metadata": {},
   "outputs": [],
   "source": [
    "num['agent'] = num.loc[:, 'agent'].fillna(value = num['agent'].mode()[0])"
   ]
  },
  {
   "cell_type": "code",
   "execution_count": 40,
   "id": "3f57e99e",
   "metadata": {},
   "outputs": [
    {
     "data": {
      "text/html": [
       "<div>\n",
       "<style scoped>\n",
       "    .dataframe tbody tr th:only-of-type {\n",
       "        vertical-align: middle;\n",
       "    }\n",
       "\n",
       "    .dataframe tbody tr th {\n",
       "        vertical-align: top;\n",
       "    }\n",
       "\n",
       "    .dataframe thead th {\n",
       "        text-align: right;\n",
       "    }\n",
       "</style>\n",
       "<table border=\"1\" class=\"dataframe\">\n",
       "  <thead>\n",
       "    <tr style=\"text-align: right;\">\n",
       "      <th></th>\n",
       "      <th>lead_time</th>\n",
       "      <th>arrival_date_week_number</th>\n",
       "      <th>arrival_date_day_of_month</th>\n",
       "      <th>stays_in_week_nights</th>\n",
       "      <th>previous_bookings_not_canceled</th>\n",
       "      <th>booking_changes</th>\n",
       "      <th>agent</th>\n",
       "      <th>company</th>\n",
       "      <th>days_in_waiting_list</th>\n",
       "      <th>adr</th>\n",
       "    </tr>\n",
       "  </thead>\n",
       "  <tbody>\n",
       "    <tr>\n",
       "      <th>0</th>\n",
       "      <td>342</td>\n",
       "      <td>27</td>\n",
       "      <td>1</td>\n",
       "      <td>0</td>\n",
       "      <td>0</td>\n",
       "      <td>3</td>\n",
       "      <td>9.0</td>\n",
       "      <td>NaN</td>\n",
       "      <td>0</td>\n",
       "      <td>0.0</td>\n",
       "    </tr>\n",
       "    <tr>\n",
       "      <th>1</th>\n",
       "      <td>737</td>\n",
       "      <td>27</td>\n",
       "      <td>1</td>\n",
       "      <td>0</td>\n",
       "      <td>0</td>\n",
       "      <td>4</td>\n",
       "      <td>9.0</td>\n",
       "      <td>NaN</td>\n",
       "      <td>0</td>\n",
       "      <td>0.0</td>\n",
       "    </tr>\n",
       "    <tr>\n",
       "      <th>2</th>\n",
       "      <td>7</td>\n",
       "      <td>27</td>\n",
       "      <td>1</td>\n",
       "      <td>1</td>\n",
       "      <td>0</td>\n",
       "      <td>0</td>\n",
       "      <td>9.0</td>\n",
       "      <td>NaN</td>\n",
       "      <td>0</td>\n",
       "      <td>75.0</td>\n",
       "    </tr>\n",
       "    <tr>\n",
       "      <th>3</th>\n",
       "      <td>13</td>\n",
       "      <td>27</td>\n",
       "      <td>1</td>\n",
       "      <td>1</td>\n",
       "      <td>0</td>\n",
       "      <td>0</td>\n",
       "      <td>304.0</td>\n",
       "      <td>NaN</td>\n",
       "      <td>0</td>\n",
       "      <td>75.0</td>\n",
       "    </tr>\n",
       "    <tr>\n",
       "      <th>4</th>\n",
       "      <td>14</td>\n",
       "      <td>27</td>\n",
       "      <td>1</td>\n",
       "      <td>2</td>\n",
       "      <td>0</td>\n",
       "      <td>0</td>\n",
       "      <td>240.0</td>\n",
       "      <td>NaN</td>\n",
       "      <td>0</td>\n",
       "      <td>98.0</td>\n",
       "    </tr>\n",
       "  </tbody>\n",
       "</table>\n",
       "</div>"
      ],
      "text/plain": [
       "   lead_time  arrival_date_week_number  arrival_date_day_of_month  \\\n",
       "0        342                        27                          1   \n",
       "1        737                        27                          1   \n",
       "2          7                        27                          1   \n",
       "3         13                        27                          1   \n",
       "4         14                        27                          1   \n",
       "\n",
       "   stays_in_week_nights  previous_bookings_not_canceled  booking_changes  \\\n",
       "0                     0                               0                3   \n",
       "1                     0                               0                4   \n",
       "2                     1                               0                0   \n",
       "3                     1                               0                0   \n",
       "4                     2                               0                0   \n",
       "\n",
       "   agent  company  days_in_waiting_list   adr  \n",
       "0    9.0      NaN                     0   0.0  \n",
       "1    9.0      NaN                     0   0.0  \n",
       "2    9.0      NaN                     0  75.0  \n",
       "3  304.0      NaN                     0  75.0  \n",
       "4  240.0      NaN                     0  98.0  "
      ]
     },
     "execution_count": 40,
     "metadata": {},
     "output_type": "execute_result"
    }
   ],
   "source": [
    "num.head()"
   ]
  },
  {
   "cell_type": "code",
   "execution_count": 41,
   "id": "6c7c76cd",
   "metadata": {},
   "outputs": [
    {
     "data": {
      "text/plain": [
       "lead_time                              0\n",
       "arrival_date_week_number               0\n",
       "arrival_date_day_of_month              0\n",
       "stays_in_week_nights                   0\n",
       "previous_bookings_not_canceled         0\n",
       "booking_changes                        0\n",
       "agent                                  0\n",
       "company                           112593\n",
       "days_in_waiting_list                   0\n",
       "adr                                    0\n",
       "dtype: int64"
      ]
     },
     "execution_count": 41,
     "metadata": {},
     "output_type": "execute_result"
    }
   ],
   "source": [
    "num.isna().sum()"
   ]
  },
  {
   "cell_type": "code",
   "execution_count": 42,
   "id": "678995e9",
   "metadata": {},
   "outputs": [
    {
     "data": {
      "text/plain": [
       "94.30689337465449"
      ]
     },
     "execution_count": 42,
     "metadata": {},
     "output_type": "execute_result"
    }
   ],
   "source": [
    "miss_val_percentage = num['company'].isna().sum() / num.shape[0] * 100\n",
    "miss_val_percentage"
   ]
  },
  {
   "cell_type": "markdown",
   "id": "ab1bccd5",
   "metadata": {},
   "source": [
    "- Since the missing value % in company column is 94.34 %, so it can be dropped."
   ]
  },
  {
   "cell_type": "code",
   "execution_count": 43,
   "id": "4106bf3e",
   "metadata": {},
   "outputs": [
    {
     "data": {
      "text/plain": [
       "lead_time                           int64\n",
       "arrival_date_week_number            int64\n",
       "arrival_date_day_of_month           int64\n",
       "stays_in_week_nights                int64\n",
       "previous_bookings_not_canceled      int64\n",
       "booking_changes                     int64\n",
       "agent                             float64\n",
       "days_in_waiting_list                int64\n",
       "adr                               float64\n",
       "dtype: object"
      ]
     },
     "execution_count": 43,
     "metadata": {},
     "output_type": "execute_result"
    }
   ],
   "source": [
    "num = num.drop('company', axis=1)\n",
    "num.dtypes"
   ]
  },
  {
   "cell_type": "code",
   "execution_count": 44,
   "id": "085ffa76",
   "metadata": {},
   "outputs": [
    {
     "data": {
      "text/plain": [
       "lead_time                         0\n",
       "arrival_date_week_number          0\n",
       "arrival_date_day_of_month         0\n",
       "stays_in_week_nights              0\n",
       "previous_bookings_not_canceled    0\n",
       "booking_changes                   0\n",
       "agent                             0\n",
       "days_in_waiting_list              0\n",
       "adr                               0\n",
       "dtype: int64"
      ]
     },
     "execution_count": 44,
     "metadata": {},
     "output_type": "execute_result"
    }
   ],
   "source": [
    "num.isna().sum()"
   ]
  },
  {
   "cell_type": "markdown",
   "id": "40f96a67",
   "metadata": {},
   "source": [
    "# Treating Outliers for Numerical features"
   ]
  },
  {
   "cell_type": "code",
   "execution_count": 45,
   "id": "d839465f",
   "metadata": {},
   "outputs": [
    {
     "data": {
      "text/html": [
       "<div>\n",
       "<style scoped>\n",
       "    .dataframe tbody tr th:only-of-type {\n",
       "        vertical-align: middle;\n",
       "    }\n",
       "\n",
       "    .dataframe tbody tr th {\n",
       "        vertical-align: top;\n",
       "    }\n",
       "\n",
       "    .dataframe thead th {\n",
       "        text-align: right;\n",
       "    }\n",
       "</style>\n",
       "<table border=\"1\" class=\"dataframe\">\n",
       "  <thead>\n",
       "    <tr style=\"text-align: right;\">\n",
       "      <th></th>\n",
       "      <th>lead_time</th>\n",
       "      <th>arrival_date_week_number</th>\n",
       "      <th>arrival_date_day_of_month</th>\n",
       "      <th>stays_in_week_nights</th>\n",
       "      <th>previous_bookings_not_canceled</th>\n",
       "      <th>booking_changes</th>\n",
       "      <th>agent</th>\n",
       "      <th>days_in_waiting_list</th>\n",
       "      <th>adr</th>\n",
       "    </tr>\n",
       "  </thead>\n",
       "  <tbody>\n",
       "    <tr>\n",
       "      <th>count</th>\n",
       "      <td>119390.000000</td>\n",
       "      <td>119390.000000</td>\n",
       "      <td>119390.000000</td>\n",
       "      <td>119390.000000</td>\n",
       "      <td>119390.000000</td>\n",
       "      <td>119390.000000</td>\n",
       "      <td>119390.000000</td>\n",
       "      <td>119390.000000</td>\n",
       "      <td>119390.000000</td>\n",
       "    </tr>\n",
       "    <tr>\n",
       "      <th>mean</th>\n",
       "      <td>104.011416</td>\n",
       "      <td>27.165173</td>\n",
       "      <td>15.798241</td>\n",
       "      <td>2.500302</td>\n",
       "      <td>0.137097</td>\n",
       "      <td>0.221124</td>\n",
       "      <td>76.060080</td>\n",
       "      <td>2.321149</td>\n",
       "      <td>101.831122</td>\n",
       "    </tr>\n",
       "    <tr>\n",
       "      <th>std</th>\n",
       "      <td>106.863097</td>\n",
       "      <td>13.605138</td>\n",
       "      <td>8.780829</td>\n",
       "      <td>1.908286</td>\n",
       "      <td>1.497437</td>\n",
       "      <td>0.652306</td>\n",
       "      <td>106.323205</td>\n",
       "      <td>17.594721</td>\n",
       "      <td>50.535790</td>\n",
       "    </tr>\n",
       "    <tr>\n",
       "      <th>min</th>\n",
       "      <td>0.000000</td>\n",
       "      <td>1.000000</td>\n",
       "      <td>1.000000</td>\n",
       "      <td>0.000000</td>\n",
       "      <td>0.000000</td>\n",
       "      <td>0.000000</td>\n",
       "      <td>1.000000</td>\n",
       "      <td>0.000000</td>\n",
       "      <td>-6.380000</td>\n",
       "    </tr>\n",
       "    <tr>\n",
       "      <th>25%</th>\n",
       "      <td>18.000000</td>\n",
       "      <td>16.000000</td>\n",
       "      <td>8.000000</td>\n",
       "      <td>1.000000</td>\n",
       "      <td>0.000000</td>\n",
       "      <td>0.000000</td>\n",
       "      <td>9.000000</td>\n",
       "      <td>0.000000</td>\n",
       "      <td>69.290000</td>\n",
       "    </tr>\n",
       "    <tr>\n",
       "      <th>50%</th>\n",
       "      <td>69.000000</td>\n",
       "      <td>28.000000</td>\n",
       "      <td>16.000000</td>\n",
       "      <td>2.000000</td>\n",
       "      <td>0.000000</td>\n",
       "      <td>0.000000</td>\n",
       "      <td>9.000000</td>\n",
       "      <td>0.000000</td>\n",
       "      <td>94.575000</td>\n",
       "    </tr>\n",
       "    <tr>\n",
       "      <th>75%</th>\n",
       "      <td>160.000000</td>\n",
       "      <td>38.000000</td>\n",
       "      <td>23.000000</td>\n",
       "      <td>3.000000</td>\n",
       "      <td>0.000000</td>\n",
       "      <td>0.000000</td>\n",
       "      <td>152.000000</td>\n",
       "      <td>0.000000</td>\n",
       "      <td>126.000000</td>\n",
       "    </tr>\n",
       "    <tr>\n",
       "      <th>max</th>\n",
       "      <td>737.000000</td>\n",
       "      <td>53.000000</td>\n",
       "      <td>31.000000</td>\n",
       "      <td>50.000000</td>\n",
       "      <td>72.000000</td>\n",
       "      <td>21.000000</td>\n",
       "      <td>535.000000</td>\n",
       "      <td>391.000000</td>\n",
       "      <td>5400.000000</td>\n",
       "    </tr>\n",
       "  </tbody>\n",
       "</table>\n",
       "</div>"
      ],
      "text/plain": [
       "           lead_time  arrival_date_week_number  arrival_date_day_of_month  \\\n",
       "count  119390.000000             119390.000000              119390.000000   \n",
       "mean      104.011416                 27.165173                  15.798241   \n",
       "std       106.863097                 13.605138                   8.780829   \n",
       "min         0.000000                  1.000000                   1.000000   \n",
       "25%        18.000000                 16.000000                   8.000000   \n",
       "50%        69.000000                 28.000000                  16.000000   \n",
       "75%       160.000000                 38.000000                  23.000000   \n",
       "max       737.000000                 53.000000                  31.000000   \n",
       "\n",
       "       stays_in_week_nights  previous_bookings_not_canceled  booking_changes  \\\n",
       "count         119390.000000                   119390.000000    119390.000000   \n",
       "mean               2.500302                        0.137097         0.221124   \n",
       "std                1.908286                        1.497437         0.652306   \n",
       "min                0.000000                        0.000000         0.000000   \n",
       "25%                1.000000                        0.000000         0.000000   \n",
       "50%                2.000000                        0.000000         0.000000   \n",
       "75%                3.000000                        0.000000         0.000000   \n",
       "max               50.000000                       72.000000        21.000000   \n",
       "\n",
       "               agent  days_in_waiting_list            adr  \n",
       "count  119390.000000         119390.000000  119390.000000  \n",
       "mean       76.060080              2.321149     101.831122  \n",
       "std       106.323205             17.594721      50.535790  \n",
       "min         1.000000              0.000000      -6.380000  \n",
       "25%         9.000000              0.000000      69.290000  \n",
       "50%         9.000000              0.000000      94.575000  \n",
       "75%       152.000000              0.000000     126.000000  \n",
       "max       535.000000            391.000000    5400.000000  "
      ]
     },
     "execution_count": 45,
     "metadata": {},
     "output_type": "execute_result"
    }
   ],
   "source": [
    "num.describe()"
   ]
  },
  {
   "cell_type": "code",
   "execution_count": 46,
   "id": "a591548f",
   "metadata": {},
   "outputs": [
    {
     "data": {
      "text/html": [
       "<div>\n",
       "<style scoped>\n",
       "    .dataframe tbody tr th:only-of-type {\n",
       "        vertical-align: middle;\n",
       "    }\n",
       "\n",
       "    .dataframe tbody tr th {\n",
       "        vertical-align: top;\n",
       "    }\n",
       "\n",
       "    .dataframe thead th {\n",
       "        text-align: right;\n",
       "    }\n",
       "</style>\n",
       "<table border=\"1\" class=\"dataframe\">\n",
       "  <thead>\n",
       "    <tr style=\"text-align: right;\">\n",
       "      <th></th>\n",
       "      <th>lead_time</th>\n",
       "      <th>arrival_date_week_number</th>\n",
       "      <th>arrival_date_day_of_month</th>\n",
       "      <th>stays_in_week_nights</th>\n",
       "      <th>previous_bookings_not_canceled</th>\n",
       "      <th>booking_changes</th>\n",
       "      <th>agent</th>\n",
       "      <th>days_in_waiting_list</th>\n",
       "      <th>adr</th>\n",
       "    </tr>\n",
       "  </thead>\n",
       "  <tbody>\n",
       "    <tr>\n",
       "      <th>count</th>\n",
       "      <td>119390.000000</td>\n",
       "      <td>119390.000000</td>\n",
       "      <td>119390.000000</td>\n",
       "      <td>119390.000000</td>\n",
       "      <td>119390.000000</td>\n",
       "      <td>119390.000000</td>\n",
       "      <td>119390.000000</td>\n",
       "      <td>119390.000000</td>\n",
       "      <td>119390.000000</td>\n",
       "    </tr>\n",
       "    <tr>\n",
       "      <th>mean</th>\n",
       "      <td>104.011416</td>\n",
       "      <td>27.165173</td>\n",
       "      <td>15.798241</td>\n",
       "      <td>2.500302</td>\n",
       "      <td>0.137097</td>\n",
       "      <td>0.221124</td>\n",
       "      <td>76.060080</td>\n",
       "      <td>2.321149</td>\n",
       "      <td>101.831122</td>\n",
       "    </tr>\n",
       "    <tr>\n",
       "      <th>std</th>\n",
       "      <td>106.863097</td>\n",
       "      <td>13.605138</td>\n",
       "      <td>8.780829</td>\n",
       "      <td>1.908286</td>\n",
       "      <td>1.497437</td>\n",
       "      <td>0.652306</td>\n",
       "      <td>106.323205</td>\n",
       "      <td>17.594721</td>\n",
       "      <td>50.535790</td>\n",
       "    </tr>\n",
       "    <tr>\n",
       "      <th>min</th>\n",
       "      <td>0.000000</td>\n",
       "      <td>1.000000</td>\n",
       "      <td>1.000000</td>\n",
       "      <td>0.000000</td>\n",
       "      <td>0.000000</td>\n",
       "      <td>0.000000</td>\n",
       "      <td>1.000000</td>\n",
       "      <td>0.000000</td>\n",
       "      <td>-6.380000</td>\n",
       "    </tr>\n",
       "    <tr>\n",
       "      <th>1%</th>\n",
       "      <td>0.000000</td>\n",
       "      <td>2.000000</td>\n",
       "      <td>1.000000</td>\n",
       "      <td>0.000000</td>\n",
       "      <td>0.000000</td>\n",
       "      <td>0.000000</td>\n",
       "      <td>1.000000</td>\n",
       "      <td>0.000000</td>\n",
       "      <td>0.000000</td>\n",
       "    </tr>\n",
       "    <tr>\n",
       "      <th>5%</th>\n",
       "      <td>0.000000</td>\n",
       "      <td>5.000000</td>\n",
       "      <td>2.000000</td>\n",
       "      <td>0.000000</td>\n",
       "      <td>0.000000</td>\n",
       "      <td>0.000000</td>\n",
       "      <td>1.000000</td>\n",
       "      <td>0.000000</td>\n",
       "      <td>38.400000</td>\n",
       "    </tr>\n",
       "    <tr>\n",
       "      <th>10%</th>\n",
       "      <td>3.000000</td>\n",
       "      <td>8.000000</td>\n",
       "      <td>4.000000</td>\n",
       "      <td>1.000000</td>\n",
       "      <td>0.000000</td>\n",
       "      <td>0.000000</td>\n",
       "      <td>6.000000</td>\n",
       "      <td>0.000000</td>\n",
       "      <td>50.000000</td>\n",
       "    </tr>\n",
       "    <tr>\n",
       "      <th>20%</th>\n",
       "      <td>11.000000</td>\n",
       "      <td>14.000000</td>\n",
       "      <td>7.000000</td>\n",
       "      <td>1.000000</td>\n",
       "      <td>0.000000</td>\n",
       "      <td>0.000000</td>\n",
       "      <td>9.000000</td>\n",
       "      <td>0.000000</td>\n",
       "      <td>64.000000</td>\n",
       "    </tr>\n",
       "    <tr>\n",
       "      <th>30%</th>\n",
       "      <td>26.000000</td>\n",
       "      <td>18.000000</td>\n",
       "      <td>10.000000</td>\n",
       "      <td>1.000000</td>\n",
       "      <td>0.000000</td>\n",
       "      <td>0.000000</td>\n",
       "      <td>9.000000</td>\n",
       "      <td>0.000000</td>\n",
       "      <td>75.000000</td>\n",
       "    </tr>\n",
       "    <tr>\n",
       "      <th>40%</th>\n",
       "      <td>45.000000</td>\n",
       "      <td>23.000000</td>\n",
       "      <td>13.000000</td>\n",
       "      <td>2.000000</td>\n",
       "      <td>0.000000</td>\n",
       "      <td>0.000000</td>\n",
       "      <td>9.000000</td>\n",
       "      <td>0.000000</td>\n",
       "      <td>85.000000</td>\n",
       "    </tr>\n",
       "    <tr>\n",
       "      <th>50%</th>\n",
       "      <td>69.000000</td>\n",
       "      <td>28.000000</td>\n",
       "      <td>16.000000</td>\n",
       "      <td>2.000000</td>\n",
       "      <td>0.000000</td>\n",
       "      <td>0.000000</td>\n",
       "      <td>9.000000</td>\n",
       "      <td>0.000000</td>\n",
       "      <td>94.575000</td>\n",
       "    </tr>\n",
       "    <tr>\n",
       "      <th>60%</th>\n",
       "      <td>99.000000</td>\n",
       "      <td>32.000000</td>\n",
       "      <td>19.000000</td>\n",
       "      <td>2.000000</td>\n",
       "      <td>0.000000</td>\n",
       "      <td>0.000000</td>\n",
       "      <td>19.000000</td>\n",
       "      <td>0.000000</td>\n",
       "      <td>105.000000</td>\n",
       "    </tr>\n",
       "    <tr>\n",
       "      <th>70%</th>\n",
       "      <td>138.000000</td>\n",
       "      <td>36.000000</td>\n",
       "      <td>22.000000</td>\n",
       "      <td>3.000000</td>\n",
       "      <td>0.000000</td>\n",
       "      <td>0.000000</td>\n",
       "      <td>68.300000</td>\n",
       "      <td>0.000000</td>\n",
       "      <td>118.150000</td>\n",
       "    </tr>\n",
       "    <tr>\n",
       "      <th>80%</th>\n",
       "      <td>184.000000</td>\n",
       "      <td>41.000000</td>\n",
       "      <td>25.000000</td>\n",
       "      <td>4.000000</td>\n",
       "      <td>0.000000</td>\n",
       "      <td>0.000000</td>\n",
       "      <td>240.000000</td>\n",
       "      <td>0.000000</td>\n",
       "      <td>135.000000</td>\n",
       "    </tr>\n",
       "    <tr>\n",
       "      <th>90%</th>\n",
       "      <td>265.000000</td>\n",
       "      <td>46.000000</td>\n",
       "      <td>28.000000</td>\n",
       "      <td>5.000000</td>\n",
       "      <td>0.000000</td>\n",
       "      <td>1.000000</td>\n",
       "      <td>240.000000</td>\n",
       "      <td>0.000000</td>\n",
       "      <td>164.000000</td>\n",
       "    </tr>\n",
       "    <tr>\n",
       "      <th>99%</th>\n",
       "      <td>444.000000</td>\n",
       "      <td>53.000000</td>\n",
       "      <td>31.000000</td>\n",
       "      <td>10.000000</td>\n",
       "      <td>3.000000</td>\n",
       "      <td>3.000000</td>\n",
       "      <td>378.000000</td>\n",
       "      <td>75.000000</td>\n",
       "      <td>252.000000</td>\n",
       "    </tr>\n",
       "    <tr>\n",
       "      <th>max</th>\n",
       "      <td>737.000000</td>\n",
       "      <td>53.000000</td>\n",
       "      <td>31.000000</td>\n",
       "      <td>50.000000</td>\n",
       "      <td>72.000000</td>\n",
       "      <td>21.000000</td>\n",
       "      <td>535.000000</td>\n",
       "      <td>391.000000</td>\n",
       "      <td>5400.000000</td>\n",
       "    </tr>\n",
       "  </tbody>\n",
       "</table>\n",
       "</div>"
      ],
      "text/plain": [
       "           lead_time  arrival_date_week_number  arrival_date_day_of_month  \\\n",
       "count  119390.000000             119390.000000              119390.000000   \n",
       "mean      104.011416                 27.165173                  15.798241   \n",
       "std       106.863097                 13.605138                   8.780829   \n",
       "min         0.000000                  1.000000                   1.000000   \n",
       "1%          0.000000                  2.000000                   1.000000   \n",
       "5%          0.000000                  5.000000                   2.000000   \n",
       "10%         3.000000                  8.000000                   4.000000   \n",
       "20%        11.000000                 14.000000                   7.000000   \n",
       "30%        26.000000                 18.000000                  10.000000   \n",
       "40%        45.000000                 23.000000                  13.000000   \n",
       "50%        69.000000                 28.000000                  16.000000   \n",
       "60%        99.000000                 32.000000                  19.000000   \n",
       "70%       138.000000                 36.000000                  22.000000   \n",
       "80%       184.000000                 41.000000                  25.000000   \n",
       "90%       265.000000                 46.000000                  28.000000   \n",
       "99%       444.000000                 53.000000                  31.000000   \n",
       "max       737.000000                 53.000000                  31.000000   \n",
       "\n",
       "       stays_in_week_nights  previous_bookings_not_canceled  booking_changes  \\\n",
       "count         119390.000000                   119390.000000    119390.000000   \n",
       "mean               2.500302                        0.137097         0.221124   \n",
       "std                1.908286                        1.497437         0.652306   \n",
       "min                0.000000                        0.000000         0.000000   \n",
       "1%                 0.000000                        0.000000         0.000000   \n",
       "5%                 0.000000                        0.000000         0.000000   \n",
       "10%                1.000000                        0.000000         0.000000   \n",
       "20%                1.000000                        0.000000         0.000000   \n",
       "30%                1.000000                        0.000000         0.000000   \n",
       "40%                2.000000                        0.000000         0.000000   \n",
       "50%                2.000000                        0.000000         0.000000   \n",
       "60%                2.000000                        0.000000         0.000000   \n",
       "70%                3.000000                        0.000000         0.000000   \n",
       "80%                4.000000                        0.000000         0.000000   \n",
       "90%                5.000000                        0.000000         1.000000   \n",
       "99%               10.000000                        3.000000         3.000000   \n",
       "max               50.000000                       72.000000        21.000000   \n",
       "\n",
       "               agent  days_in_waiting_list            adr  \n",
       "count  119390.000000         119390.000000  119390.000000  \n",
       "mean       76.060080              2.321149     101.831122  \n",
       "std       106.323205             17.594721      50.535790  \n",
       "min         1.000000              0.000000      -6.380000  \n",
       "1%          1.000000              0.000000       0.000000  \n",
       "5%          1.000000              0.000000      38.400000  \n",
       "10%         6.000000              0.000000      50.000000  \n",
       "20%         9.000000              0.000000      64.000000  \n",
       "30%         9.000000              0.000000      75.000000  \n",
       "40%         9.000000              0.000000      85.000000  \n",
       "50%         9.000000              0.000000      94.575000  \n",
       "60%        19.000000              0.000000     105.000000  \n",
       "70%        68.300000              0.000000     118.150000  \n",
       "80%       240.000000              0.000000     135.000000  \n",
       "90%       240.000000              0.000000     164.000000  \n",
       "99%       378.000000             75.000000     252.000000  \n",
       "max       535.000000            391.000000    5400.000000  "
      ]
     },
     "execution_count": 46,
     "metadata": {},
     "output_type": "execute_result"
    }
   ],
   "source": [
    "num.describe(percentiles=[0.01,0.05,0.1,0.2,0.3,0.4,0.5,0.6,0.7,0.8,0.9,0.99])"
   ]
  },
  {
   "cell_type": "code",
   "execution_count": 47,
   "id": "f8b19958",
   "metadata": {},
   "outputs": [],
   "source": [
    "def outlier_cap(x):\n",
    "    x=x.clip(lower=x.quantile(0.01))\n",
    "    x=x.clip(upper=x.quantile(0.99))\n",
    "    return(x)\n"
   ]
  },
  {
   "cell_type": "code",
   "execution_count": 48,
   "id": "d8c34eb1",
   "metadata": {},
   "outputs": [],
   "source": [
    "num = num.apply(lambda x: outlier_cap(x))"
   ]
  },
  {
   "cell_type": "code",
   "execution_count": 49,
   "id": "b47b7be2",
   "metadata": {},
   "outputs": [
    {
     "data": {
      "text/html": [
       "<div>\n",
       "<style scoped>\n",
       "    .dataframe tbody tr th:only-of-type {\n",
       "        vertical-align: middle;\n",
       "    }\n",
       "\n",
       "    .dataframe tbody tr th {\n",
       "        vertical-align: top;\n",
       "    }\n",
       "\n",
       "    .dataframe thead th {\n",
       "        text-align: right;\n",
       "    }\n",
       "</style>\n",
       "<table border=\"1\" class=\"dataframe\">\n",
       "  <thead>\n",
       "    <tr style=\"text-align: right;\">\n",
       "      <th></th>\n",
       "      <th>lead_time</th>\n",
       "      <th>arrival_date_week_number</th>\n",
       "      <th>arrival_date_day_of_month</th>\n",
       "      <th>stays_in_week_nights</th>\n",
       "      <th>previous_bookings_not_canceled</th>\n",
       "      <th>booking_changes</th>\n",
       "      <th>agent</th>\n",
       "      <th>days_in_waiting_list</th>\n",
       "      <th>adr</th>\n",
       "    </tr>\n",
       "  </thead>\n",
       "  <tbody>\n",
       "    <tr>\n",
       "      <th>count</th>\n",
       "      <td>119390.000000</td>\n",
       "      <td>119390.000000</td>\n",
       "      <td>119390.000000</td>\n",
       "      <td>119390.000000</td>\n",
       "      <td>119390.000000</td>\n",
       "      <td>119390.000000</td>\n",
       "      <td>119390.000000</td>\n",
       "      <td>119390.000000</td>\n",
       "      <td>119390.000000</td>\n",
       "    </tr>\n",
       "    <tr>\n",
       "      <th>mean</th>\n",
       "      <td>103.409180</td>\n",
       "      <td>27.173943</td>\n",
       "      <td>15.798241</td>\n",
       "      <td>2.479211</td>\n",
       "      <td>0.060273</td>\n",
       "      <td>0.209574</td>\n",
       "      <td>75.354753</td>\n",
       "      <td>1.606902</td>\n",
       "      <td>101.461251</td>\n",
       "    </tr>\n",
       "    <tr>\n",
       "      <th>std</th>\n",
       "      <td>104.600923</td>\n",
       "      <td>13.588582</td>\n",
       "      <td>8.780829</td>\n",
       "      <td>1.761267</td>\n",
       "      <td>0.376351</td>\n",
       "      <td>0.555245</td>\n",
       "      <td>103.962674</td>\n",
       "      <td>9.760268</td>\n",
       "      <td>46.905036</td>\n",
       "    </tr>\n",
       "    <tr>\n",
       "      <th>min</th>\n",
       "      <td>0.000000</td>\n",
       "      <td>2.000000</td>\n",
       "      <td>1.000000</td>\n",
       "      <td>0.000000</td>\n",
       "      <td>0.000000</td>\n",
       "      <td>0.000000</td>\n",
       "      <td>1.000000</td>\n",
       "      <td>0.000000</td>\n",
       "      <td>0.000000</td>\n",
       "    </tr>\n",
       "    <tr>\n",
       "      <th>1%</th>\n",
       "      <td>0.000000</td>\n",
       "      <td>2.000000</td>\n",
       "      <td>1.000000</td>\n",
       "      <td>0.000000</td>\n",
       "      <td>0.000000</td>\n",
       "      <td>0.000000</td>\n",
       "      <td>1.000000</td>\n",
       "      <td>0.000000</td>\n",
       "      <td>0.000000</td>\n",
       "    </tr>\n",
       "    <tr>\n",
       "      <th>5%</th>\n",
       "      <td>0.000000</td>\n",
       "      <td>5.000000</td>\n",
       "      <td>2.000000</td>\n",
       "      <td>0.000000</td>\n",
       "      <td>0.000000</td>\n",
       "      <td>0.000000</td>\n",
       "      <td>1.000000</td>\n",
       "      <td>0.000000</td>\n",
       "      <td>38.400000</td>\n",
       "    </tr>\n",
       "    <tr>\n",
       "      <th>10%</th>\n",
       "      <td>3.000000</td>\n",
       "      <td>8.000000</td>\n",
       "      <td>4.000000</td>\n",
       "      <td>1.000000</td>\n",
       "      <td>0.000000</td>\n",
       "      <td>0.000000</td>\n",
       "      <td>6.000000</td>\n",
       "      <td>0.000000</td>\n",
       "      <td>50.000000</td>\n",
       "    </tr>\n",
       "    <tr>\n",
       "      <th>20%</th>\n",
       "      <td>11.000000</td>\n",
       "      <td>14.000000</td>\n",
       "      <td>7.000000</td>\n",
       "      <td>1.000000</td>\n",
       "      <td>0.000000</td>\n",
       "      <td>0.000000</td>\n",
       "      <td>9.000000</td>\n",
       "      <td>0.000000</td>\n",
       "      <td>64.000000</td>\n",
       "    </tr>\n",
       "    <tr>\n",
       "      <th>30%</th>\n",
       "      <td>26.000000</td>\n",
       "      <td>18.000000</td>\n",
       "      <td>10.000000</td>\n",
       "      <td>1.000000</td>\n",
       "      <td>0.000000</td>\n",
       "      <td>0.000000</td>\n",
       "      <td>9.000000</td>\n",
       "      <td>0.000000</td>\n",
       "      <td>75.000000</td>\n",
       "    </tr>\n",
       "    <tr>\n",
       "      <th>40%</th>\n",
       "      <td>45.000000</td>\n",
       "      <td>23.000000</td>\n",
       "      <td>13.000000</td>\n",
       "      <td>2.000000</td>\n",
       "      <td>0.000000</td>\n",
       "      <td>0.000000</td>\n",
       "      <td>9.000000</td>\n",
       "      <td>0.000000</td>\n",
       "      <td>85.000000</td>\n",
       "    </tr>\n",
       "    <tr>\n",
       "      <th>50%</th>\n",
       "      <td>69.000000</td>\n",
       "      <td>28.000000</td>\n",
       "      <td>16.000000</td>\n",
       "      <td>2.000000</td>\n",
       "      <td>0.000000</td>\n",
       "      <td>0.000000</td>\n",
       "      <td>9.000000</td>\n",
       "      <td>0.000000</td>\n",
       "      <td>94.575000</td>\n",
       "    </tr>\n",
       "    <tr>\n",
       "      <th>60%</th>\n",
       "      <td>99.000000</td>\n",
       "      <td>32.000000</td>\n",
       "      <td>19.000000</td>\n",
       "      <td>2.000000</td>\n",
       "      <td>0.000000</td>\n",
       "      <td>0.000000</td>\n",
       "      <td>19.000000</td>\n",
       "      <td>0.000000</td>\n",
       "      <td>105.000000</td>\n",
       "    </tr>\n",
       "    <tr>\n",
       "      <th>70%</th>\n",
       "      <td>138.000000</td>\n",
       "      <td>36.000000</td>\n",
       "      <td>22.000000</td>\n",
       "      <td>3.000000</td>\n",
       "      <td>0.000000</td>\n",
       "      <td>0.000000</td>\n",
       "      <td>68.300000</td>\n",
       "      <td>0.000000</td>\n",
       "      <td>118.150000</td>\n",
       "    </tr>\n",
       "    <tr>\n",
       "      <th>80%</th>\n",
       "      <td>184.000000</td>\n",
       "      <td>41.000000</td>\n",
       "      <td>25.000000</td>\n",
       "      <td>4.000000</td>\n",
       "      <td>0.000000</td>\n",
       "      <td>0.000000</td>\n",
       "      <td>240.000000</td>\n",
       "      <td>0.000000</td>\n",
       "      <td>135.000000</td>\n",
       "    </tr>\n",
       "    <tr>\n",
       "      <th>90%</th>\n",
       "      <td>265.000000</td>\n",
       "      <td>46.000000</td>\n",
       "      <td>28.000000</td>\n",
       "      <td>5.000000</td>\n",
       "      <td>0.000000</td>\n",
       "      <td>1.000000</td>\n",
       "      <td>240.000000</td>\n",
       "      <td>0.000000</td>\n",
       "      <td>164.000000</td>\n",
       "    </tr>\n",
       "    <tr>\n",
       "      <th>99%</th>\n",
       "      <td>444.000000</td>\n",
       "      <td>53.000000</td>\n",
       "      <td>31.000000</td>\n",
       "      <td>10.000000</td>\n",
       "      <td>3.000000</td>\n",
       "      <td>3.000000</td>\n",
       "      <td>378.000000</td>\n",
       "      <td>75.000000</td>\n",
       "      <td>252.000000</td>\n",
       "    </tr>\n",
       "    <tr>\n",
       "      <th>max</th>\n",
       "      <td>444.000000</td>\n",
       "      <td>53.000000</td>\n",
       "      <td>31.000000</td>\n",
       "      <td>10.000000</td>\n",
       "      <td>3.000000</td>\n",
       "      <td>3.000000</td>\n",
       "      <td>378.000000</td>\n",
       "      <td>75.000000</td>\n",
       "      <td>252.000000</td>\n",
       "    </tr>\n",
       "  </tbody>\n",
       "</table>\n",
       "</div>"
      ],
      "text/plain": [
       "           lead_time  arrival_date_week_number  arrival_date_day_of_month  \\\n",
       "count  119390.000000             119390.000000              119390.000000   \n",
       "mean      103.409180                 27.173943                  15.798241   \n",
       "std       104.600923                 13.588582                   8.780829   \n",
       "min         0.000000                  2.000000                   1.000000   \n",
       "1%          0.000000                  2.000000                   1.000000   \n",
       "5%          0.000000                  5.000000                   2.000000   \n",
       "10%         3.000000                  8.000000                   4.000000   \n",
       "20%        11.000000                 14.000000                   7.000000   \n",
       "30%        26.000000                 18.000000                  10.000000   \n",
       "40%        45.000000                 23.000000                  13.000000   \n",
       "50%        69.000000                 28.000000                  16.000000   \n",
       "60%        99.000000                 32.000000                  19.000000   \n",
       "70%       138.000000                 36.000000                  22.000000   \n",
       "80%       184.000000                 41.000000                  25.000000   \n",
       "90%       265.000000                 46.000000                  28.000000   \n",
       "99%       444.000000                 53.000000                  31.000000   \n",
       "max       444.000000                 53.000000                  31.000000   \n",
       "\n",
       "       stays_in_week_nights  previous_bookings_not_canceled  booking_changes  \\\n",
       "count         119390.000000                   119390.000000    119390.000000   \n",
       "mean               2.479211                        0.060273         0.209574   \n",
       "std                1.761267                        0.376351         0.555245   \n",
       "min                0.000000                        0.000000         0.000000   \n",
       "1%                 0.000000                        0.000000         0.000000   \n",
       "5%                 0.000000                        0.000000         0.000000   \n",
       "10%                1.000000                        0.000000         0.000000   \n",
       "20%                1.000000                        0.000000         0.000000   \n",
       "30%                1.000000                        0.000000         0.000000   \n",
       "40%                2.000000                        0.000000         0.000000   \n",
       "50%                2.000000                        0.000000         0.000000   \n",
       "60%                2.000000                        0.000000         0.000000   \n",
       "70%                3.000000                        0.000000         0.000000   \n",
       "80%                4.000000                        0.000000         0.000000   \n",
       "90%                5.000000                        0.000000         1.000000   \n",
       "99%               10.000000                        3.000000         3.000000   \n",
       "max               10.000000                        3.000000         3.000000   \n",
       "\n",
       "               agent  days_in_waiting_list            adr  \n",
       "count  119390.000000         119390.000000  119390.000000  \n",
       "mean       75.354753              1.606902     101.461251  \n",
       "std       103.962674              9.760268      46.905036  \n",
       "min         1.000000              0.000000       0.000000  \n",
       "1%          1.000000              0.000000       0.000000  \n",
       "5%          1.000000              0.000000      38.400000  \n",
       "10%         6.000000              0.000000      50.000000  \n",
       "20%         9.000000              0.000000      64.000000  \n",
       "30%         9.000000              0.000000      75.000000  \n",
       "40%         9.000000              0.000000      85.000000  \n",
       "50%         9.000000              0.000000      94.575000  \n",
       "60%        19.000000              0.000000     105.000000  \n",
       "70%        68.300000              0.000000     118.150000  \n",
       "80%       240.000000              0.000000     135.000000  \n",
       "90%       240.000000              0.000000     164.000000  \n",
       "99%       378.000000             75.000000     252.000000  \n",
       "max       378.000000             75.000000     252.000000  "
      ]
     },
     "execution_count": 49,
     "metadata": {},
     "output_type": "execute_result"
    }
   ],
   "source": [
    "num.describe(percentiles=[0.01,0.05,0.1,0.2,0.3,0.4,0.5,0.6,0.7,0.8,0.9,0.99])"
   ]
  },
  {
   "cell_type": "markdown",
   "id": "c94035da",
   "metadata": {},
   "source": [
    "## Feature Engineering  --  Numerical Columns"
   ]
  },
  {
   "cell_type": "markdown",
   "id": "2018a911",
   "metadata": {},
   "source": [
    "# Part 1:  Remove features with 0 variance"
   ]
  },
  {
   "cell_type": "code",
   "execution_count": 50,
   "id": "62d2f8d1",
   "metadata": {},
   "outputs": [],
   "source": [
    "from sklearn.feature_selection import VarianceThreshold\n",
    "varselector = VarianceThreshold(threshold=0) \n",
    "varselector.fit_transform(num)\n",
    "\n",
    "cols = varselector.get_support(indices=True)\n",
    "\n",
    "num1 = num.iloc[:, cols]"
   ]
  },
  {
   "cell_type": "code",
   "execution_count": 51,
   "id": "aec9fe2a",
   "metadata": {},
   "outputs": [
    {
     "data": {
      "text/plain": [
       "array([0, 1, 2, 3, 4, 5, 6, 7, 8], dtype=int64)"
      ]
     },
     "execution_count": 51,
     "metadata": {},
     "output_type": "execute_result"
    }
   ],
   "source": [
    "cols"
   ]
  },
  {
   "cell_type": "code",
   "execution_count": 52,
   "id": "04c23e65",
   "metadata": {
    "scrolled": true
   },
   "outputs": [
    {
     "data": {
      "text/plain": [
       "lead_time                         342.0\n",
       "arrival_date_week_number           27.0\n",
       "arrival_date_day_of_month           1.0\n",
       "stays_in_week_nights                0.0\n",
       "previous_bookings_not_canceled      0.0\n",
       "booking_changes                     3.0\n",
       "agent                               9.0\n",
       "days_in_waiting_list                0.0\n",
       "adr                                 0.0\n",
       "Name: 0, dtype: float64"
      ]
     },
     "execution_count": 52,
     "metadata": {},
     "output_type": "execute_result"
    }
   ],
   "source": [
    "num1.iloc[0]  ## gives the first row at zeroth index.."
   ]
  },
  {
   "cell_type": "code",
   "execution_count": 53,
   "id": "22ecf3fa",
   "metadata": {},
   "outputs": [],
   "source": [
    "import warnings\n",
    "warnings.filterwarnings('ignore')"
   ]
  },
  {
   "cell_type": "code",
   "execution_count": 54,
   "id": "5dba9cf0",
   "metadata": {},
   "outputs": [
    {
     "data": {
      "text/html": [
       "<div>\n",
       "<style scoped>\n",
       "    .dataframe tbody tr th:only-of-type {\n",
       "        vertical-align: middle;\n",
       "    }\n",
       "\n",
       "    .dataframe tbody tr th {\n",
       "        vertical-align: top;\n",
       "    }\n",
       "\n",
       "    .dataframe thead th {\n",
       "        text-align: right;\n",
       "    }\n",
       "</style>\n",
       "<table border=\"1\" class=\"dataframe\">\n",
       "  <thead>\n",
       "    <tr style=\"text-align: right;\">\n",
       "      <th></th>\n",
       "      <th>lead_time</th>\n",
       "      <th>arrival_date_week_number</th>\n",
       "      <th>arrival_date_day_of_month</th>\n",
       "      <th>stays_in_week_nights</th>\n",
       "      <th>previous_bookings_not_canceled</th>\n",
       "      <th>booking_changes</th>\n",
       "      <th>agent</th>\n",
       "      <th>days_in_waiting_list</th>\n",
       "      <th>adr</th>\n",
       "    </tr>\n",
       "  </thead>\n",
       "  <tbody>\n",
       "    <tr>\n",
       "      <th>119385</th>\n",
       "      <td>23</td>\n",
       "      <td>35</td>\n",
       "      <td>30</td>\n",
       "      <td>5</td>\n",
       "      <td>0</td>\n",
       "      <td>0</td>\n",
       "      <td>378.0</td>\n",
       "      <td>0</td>\n",
       "      <td>96.14</td>\n",
       "    </tr>\n",
       "    <tr>\n",
       "      <th>119386</th>\n",
       "      <td>102</td>\n",
       "      <td>35</td>\n",
       "      <td>31</td>\n",
       "      <td>5</td>\n",
       "      <td>0</td>\n",
       "      <td>0</td>\n",
       "      <td>9.0</td>\n",
       "      <td>0</td>\n",
       "      <td>225.43</td>\n",
       "    </tr>\n",
       "    <tr>\n",
       "      <th>119387</th>\n",
       "      <td>34</td>\n",
       "      <td>35</td>\n",
       "      <td>31</td>\n",
       "      <td>5</td>\n",
       "      <td>0</td>\n",
       "      <td>0</td>\n",
       "      <td>9.0</td>\n",
       "      <td>0</td>\n",
       "      <td>157.71</td>\n",
       "    </tr>\n",
       "    <tr>\n",
       "      <th>119388</th>\n",
       "      <td>109</td>\n",
       "      <td>35</td>\n",
       "      <td>31</td>\n",
       "      <td>5</td>\n",
       "      <td>0</td>\n",
       "      <td>0</td>\n",
       "      <td>89.0</td>\n",
       "      <td>0</td>\n",
       "      <td>104.40</td>\n",
       "    </tr>\n",
       "    <tr>\n",
       "      <th>119389</th>\n",
       "      <td>205</td>\n",
       "      <td>35</td>\n",
       "      <td>29</td>\n",
       "      <td>7</td>\n",
       "      <td>0</td>\n",
       "      <td>0</td>\n",
       "      <td>9.0</td>\n",
       "      <td>0</td>\n",
       "      <td>151.20</td>\n",
       "    </tr>\n",
       "  </tbody>\n",
       "</table>\n",
       "</div>"
      ],
      "text/plain": [
       "        lead_time  arrival_date_week_number  arrival_date_day_of_month  \\\n",
       "119385         23                        35                         30   \n",
       "119386        102                        35                         31   \n",
       "119387         34                        35                         31   \n",
       "119388        109                        35                         31   \n",
       "119389        205                        35                         29   \n",
       "\n",
       "        stays_in_week_nights  previous_bookings_not_canceled  booking_changes  \\\n",
       "119385                     5                               0                0   \n",
       "119386                     5                               0                0   \n",
       "119387                     5                               0                0   \n",
       "119388                     5                               0                0   \n",
       "119389                     7                               0                0   \n",
       "\n",
       "        agent  days_in_waiting_list     adr  \n",
       "119385  378.0                     0   96.14  \n",
       "119386    9.0                     0  225.43  \n",
       "119387    9.0                     0  157.71  \n",
       "119388   89.0                     0  104.40  \n",
       "119389    9.0                     0  151.20  "
      ]
     },
     "execution_count": 54,
     "metadata": {},
     "output_type": "execute_result"
    }
   ],
   "source": [
    "num1.tail()"
   ]
  },
  {
   "cell_type": "markdown",
   "id": "a4e2f495",
   "metadata": {},
   "source": [
    "# Part 1 - Bi Variate Analysis (Feature Discretization)"
   ]
  },
  {
   "cell_type": "code",
   "execution_count": 55,
   "id": "8f38ec1b",
   "metadata": {},
   "outputs": [
    {
     "data": {
      "text/html": [
       "<div>\n",
       "<style scoped>\n",
       "    .dataframe tbody tr th:only-of-type {\n",
       "        vertical-align: middle;\n",
       "    }\n",
       "\n",
       "    .dataframe tbody tr th {\n",
       "        vertical-align: top;\n",
       "    }\n",
       "\n",
       "    .dataframe thead th {\n",
       "        text-align: right;\n",
       "    }\n",
       "</style>\n",
       "<table border=\"1\" class=\"dataframe\">\n",
       "  <thead>\n",
       "    <tr style=\"text-align: right;\">\n",
       "      <th></th>\n",
       "      <th>lead_time_Rank</th>\n",
       "      <th>arrival_date_week_number_Rank</th>\n",
       "      <th>arrival_date_day_of_month_Rank</th>\n",
       "      <th>stays_in_week_nights_Rank</th>\n",
       "      <th>previous_bookings_not_canceled_Rank</th>\n",
       "      <th>booking_changes_Rank</th>\n",
       "      <th>agent_Rank</th>\n",
       "      <th>days_in_waiting_list_Rank</th>\n",
       "      <th>adr_Rank</th>\n",
       "    </tr>\n",
       "  </thead>\n",
       "  <tbody>\n",
       "    <tr>\n",
       "      <th>119385</th>\n",
       "      <td>2.0</td>\n",
       "      <td>6.0</td>\n",
       "      <td>9.0</td>\n",
       "      <td>5.0</td>\n",
       "      <td>0.0</td>\n",
       "      <td>0.0</td>\n",
       "      <td>5.0</td>\n",
       "      <td>0.0</td>\n",
       "      <td>5.0</td>\n",
       "    </tr>\n",
       "    <tr>\n",
       "      <th>119386</th>\n",
       "      <td>6.0</td>\n",
       "      <td>6.0</td>\n",
       "      <td>9.0</td>\n",
       "      <td>5.0</td>\n",
       "      <td>0.0</td>\n",
       "      <td>0.0</td>\n",
       "      <td>2.0</td>\n",
       "      <td>0.0</td>\n",
       "      <td>9.0</td>\n",
       "    </tr>\n",
       "    <tr>\n",
       "      <th>119387</th>\n",
       "      <td>3.0</td>\n",
       "      <td>6.0</td>\n",
       "      <td>9.0</td>\n",
       "      <td>5.0</td>\n",
       "      <td>0.0</td>\n",
       "      <td>0.0</td>\n",
       "      <td>2.0</td>\n",
       "      <td>0.0</td>\n",
       "      <td>8.0</td>\n",
       "    </tr>\n",
       "    <tr>\n",
       "      <th>119388</th>\n",
       "      <td>6.0</td>\n",
       "      <td>6.0</td>\n",
       "      <td>9.0</td>\n",
       "      <td>5.0</td>\n",
       "      <td>0.0</td>\n",
       "      <td>0.0</td>\n",
       "      <td>4.0</td>\n",
       "      <td>0.0</td>\n",
       "      <td>5.0</td>\n",
       "    </tr>\n",
       "    <tr>\n",
       "      <th>119389</th>\n",
       "      <td>8.0</td>\n",
       "      <td>6.0</td>\n",
       "      <td>9.0</td>\n",
       "      <td>5.0</td>\n",
       "      <td>0.0</td>\n",
       "      <td>0.0</td>\n",
       "      <td>2.0</td>\n",
       "      <td>0.0</td>\n",
       "      <td>8.0</td>\n",
       "    </tr>\n",
       "  </tbody>\n",
       "</table>\n",
       "</div>"
      ],
      "text/plain": [
       "        lead_time_Rank  arrival_date_week_number_Rank  \\\n",
       "119385             2.0                            6.0   \n",
       "119386             6.0                            6.0   \n",
       "119387             3.0                            6.0   \n",
       "119388             6.0                            6.0   \n",
       "119389             8.0                            6.0   \n",
       "\n",
       "        arrival_date_day_of_month_Rank  stays_in_week_nights_Rank  \\\n",
       "119385                             9.0                        5.0   \n",
       "119386                             9.0                        5.0   \n",
       "119387                             9.0                        5.0   \n",
       "119388                             9.0                        5.0   \n",
       "119389                             9.0                        5.0   \n",
       "\n",
       "        previous_bookings_not_canceled_Rank  booking_changes_Rank  agent_Rank  \\\n",
       "119385                                  0.0                   0.0         5.0   \n",
       "119386                                  0.0                   0.0         2.0   \n",
       "119387                                  0.0                   0.0         2.0   \n",
       "119388                                  0.0                   0.0         4.0   \n",
       "119389                                  0.0                   0.0         2.0   \n",
       "\n",
       "        days_in_waiting_list_Rank  adr_Rank  \n",
       "119385                        0.0       5.0  \n",
       "119386                        0.0       9.0  \n",
       "119387                        0.0       8.0  \n",
       "119388                        0.0       5.0  \n",
       "119389                        0.0       8.0  "
      ]
     },
     "execution_count": 55,
     "metadata": {},
     "output_type": "execute_result"
    }
   ],
   "source": [
    "from sklearn.preprocessing import KBinsDiscretizer\n",
    "discrete = KBinsDiscretizer(n_bins=10, encode='ordinal', strategy='quantile' )\n",
    "num_binned=pd.DataFrame(discrete.fit_transform(num1), index = num1.index, columns=num1.columns).add_suffix('_Rank')\n",
    "num_binned.tail()"
   ]
  },
  {
   "cell_type": "code",
   "execution_count": 56,
   "id": "ecdef710",
   "metadata": {},
   "outputs": [
    {
     "data": {
      "text/plain": [
       "RangeIndex(start=0, stop=119390, step=1)"
      ]
     },
     "execution_count": 56,
     "metadata": {},
     "output_type": "execute_result"
    }
   ],
   "source": [
    "num1.index\n"
   ]
  },
  {
   "cell_type": "markdown",
   "id": "e0a52bc4",
   "metadata": {},
   "source": [
    "- strategy{‘uniform’, ‘quantile’, ‘kmeans’}, default=’quantile’\n",
    "         Strategy used to define the widths of the bins.\n",
    "\n",
    "    ‘uniform’: All bins in each feature have identical widths.\n",
    "\n",
    "     ‘quantile’: All bins in each feature have the same number of points.\n",
    "\n",
    "     ‘kmeans’: Values in each bin have the same nearest center of a 1D k-means cluster."
   ]
  },
  {
   "cell_type": "markdown",
   "id": "906220e5",
   "metadata": {},
   "source": [
    "\n",
    "- n_binsint or array-like of shape (n_features,), default=5\n",
    "    The number of bins to produce. Raises ValueError if n_bins < 2.\n",
    "\n",
    "    encode{‘onehot’, ‘onehot-dense’, ‘ordinal’}, default=’onehot’\n",
    "    Method used to encode the transformed result.\n",
    "\n",
    "    ‘onehot’: Encode the transformed result with one-hot encoding and return a sparse matrix. Ignored features are always stacked to the right.\n",
    "\n",
    "    ‘onehot-dense’: Encode the transformed result with one-hot encoding and return a dense array. Ignored features are always stacked to the right.\n",
    "\n",
    "    ‘ordinal’: Return the bin identifier encoded as an integer value."
   ]
  },
  {
   "cell_type": "code",
   "execution_count": 57,
   "id": "565ae41c",
   "metadata": {},
   "outputs": [
    {
     "data": {
      "image/png": "[encoded data removed]",
      "text/plain": [
       "<Figure size 432x288 with 1 Axes>"
      ]
     },
     "metadata": {
      "needs_background": "light"
     },
     "output_type": "display_data"
    },
    {
     "data": {
      "image/png": "[encoded data removed]",
      "text/plain": [
       "<Figure size 432x288 with 1 Axes>"
      ]
     },
     "metadata": {
      "needs_background": "light"
     },
     "output_type": "display_data"
    },
    {
     "data": {
      "image/png": "[encoded data removed]",
      "text/plain": [
       "<Figure size 432x288 with 1 Axes>"
      ]
     },
     "metadata": {
      "needs_background": "light"
     },
     "output_type": "display_data"
    },
    {
     "data": {
      "image/png": "[encoded data removed]",
      "text/plain": [
       "<Figure size 432x288 with 1 Axes>"
      ]
     },
     "metadata": {
      "needs_background": "light"
     },
     "output_type": "display_data"
    },
    {
     "data": {
      "image/png": "[encoded data removed]",
      "text/plain": [
       "<Figure size 432x288 with 1 Axes>"
      ]
     },
     "metadata": {
      "needs_background": "light"
     },
     "output_type": "display_data"
    },
    {
     "data": {
      "image/png": "[encoded data removed]",
      "text/plain": [
       "<Figure size 432x288 with 1 Axes>"
      ]
     },
     "metadata": {
      "needs_background": "light"
     },
     "output_type": "display_data"
    },
    {
     "data": {
      "image/png": "[encoded data removed]",
      "text/plain": [
       "<Figure size 432x288 with 1 Axes>"
      ]
     },
     "metadata": {
      "needs_background": "light"
     },
     "output_type": "display_data"
    },
    {
     "data": {
      "image/png": "[encoded data removed]",
      "text/plain": [
       "<Figure size 432x288 with 1 Axes>"
      ]
     },
     "metadata": {
      "needs_background": "light"
     },
     "output_type": "display_data"
    },
    {
     "data": {
      "image/png": "[encoded data removed]",
      "text/plain": [
       "<Figure size 432x288 with 1 Axes>"
      ]
     },
     "metadata": {
      "needs_background": "light"
     },
     "output_type": "display_data"
    }
   ],
   "source": [
    "#Check if the features show a slope at all\n",
    "#If they do, then do you see some deciles below the population average and some higher than population average?\n",
    "#If that is the case then the slope will be strong\n",
    "#Conclusion: A strong slope is indicative of the features' ability to discriminate the event from non event\n",
    "#            making it a good predictor\n",
    "\n",
    "X_bin_combined=pd.concat([Y,num_binned],axis=1,join='inner')\n",
    "\n",
    "from numpy import mean\n",
    "for col in (num_binned.columns):\n",
    "    plt.figure()\n",
    "    sns.lineplot(x=col, y=X_bin_combined['is_canceled'].mean(),data= X_bin_combined, color ='red')\n",
    "    sns.barplot(x=col, y=\"is_canceled\",data=X_bin_combined, estimator=mean )\n",
    "plt.show()"
   ]
  },
  {
   "cell_type": "code",
   "execution_count": 58,
   "id": "c422e898",
   "metadata": {
    "scrolled": true
   },
   "outputs": [
    {
     "data": {
      "text/html": [
       "<div>\n",
       "<style scoped>\n",
       "    .dataframe tbody tr th:only-of-type {\n",
       "        vertical-align: middle;\n",
       "    }\n",
       "\n",
       "    .dataframe tbody tr th {\n",
       "        vertical-align: top;\n",
       "    }\n",
       "\n",
       "    .dataframe thead th {\n",
       "        text-align: right;\n",
       "    }\n",
       "</style>\n",
       "<table border=\"1\" class=\"dataframe\">\n",
       "  <thead>\n",
       "    <tr style=\"text-align: right;\">\n",
       "      <th></th>\n",
       "      <th>lead_time</th>\n",
       "      <th>arrival_date_week_number</th>\n",
       "      <th>arrival_date_day_of_month</th>\n",
       "      <th>stays_in_week_nights</th>\n",
       "      <th>previous_bookings_not_canceled</th>\n",
       "      <th>booking_changes</th>\n",
       "      <th>agent</th>\n",
       "      <th>days_in_waiting_list</th>\n",
       "      <th>adr</th>\n",
       "    </tr>\n",
       "  </thead>\n",
       "  <tbody>\n",
       "    <tr>\n",
       "      <th>0</th>\n",
       "      <td>342</td>\n",
       "      <td>27</td>\n",
       "      <td>1</td>\n",
       "      <td>0</td>\n",
       "      <td>0</td>\n",
       "      <td>3</td>\n",
       "      <td>9.0</td>\n",
       "      <td>0</td>\n",
       "      <td>0.0</td>\n",
       "    </tr>\n",
       "    <tr>\n",
       "      <th>1</th>\n",
       "      <td>444</td>\n",
       "      <td>27</td>\n",
       "      <td>1</td>\n",
       "      <td>0</td>\n",
       "      <td>0</td>\n",
       "      <td>3</td>\n",
       "      <td>9.0</td>\n",
       "      <td>0</td>\n",
       "      <td>0.0</td>\n",
       "    </tr>\n",
       "    <tr>\n",
       "      <th>2</th>\n",
       "      <td>7</td>\n",
       "      <td>27</td>\n",
       "      <td>1</td>\n",
       "      <td>1</td>\n",
       "      <td>0</td>\n",
       "      <td>0</td>\n",
       "      <td>9.0</td>\n",
       "      <td>0</td>\n",
       "      <td>75.0</td>\n",
       "    </tr>\n",
       "    <tr>\n",
       "      <th>3</th>\n",
       "      <td>13</td>\n",
       "      <td>27</td>\n",
       "      <td>1</td>\n",
       "      <td>1</td>\n",
       "      <td>0</td>\n",
       "      <td>0</td>\n",
       "      <td>304.0</td>\n",
       "      <td>0</td>\n",
       "      <td>75.0</td>\n",
       "    </tr>\n",
       "    <tr>\n",
       "      <th>4</th>\n",
       "      <td>14</td>\n",
       "      <td>27</td>\n",
       "      <td>1</td>\n",
       "      <td>2</td>\n",
       "      <td>0</td>\n",
       "      <td>0</td>\n",
       "      <td>240.0</td>\n",
       "      <td>0</td>\n",
       "      <td>98.0</td>\n",
       "    </tr>\n",
       "  </tbody>\n",
       "</table>\n",
       "</div>"
      ],
      "text/plain": [
       "   lead_time  arrival_date_week_number  arrival_date_day_of_month  \\\n",
       "0        342                        27                          1   \n",
       "1        444                        27                          1   \n",
       "2          7                        27                          1   \n",
       "3         13                        27                          1   \n",
       "4         14                        27                          1   \n",
       "\n",
       "   stays_in_week_nights  previous_bookings_not_canceled  booking_changes  \\\n",
       "0                     0                               0                3   \n",
       "1                     0                               0                3   \n",
       "2                     1                               0                0   \n",
       "3                     1                               0                0   \n",
       "4                     2                               0                0   \n",
       "\n",
       "   agent  days_in_waiting_list   adr  \n",
       "0    9.0                     0   0.0  \n",
       "1    9.0                     0   0.0  \n",
       "2    9.0                     0  75.0  \n",
       "3  304.0                     0  75.0  \n",
       "4  240.0                     0  98.0  "
      ]
     },
     "execution_count": 58,
     "metadata": {},
     "output_type": "execute_result"
    }
   ],
   "source": [
    "num1.head()"
   ]
  },
  {
   "cell_type": "code",
   "execution_count": 59,
   "id": "d04137b5",
   "metadata": {},
   "outputs": [],
   "source": [
    "# num1['previous_bookings_not_canceled'].value_counts()"
   ]
  },
  {
   "cell_type": "code",
   "execution_count": 60,
   "id": "74b6248a",
   "metadata": {},
   "outputs": [],
   "source": [
    "# num1['booking_changes'].value_counts()"
   ]
  },
  {
   "cell_type": "code",
   "execution_count": 61,
   "id": "b9b74bc7",
   "metadata": {},
   "outputs": [],
   "source": [
    "# num1['days_in_waiting_list'].value_counts()"
   ]
  },
  {
   "cell_type": "code",
   "execution_count": 62,
   "id": "5de00ca1",
   "metadata": {},
   "outputs": [],
   "source": [
    "## checking for Descriptive Statistics for the following features...\n",
    "\n",
    "# previous_bookings_not_canceled\n",
    "# days_in_waiting_list\n",
    "# booking_changes\n",
    "\n",
    "num1['day_waiting_ind'] = np.where(num1['days_in_waiting_list']>0,1,0)\n",
    "num1['previous_bookings_not_canceled_ind'] = np.where(num1['previous_bookings_not_canceled']>0,1,0)\n",
    "num1['booking_changes_ind'] = np.where(num1['booking_changes']>0,1,0)"
   ]
  },
  {
   "cell_type": "markdown",
   "id": "2622d470",
   "metadata": {},
   "source": [
    "##  Discretize the features \n",
    "\n",
    "    - previous_bookings_not_canceled\n",
    "    - days_in_waiting_list\n",
    "    - booking_changes  \n",
    "\n",
    "📌 then drop the previous ones.."
   ]
  },
  {
   "cell_type": "code",
   "execution_count": 63,
   "id": "cf62389b",
   "metadata": {},
   "outputs": [
    {
     "data": {
      "text/plain": [
       "0    115692\n",
       "1      3698\n",
       "Name: day_waiting_ind, dtype: int64"
      ]
     },
     "execution_count": 63,
     "metadata": {},
     "output_type": "execute_result"
    }
   ],
   "source": [
    "num1['day_waiting_ind'].value_counts()"
   ]
  },
  {
   "cell_type": "code",
   "execution_count": 64,
   "id": "1dd8bb07",
   "metadata": {},
   "outputs": [],
   "source": [
    "num_varlist = ['previous_bookings_not_canceled', 'days_in_waiting_list', 'booking_changes', \n",
    "               'arrival_date_day_of_month', 'arrival_date_week_number']\n",
    "num1 = num1.drop(num_varlist, axis=1)"
   ]
  },
  {
   "cell_type": "code",
   "execution_count": 65,
   "id": "e1f57ea1",
   "metadata": {},
   "outputs": [
    {
     "data": {
      "text/plain": [
       "(119390, 7)"
      ]
     },
     "execution_count": 65,
     "metadata": {},
     "output_type": "execute_result"
    }
   ],
   "source": [
    "num1.shape"
   ]
  },
  {
   "cell_type": "markdown",
   "id": "f535f868",
   "metadata": {},
   "source": [
    "## Part 2: Select K best"
   ]
  },
  {
   "cell_type": "code",
   "execution_count": 66,
   "id": "f6443563",
   "metadata": {},
   "outputs": [],
   "source": [
    "from sklearn.feature_selection import SelectKBest, chi2\n",
    "selector = SelectKBest(chi2, k=4)\n",
    "selector.fit_transform(num1, Y)\n",
    "## Get columns to keep and create dataframe with those features only...\n",
    "\n",
    "cols = selector.get_support(indices=True)\n",
    "select_features_df_num = num.iloc[:, cols]\n"
   ]
  },
  {
   "cell_type": "code",
   "execution_count": 67,
   "id": "259c3113",
   "metadata": {},
   "outputs": [
    {
     "data": {
      "text/plain": [
       "lead_time                    342.0\n",
       "arrival_date_day_of_month      1.0\n",
       "stays_in_week_nights           0.0\n",
       "agent                          9.0\n",
       "Name: 0, dtype: float64"
      ]
     },
     "execution_count": 67,
     "metadata": {},
     "output_type": "execute_result"
    }
   ],
   "source": [
    "select_features_df_num.iloc[0]"
   ]
  },
  {
   "cell_type": "markdown",
   "id": "bd59c8fd",
   "metadata": {},
   "source": [
    "# Feature Selection -- Categorical Features\n"
   ]
  },
  {
   "cell_type": "code",
   "execution_count": 68,
   "id": "f9c0a296",
   "metadata": {
    "scrolled": true
   },
   "outputs": [
    {
     "data": {
      "image/png": "[encoded data removed]",
      "text/plain": [
       "<Figure size 720x360 with 1 Axes>"
      ]
     },
     "metadata": {
      "needs_background": "light"
     },
     "output_type": "display_data"
    },
    {
     "data": {
      "image/png": "[encoded data removed]",
      "text/plain": [
       "<Figure size 720x360 with 1 Axes>"
      ]
     },
     "metadata": {
      "needs_background": "light"
     },
     "output_type": "display_data"
    },
    {
     "data": {
      "image/png": "[encoded data removed]",
      "text/plain": [
       "<Figure size 720x360 with 1 Axes>"
      ]
     },
     "metadata": {
      "needs_background": "light"
     },
     "output_type": "display_data"
    },
    {
     "data": {
      "image/png": "[encoded data removed]",
      "text/plain": [
       "<Figure size 720x360 with 1 Axes>"
      ]
     },
     "metadata": {
      "needs_background": "light"
     },
     "output_type": "display_data"
    },
    {
     "data": {
      "image/png": "[encoded data removed]",
      "text/plain": [
       "<Figure size 720x360 with 1 Axes>"
      ]
     },
     "metadata": {
      "needs_background": "light"
     },
     "output_type": "display_data"
    },
    {
     "data": {
      "image/png": "[encoded data removed]",
      "text/plain": [
       "<Figure size 720x360 with 1 Axes>"
      ]
     },
     "metadata": {
      "needs_background": "light"
     },
     "output_type": "display_data"
    },
    {
     "data": {
      "image/png": "[encoded data removed]",
      "text/plain": [
       "<Figure size 720x360 with 1 Axes>"
      ]
     },
     "metadata": {
      "needs_background": "light"
     },
     "output_type": "display_data"
    },
    {
     "data": {
      "image/png": "[encoded data removed]",
      "text/plain": [
       "<Figure size 720x360 with 1 Axes>"
      ]
     },
     "metadata": {
      "needs_background": "light"
     },
     "output_type": "display_data"
    },
    {
     "data": {
      "image/png": "[encoded data removed]",
      "text/plain": [
       "<Figure size 720x360 with 1 Axes>"
      ]
     },
     "metadata": {
      "needs_background": "light"
     },
     "output_type": "display_data"
    },
    {
     "data": {
      "image/png": "[encoded data removed]",
      "text/plain": [
       "<Figure size 720x360 with 1 Axes>"
      ]
     },
     "metadata": {
      "needs_background": "light"
     },
     "output_type": "display_data"
    },
    {
     "data": {
      "image/png": "[encoded data removed]",
      "text/plain": [
       "<Figure size 720x360 with 1 Axes>"
      ]
     },
     "metadata": {
      "needs_background": "light"
     },
     "output_type": "display_data"
    },
    {
     "data": {
      "image/png": "[encoded data removed]",
      "text/plain": [
       "<Figure size 720x360 with 1 Axes>"
      ]
     },
     "metadata": {
      "needs_background": "light"
     },
     "output_type": "display_data"
    },
    {
     "data": {
      "image/png": "[encoded data removed]",
      "text/plain": [
       "<Figure size 720x360 with 1 Axes>"
      ]
     },
     "metadata": {
      "needs_background": "light"
     },
     "output_type": "display_data"
    },
    {
     "data": {
      "image/png": "[encoded data removed]",
      "text/plain": [
       "<Figure size 720x360 with 1 Axes>"
      ]
     },
     "metadata": {
      "needs_background": "light"
     },
     "output_type": "display_data"
    },
    {
     "data": {
      "image/png": "[encoded data removed]",
      "text/plain": [
       "<Figure size 720x360 with 1 Axes>"
      ]
     },
     "metadata": {
      "needs_background": "light"
     },
     "output_type": "display_data"
    },
    {
     "data": {
      "image/png": "[encoded data removed]",
      "text/plain": [
       "<Figure size 720x360 with 1 Axes>"
      ]
     },
     "metadata": {
      "needs_background": "light"
     },
     "output_type": "display_data"
    },
    {
     "data": {
      "image/png": "[encoded data removed]",
      "text/plain": [
       "<Figure size 720x360 with 1 Axes>"
      ]
     },
     "metadata": {
      "needs_background": "light"
     },
     "output_type": "display_data"
    },
    {
     "data": {
      "image/png": "[encoded data removed]",
      "text/plain": [
       "<Figure size 720x360 with 1 Axes>"
      ]
     },
     "metadata": {
      "needs_background": "light"
     },
     "output_type": "display_data"
    },
    {
     "data": {
      "image/png": "[encoded data removed]",
      "text/plain": [
       "<Figure size 720x360 with 1 Axes>"
      ]
     },
     "metadata": {
      "needs_background": "light"
     },
     "output_type": "display_data"
    },
    {
     "data": {
      "image/png": "[encoded data removed]",
      "text/plain": [
       "<Figure size 720x360 with 1 Axes>"
      ]
     },
     "metadata": {
      "needs_background": "light"
     },
     "output_type": "display_data"
    },
    {
     "data": {
      "image/png": "[encoded data removed]",
      "text/plain": [
       "<Figure size 720x360 with 1 Axes>"
      ]
     },
     "metadata": {
      "needs_background": "light"
     },
     "output_type": "display_data"
    },
    {
     "data": {
      "image/png": "[encoded data removed]",
      "text/plain": [
       "<Figure size 720x360 with 1 Axes>"
      ]
     },
     "metadata": {
      "needs_background": "light"
     },
     "output_type": "display_data"
    }
   ],
   "source": [
    "X_char_merged = pd.concat([Y,char],axis=1,join='inner')\n",
    "\n",
    "from numpy import mean\n",
    "for col in (char.columns):\n",
    "    plt.figure(figsize=(10,5))\n",
    "    plt.xticks(rotation=90)\n",
    "#     sns.lineplot(x=col, y=X_char_merged['is_canceled'].mean(),data= X_char_merged, color ='red')\n",
    "    sns.barplot(x=col, y=\"is_canceled\", data=X_char_merged, estimator=mean )\n",
    "plt.show()\n",
    "\n",
    "\n",
    "\n"
   ]
  },
  {
   "cell_type": "code",
   "execution_count": 69,
   "id": "d42d9de0",
   "metadata": {},
   "outputs": [
    {
     "data": {
      "text/plain": [
       "hotel                           object\n",
       "arrival_month_year              object\n",
       "arrival_date_month              object\n",
       "meal                            object\n",
       "country                         object\n",
       "market_segment                  object\n",
       "distribution_channel            object\n",
       "reserved_room_type              object\n",
       "assigned_room_type              object\n",
       "deposit_type                    object\n",
       "customer_type                   object\n",
       "reservation_status              object\n",
       "reservation_status_date         object\n",
       "arrival_date_year                int64\n",
       "stays_in_weekend_nights          int64\n",
       "adults                           int64\n",
       "children                       float64\n",
       "babies                           int64\n",
       "is_repeated_guest                int64\n",
       "previous_cancellations           int64\n",
       "required_car_parking_spaces      int64\n",
       "total_of_special_requests        int64\n",
       "dtype: object"
      ]
     },
     "execution_count": 69,
     "metadata": {},
     "output_type": "execute_result"
    }
   ],
   "source": [
    "char.dtypes"
   ]
  },
  {
   "cell_type": "code",
   "execution_count": 70,
   "id": "ce0a02b5",
   "metadata": {},
   "outputs": [
    {
     "data": {
      "text/plain": [
       "Check-Out    75166\n",
       "Canceled     43017\n",
       "No-Show       1207\n",
       "Name: reservation_status, dtype: int64"
      ]
     },
     "execution_count": 70,
     "metadata": {},
     "output_type": "execute_result"
    }
   ],
   "source": [
    "char['reservation_status'].value_counts()"
   ]
  },
  {
   "cell_type": "code",
   "execution_count": 71,
   "id": "c03c1fbf",
   "metadata": {},
   "outputs": [],
   "source": [
    "char_drop = ['arrival_date_month', 'country', 'assigned_room_type', 'reservation_status', 'reservation_status_date',\n",
    "             'arrival_date_year']\n",
    "\n",
    "\n",
    "# char_1=char_1.drop(charlist,axis=1)"
   ]
  },
  {
   "cell_type": "code",
   "execution_count": 72,
   "id": "c1435156",
   "metadata": {},
   "outputs": [],
   "source": [
    "# char.dtypes"
   ]
  },
  {
   "cell_type": "code",
   "execution_count": 73,
   "id": "2a564eff",
   "metadata": {},
   "outputs": [
    {
     "data": {
      "text/plain": [
       "0    111974\n",
       "1      7383\n",
       "2        28\n",
       "3         3\n",
       "8         2\n",
       "Name: required_car_parking_spaces, dtype: int64"
      ]
     },
     "execution_count": 73,
     "metadata": {},
     "output_type": "execute_result"
    }
   ],
   "source": [
    "char['required_car_parking_spaces'].value_counts()"
   ]
  },
  {
   "cell_type": "code",
   "execution_count": 74,
   "id": "efdf3d64",
   "metadata": {},
   "outputs": [],
   "source": [
    "char = char.drop(char_drop, axis=1)"
   ]
  },
  {
   "cell_type": "code",
   "execution_count": 75,
   "id": "dd9cf95d",
   "metadata": {},
   "outputs": [
    {
     "data": {
      "text/plain": [
       "(119390, 16)"
      ]
     },
     "execution_count": 75,
     "metadata": {},
     "output_type": "execute_result"
    }
   ],
   "source": [
    "char.shape"
   ]
  },
  {
   "cell_type": "markdown",
   "id": "191d9574",
   "metadata": {},
   "source": [
    "## Create Dummy features with n-1 levels"
   ]
  },
  {
   "cell_type": "code",
   "execution_count": 76,
   "id": "395cb4da",
   "metadata": {},
   "outputs": [
    {
     "data": {
      "text/plain": [
       "(119390, 63)"
      ]
     },
     "execution_count": 76,
     "metadata": {},
     "output_type": "execute_result"
    }
   ],
   "source": [
    "X_char_dum = pd.get_dummies(char, drop_first = True)\n",
    "\n",
    "X_char_dum.shape"
   ]
  },
  {
   "cell_type": "markdown",
   "id": "88d5beb2",
   "metadata": {},
   "source": [
    "# Part 2: Select K- Best"
   ]
  },
  {
   "cell_type": "code",
   "execution_count": 77,
   "id": "02cfbe01",
   "metadata": {},
   "outputs": [],
   "source": [
    "# from sklearn.feature_selection import SelectKBest, chi2\n",
    "# selector_c = SelectKBest(chi2, k=50)\n",
    "# selector_c.fit_transform(X_char_dum, Y)\n",
    "\n",
    "# # Get columns to keep and create new DataFrame from those only\n",
    "# cols = selector_c.get_support(indices=True)\n",
    "# select_features_df_char = X_char_dum.iloc[:, cols]"
   ]
  },
  {
   "cell_type": "code",
   "execution_count": 78,
   "id": "4fb52ebb",
   "metadata": {},
   "outputs": [],
   "source": [
    "# select_features_df_char.shape"
   ]
  },
  {
   "cell_type": "markdown",
   "id": "399fcaec",
   "metadata": {},
   "source": [
    "# Combining the features "
   ]
  },
  {
   "cell_type": "code",
   "execution_count": 79,
   "id": "df8de13e",
   "metadata": {},
   "outputs": [],
   "source": [
    "x_final = pd.concat([X_char_dum, select_features_df_num], axis = 1, join='inner')"
   ]
  },
  {
   "cell_type": "code",
   "execution_count": 80,
   "id": "b13e923f",
   "metadata": {},
   "outputs": [
    {
     "data": {
      "text/plain": [
       "(119390, 67)"
      ]
     },
     "execution_count": 80,
     "metadata": {},
     "output_type": "execute_result"
    }
   ],
   "source": [
    "x_final.shape"
   ]
  },
  {
   "cell_type": "code",
   "execution_count": 81,
   "id": "21876875",
   "metadata": {},
   "outputs": [
    {
     "data": {
      "text/html": [
       "<div>\n",
       "<style scoped>\n",
       "    .dataframe tbody tr th:only-of-type {\n",
       "        vertical-align: middle;\n",
       "    }\n",
       "\n",
       "    .dataframe tbody tr th {\n",
       "        vertical-align: top;\n",
       "    }\n",
       "\n",
       "    .dataframe thead th {\n",
       "        text-align: right;\n",
       "    }\n",
       "</style>\n",
       "<table border=\"1\" class=\"dataframe\">\n",
       "  <thead>\n",
       "    <tr style=\"text-align: right;\">\n",
       "      <th></th>\n",
       "      <th>stays_in_weekend_nights</th>\n",
       "      <th>adults</th>\n",
       "      <th>children</th>\n",
       "      <th>babies</th>\n",
       "      <th>is_repeated_guest</th>\n",
       "      <th>previous_cancellations</th>\n",
       "      <th>required_car_parking_spaces</th>\n",
       "      <th>total_of_special_requests</th>\n",
       "      <th>hotel_Resort Hotel</th>\n",
       "      <th>arrival_month_year_April 2017</th>\n",
       "      <th>arrival_month_year_August 2015</th>\n",
       "      <th>arrival_month_year_August 2016</th>\n",
       "      <th>arrival_month_year_August 2017</th>\n",
       "      <th>arrival_month_year_December 2015</th>\n",
       "      <th>arrival_month_year_December 2016</th>\n",
       "      <th>arrival_month_year_February 2016</th>\n",
       "      <th>arrival_month_year_February 2017</th>\n",
       "      <th>arrival_month_year_January 2016</th>\n",
       "      <th>arrival_month_year_January 2017</th>\n",
       "      <th>arrival_month_year_July 2015</th>\n",
       "      <th>arrival_month_year_July 2016</th>\n",
       "      <th>arrival_month_year_July 2017</th>\n",
       "      <th>arrival_month_year_June 2016</th>\n",
       "      <th>arrival_month_year_June 2017</th>\n",
       "      <th>arrival_month_year_March 2016</th>\n",
       "      <th>arrival_month_year_March 2017</th>\n",
       "      <th>arrival_month_year_May 2016</th>\n",
       "      <th>arrival_month_year_May 2017</th>\n",
       "      <th>arrival_month_year_November 2015</th>\n",
       "      <th>arrival_month_year_November 2016</th>\n",
       "      <th>arrival_month_year_October 2015</th>\n",
       "      <th>arrival_month_year_October 2016</th>\n",
       "      <th>arrival_month_year_September 2015</th>\n",
       "      <th>arrival_month_year_September 2016</th>\n",
       "      <th>meal_FB</th>\n",
       "      <th>meal_HB</th>\n",
       "      <th>meal_SC</th>\n",
       "      <th>meal_Undefined</th>\n",
       "      <th>market_segment_Complementary</th>\n",
       "      <th>market_segment_Corporate</th>\n",
       "      <th>market_segment_Direct</th>\n",
       "      <th>market_segment_Groups</th>\n",
       "      <th>market_segment_Offline TA/TO</th>\n",
       "      <th>market_segment_Online TA</th>\n",
       "      <th>market_segment_Undefined</th>\n",
       "      <th>distribution_channel_Direct</th>\n",
       "      <th>distribution_channel_GDS</th>\n",
       "      <th>distribution_channel_TA/TO</th>\n",
       "      <th>distribution_channel_Undefined</th>\n",
       "      <th>reserved_room_type_B</th>\n",
       "      <th>reserved_room_type_C</th>\n",
       "      <th>reserved_room_type_D</th>\n",
       "      <th>reserved_room_type_E</th>\n",
       "      <th>reserved_room_type_F</th>\n",
       "      <th>reserved_room_type_G</th>\n",
       "      <th>reserved_room_type_H</th>\n",
       "      <th>reserved_room_type_L</th>\n",
       "      <th>reserved_room_type_P</th>\n",
       "      <th>deposit_type_Non Refund</th>\n",
       "      <th>deposit_type_Refundable</th>\n",
       "      <th>customer_type_Group</th>\n",
       "      <th>customer_type_Transient</th>\n",
       "      <th>customer_type_Transient-Party</th>\n",
       "      <th>lead_time</th>\n",
       "      <th>arrival_date_day_of_month</th>\n",
       "      <th>stays_in_week_nights</th>\n",
       "      <th>agent</th>\n",
       "    </tr>\n",
       "  </thead>\n",
       "  <tbody>\n",
       "    <tr>\n",
       "      <th>0</th>\n",
       "      <td>0</td>\n",
       "      <td>2</td>\n",
       "      <td>0.0</td>\n",
       "      <td>0</td>\n",
       "      <td>0</td>\n",
       "      <td>0</td>\n",
       "      <td>0</td>\n",
       "      <td>0</td>\n",
       "      <td>1</td>\n",
       "      <td>0</td>\n",
       "      <td>0</td>\n",
       "      <td>0</td>\n",
       "      <td>0</td>\n",
       "      <td>0</td>\n",
       "      <td>0</td>\n",
       "      <td>0</td>\n",
       "      <td>0</td>\n",
       "      <td>0</td>\n",
       "      <td>0</td>\n",
       "      <td>1</td>\n",
       "      <td>0</td>\n",
       "      <td>0</td>\n",
       "      <td>0</td>\n",
       "      <td>0</td>\n",
       "      <td>0</td>\n",
       "      <td>0</td>\n",
       "      <td>0</td>\n",
       "      <td>0</td>\n",
       "      <td>0</td>\n",
       "      <td>0</td>\n",
       "      <td>0</td>\n",
       "      <td>0</td>\n",
       "      <td>0</td>\n",
       "      <td>0</td>\n",
       "      <td>0</td>\n",
       "      <td>0</td>\n",
       "      <td>0</td>\n",
       "      <td>0</td>\n",
       "      <td>0</td>\n",
       "      <td>0</td>\n",
       "      <td>1</td>\n",
       "      <td>0</td>\n",
       "      <td>0</td>\n",
       "      <td>0</td>\n",
       "      <td>0</td>\n",
       "      <td>1</td>\n",
       "      <td>0</td>\n",
       "      <td>0</td>\n",
       "      <td>0</td>\n",
       "      <td>0</td>\n",
       "      <td>1</td>\n",
       "      <td>0</td>\n",
       "      <td>0</td>\n",
       "      <td>0</td>\n",
       "      <td>0</td>\n",
       "      <td>0</td>\n",
       "      <td>0</td>\n",
       "      <td>0</td>\n",
       "      <td>0</td>\n",
       "      <td>0</td>\n",
       "      <td>0</td>\n",
       "      <td>1</td>\n",
       "      <td>0</td>\n",
       "      <td>342</td>\n",
       "      <td>1</td>\n",
       "      <td>0</td>\n",
       "      <td>9.0</td>\n",
       "    </tr>\n",
       "    <tr>\n",
       "      <th>1</th>\n",
       "      <td>0</td>\n",
       "      <td>2</td>\n",
       "      <td>0.0</td>\n",
       "      <td>0</td>\n",
       "      <td>0</td>\n",
       "      <td>0</td>\n",
       "      <td>0</td>\n",
       "      <td>0</td>\n",
       "      <td>1</td>\n",
       "      <td>0</td>\n",
       "      <td>0</td>\n",
       "      <td>0</td>\n",
       "      <td>0</td>\n",
       "      <td>0</td>\n",
       "      <td>0</td>\n",
       "      <td>0</td>\n",
       "      <td>0</td>\n",
       "      <td>0</td>\n",
       "      <td>0</td>\n",
       "      <td>1</td>\n",
       "      <td>0</td>\n",
       "      <td>0</td>\n",
       "      <td>0</td>\n",
       "      <td>0</td>\n",
       "      <td>0</td>\n",
       "      <td>0</td>\n",
       "      <td>0</td>\n",
       "      <td>0</td>\n",
       "      <td>0</td>\n",
       "      <td>0</td>\n",
       "      <td>0</td>\n",
       "      <td>0</td>\n",
       "      <td>0</td>\n",
       "      <td>0</td>\n",
       "      <td>0</td>\n",
       "      <td>0</td>\n",
       "      <td>0</td>\n",
       "      <td>0</td>\n",
       "      <td>0</td>\n",
       "      <td>0</td>\n",
       "      <td>1</td>\n",
       "      <td>0</td>\n",
       "      <td>0</td>\n",
       "      <td>0</td>\n",
       "      <td>0</td>\n",
       "      <td>1</td>\n",
       "      <td>0</td>\n",
       "      <td>0</td>\n",
       "      <td>0</td>\n",
       "      <td>0</td>\n",
       "      <td>1</td>\n",
       "      <td>0</td>\n",
       "      <td>0</td>\n",
       "      <td>0</td>\n",
       "      <td>0</td>\n",
       "      <td>0</td>\n",
       "      <td>0</td>\n",
       "      <td>0</td>\n",
       "      <td>0</td>\n",
       "      <td>0</td>\n",
       "      <td>0</td>\n",
       "      <td>1</td>\n",
       "      <td>0</td>\n",
       "      <td>444</td>\n",
       "      <td>1</td>\n",
       "      <td>0</td>\n",
       "      <td>9.0</td>\n",
       "    </tr>\n",
       "    <tr>\n",
       "      <th>2</th>\n",
       "      <td>0</td>\n",
       "      <td>1</td>\n",
       "      <td>0.0</td>\n",
       "      <td>0</td>\n",
       "      <td>0</td>\n",
       "      <td>0</td>\n",
       "      <td>0</td>\n",
       "      <td>0</td>\n",
       "      <td>1</td>\n",
       "      <td>0</td>\n",
       "      <td>0</td>\n",
       "      <td>0</td>\n",
       "      <td>0</td>\n",
       "      <td>0</td>\n",
       "      <td>0</td>\n",
       "      <td>0</td>\n",
       "      <td>0</td>\n",
       "      <td>0</td>\n",
       "      <td>0</td>\n",
       "      <td>1</td>\n",
       "      <td>0</td>\n",
       "      <td>0</td>\n",
       "      <td>0</td>\n",
       "      <td>0</td>\n",
       "      <td>0</td>\n",
       "      <td>0</td>\n",
       "      <td>0</td>\n",
       "      <td>0</td>\n",
       "      <td>0</td>\n",
       "      <td>0</td>\n",
       "      <td>0</td>\n",
       "      <td>0</td>\n",
       "      <td>0</td>\n",
       "      <td>0</td>\n",
       "      <td>0</td>\n",
       "      <td>0</td>\n",
       "      <td>0</td>\n",
       "      <td>0</td>\n",
       "      <td>0</td>\n",
       "      <td>0</td>\n",
       "      <td>1</td>\n",
       "      <td>0</td>\n",
       "      <td>0</td>\n",
       "      <td>0</td>\n",
       "      <td>0</td>\n",
       "      <td>1</td>\n",
       "      <td>0</td>\n",
       "      <td>0</td>\n",
       "      <td>0</td>\n",
       "      <td>0</td>\n",
       "      <td>0</td>\n",
       "      <td>0</td>\n",
       "      <td>0</td>\n",
       "      <td>0</td>\n",
       "      <td>0</td>\n",
       "      <td>0</td>\n",
       "      <td>0</td>\n",
       "      <td>0</td>\n",
       "      <td>0</td>\n",
       "      <td>0</td>\n",
       "      <td>0</td>\n",
       "      <td>1</td>\n",
       "      <td>0</td>\n",
       "      <td>7</td>\n",
       "      <td>1</td>\n",
       "      <td>1</td>\n",
       "      <td>9.0</td>\n",
       "    </tr>\n",
       "    <tr>\n",
       "      <th>3</th>\n",
       "      <td>0</td>\n",
       "      <td>1</td>\n",
       "      <td>0.0</td>\n",
       "      <td>0</td>\n",
       "      <td>0</td>\n",
       "      <td>0</td>\n",
       "      <td>0</td>\n",
       "      <td>0</td>\n",
       "      <td>1</td>\n",
       "      <td>0</td>\n",
       "      <td>0</td>\n",
       "      <td>0</td>\n",
       "      <td>0</td>\n",
       "      <td>0</td>\n",
       "      <td>0</td>\n",
       "      <td>0</td>\n",
       "      <td>0</td>\n",
       "      <td>0</td>\n",
       "      <td>0</td>\n",
       "      <td>1</td>\n",
       "      <td>0</td>\n",
       "      <td>0</td>\n",
       "      <td>0</td>\n",
       "      <td>0</td>\n",
       "      <td>0</td>\n",
       "      <td>0</td>\n",
       "      <td>0</td>\n",
       "      <td>0</td>\n",
       "      <td>0</td>\n",
       "      <td>0</td>\n",
       "      <td>0</td>\n",
       "      <td>0</td>\n",
       "      <td>0</td>\n",
       "      <td>0</td>\n",
       "      <td>0</td>\n",
       "      <td>0</td>\n",
       "      <td>0</td>\n",
       "      <td>0</td>\n",
       "      <td>0</td>\n",
       "      <td>1</td>\n",
       "      <td>0</td>\n",
       "      <td>0</td>\n",
       "      <td>0</td>\n",
       "      <td>0</td>\n",
       "      <td>0</td>\n",
       "      <td>0</td>\n",
       "      <td>0</td>\n",
       "      <td>0</td>\n",
       "      <td>0</td>\n",
       "      <td>0</td>\n",
       "      <td>0</td>\n",
       "      <td>0</td>\n",
       "      <td>0</td>\n",
       "      <td>0</td>\n",
       "      <td>0</td>\n",
       "      <td>0</td>\n",
       "      <td>0</td>\n",
       "      <td>0</td>\n",
       "      <td>0</td>\n",
       "      <td>0</td>\n",
       "      <td>0</td>\n",
       "      <td>1</td>\n",
       "      <td>0</td>\n",
       "      <td>13</td>\n",
       "      <td>1</td>\n",
       "      <td>1</td>\n",
       "      <td>304.0</td>\n",
       "    </tr>\n",
       "    <tr>\n",
       "      <th>4</th>\n",
       "      <td>0</td>\n",
       "      <td>2</td>\n",
       "      <td>0.0</td>\n",
       "      <td>0</td>\n",
       "      <td>0</td>\n",
       "      <td>0</td>\n",
       "      <td>0</td>\n",
       "      <td>1</td>\n",
       "      <td>1</td>\n",
       "      <td>0</td>\n",
       "      <td>0</td>\n",
       "      <td>0</td>\n",
       "      <td>0</td>\n",
       "      <td>0</td>\n",
       "      <td>0</td>\n",
       "      <td>0</td>\n",
       "      <td>0</td>\n",
       "      <td>0</td>\n",
       "      <td>0</td>\n",
       "      <td>1</td>\n",
       "      <td>0</td>\n",
       "      <td>0</td>\n",
       "      <td>0</td>\n",
       "      <td>0</td>\n",
       "      <td>0</td>\n",
       "      <td>0</td>\n",
       "      <td>0</td>\n",
       "      <td>0</td>\n",
       "      <td>0</td>\n",
       "      <td>0</td>\n",
       "      <td>0</td>\n",
       "      <td>0</td>\n",
       "      <td>0</td>\n",
       "      <td>0</td>\n",
       "      <td>0</td>\n",
       "      <td>0</td>\n",
       "      <td>0</td>\n",
       "      <td>0</td>\n",
       "      <td>0</td>\n",
       "      <td>0</td>\n",
       "      <td>0</td>\n",
       "      <td>0</td>\n",
       "      <td>0</td>\n",
       "      <td>1</td>\n",
       "      <td>0</td>\n",
       "      <td>0</td>\n",
       "      <td>0</td>\n",
       "      <td>1</td>\n",
       "      <td>0</td>\n",
       "      <td>0</td>\n",
       "      <td>0</td>\n",
       "      <td>0</td>\n",
       "      <td>0</td>\n",
       "      <td>0</td>\n",
       "      <td>0</td>\n",
       "      <td>0</td>\n",
       "      <td>0</td>\n",
       "      <td>0</td>\n",
       "      <td>0</td>\n",
       "      <td>0</td>\n",
       "      <td>0</td>\n",
       "      <td>1</td>\n",
       "      <td>0</td>\n",
       "      <td>14</td>\n",
       "      <td>1</td>\n",
       "      <td>2</td>\n",
       "      <td>240.0</td>\n",
       "    </tr>\n",
       "  </tbody>\n",
       "</table>\n",
       "</div>"
      ],
      "text/plain": [
       "   stays_in_weekend_nights  adults  children  babies  is_repeated_guest  \\\n",
       "0                        0       2       0.0       0                  0   \n",
       "1                        0       2       0.0       0                  0   \n",
       "2                        0       1       0.0       0                  0   \n",
       "3                        0       1       0.0       0                  0   \n",
       "4                        0       2       0.0       0                  0   \n",
       "\n",
       "   previous_cancellations  required_car_parking_spaces  \\\n",
       "0                       0                            0   \n",
       "1                       0                            0   \n",
       "2                       0                            0   \n",
       "3                       0                            0   \n",
       "4                       0                            0   \n",
       "\n",
       "   total_of_special_requests  hotel_Resort Hotel  \\\n",
       "0                          0                   1   \n",
       "1                          0                   1   \n",
       "2                          0                   1   \n",
       "3                          0                   1   \n",
       "4                          1                   1   \n",
       "\n",
       "   arrival_month_year_April 2017  arrival_month_year_August 2015  \\\n",
       "0                              0                               0   \n",
       "1                              0                               0   \n",
       "2                              0                               0   \n",
       "3                              0                               0   \n",
       "4                              0                               0   \n",
       "\n",
       "   arrival_month_year_August 2016  arrival_month_year_August 2017  \\\n",
       "0                               0                               0   \n",
       "1                               0                               0   \n",
       "2                               0                               0   \n",
       "3                               0                               0   \n",
       "4                               0                               0   \n",
       "\n",
       "   arrival_month_year_December 2015  arrival_month_year_December 2016  \\\n",
       "0                                 0                                 0   \n",
       "1                                 0                                 0   \n",
       "2                                 0                                 0   \n",
       "3                                 0                                 0   \n",
       "4                                 0                                 0   \n",
       "\n",
       "   arrival_month_year_February 2016  arrival_month_year_February 2017  \\\n",
       "0                                 0                                 0   \n",
       "1                                 0                                 0   \n",
       "2                                 0                                 0   \n",
       "3                                 0                                 0   \n",
       "4                                 0                                 0   \n",
       "\n",
       "   arrival_month_year_January 2016  arrival_month_year_January 2017  \\\n",
       "0                                0                                0   \n",
       "1                                0                                0   \n",
       "2                                0                                0   \n",
       "3                                0                                0   \n",
       "4                                0                                0   \n",
       "\n",
       "   arrival_month_year_July 2015  arrival_month_year_July 2016  \\\n",
       "0                             1                             0   \n",
       "1                             1                             0   \n",
       "2                             1                             0   \n",
       "3                             1                             0   \n",
       "4                             1                             0   \n",
       "\n",
       "   arrival_month_year_July 2017  arrival_month_year_June 2016  \\\n",
       "0                             0                             0   \n",
       "1                             0                             0   \n",
       "2                             0                             0   \n",
       "3                             0                             0   \n",
       "4                             0                             0   \n",
       "\n",
       "   arrival_month_year_June 2017  arrival_month_year_March 2016  \\\n",
       "0                             0                              0   \n",
       "1                             0                              0   \n",
       "2                             0                              0   \n",
       "3                             0                              0   \n",
       "4                             0                              0   \n",
       "\n",
       "   arrival_month_year_March 2017  arrival_month_year_May 2016  \\\n",
       "0                              0                            0   \n",
       "1                              0                            0   \n",
       "2                              0                            0   \n",
       "3                              0                            0   \n",
       "4                              0                            0   \n",
       "\n",
       "   arrival_month_year_May 2017  arrival_month_year_November 2015  \\\n",
       "0                            0                                 0   \n",
       "1                            0                                 0   \n",
       "2                            0                                 0   \n",
       "3                            0                                 0   \n",
       "4                            0                                 0   \n",
       "\n",
       "   arrival_month_year_November 2016  arrival_month_year_October 2015  \\\n",
       "0                                 0                                0   \n",
       "1                                 0                                0   \n",
       "2                                 0                                0   \n",
       "3                                 0                                0   \n",
       "4                                 0                                0   \n",
       "\n",
       "   arrival_month_year_October 2016  arrival_month_year_September 2015  \\\n",
       "0                                0                                  0   \n",
       "1                                0                                  0   \n",
       "2                                0                                  0   \n",
       "3                                0                                  0   \n",
       "4                                0                                  0   \n",
       "\n",
       "   arrival_month_year_September 2016  meal_FB  meal_HB  meal_SC  \\\n",
       "0                                  0        0        0        0   \n",
       "1                                  0        0        0        0   \n",
       "2                                  0        0        0        0   \n",
       "3                                  0        0        0        0   \n",
       "4                                  0        0        0        0   \n",
       "\n",
       "   meal_Undefined  market_segment_Complementary  market_segment_Corporate  \\\n",
       "0               0                             0                         0   \n",
       "1               0                             0                         0   \n",
       "2               0                             0                         0   \n",
       "3               0                             0                         1   \n",
       "4               0                             0                         0   \n",
       "\n",
       "   market_segment_Direct  market_segment_Groups  market_segment_Offline TA/TO  \\\n",
       "0                      1                      0                             0   \n",
       "1                      1                      0                             0   \n",
       "2                      1                      0                             0   \n",
       "3                      0                      0                             0   \n",
       "4                      0                      0                             0   \n",
       "\n",
       "   market_segment_Online TA  market_segment_Undefined  \\\n",
       "0                         0                         0   \n",
       "1                         0                         0   \n",
       "2                         0                         0   \n",
       "3                         0                         0   \n",
       "4                         1                         0   \n",
       "\n",
       "   distribution_channel_Direct  distribution_channel_GDS  \\\n",
       "0                            1                         0   \n",
       "1                            1                         0   \n",
       "2                            1                         0   \n",
       "3                            0                         0   \n",
       "4                            0                         0   \n",
       "\n",
       "   distribution_channel_TA/TO  distribution_channel_Undefined  \\\n",
       "0                           0                               0   \n",
       "1                           0                               0   \n",
       "2                           0                               0   \n",
       "3                           0                               0   \n",
       "4                           1                               0   \n",
       "\n",
       "   reserved_room_type_B  reserved_room_type_C  reserved_room_type_D  \\\n",
       "0                     0                     1                     0   \n",
       "1                     0                     1                     0   \n",
       "2                     0                     0                     0   \n",
       "3                     0                     0                     0   \n",
       "4                     0                     0                     0   \n",
       "\n",
       "   reserved_room_type_E  reserved_room_type_F  reserved_room_type_G  \\\n",
       "0                     0                     0                     0   \n",
       "1                     0                     0                     0   \n",
       "2                     0                     0                     0   \n",
       "3                     0                     0                     0   \n",
       "4                     0                     0                     0   \n",
       "\n",
       "   reserved_room_type_H  reserved_room_type_L  reserved_room_type_P  \\\n",
       "0                     0                     0                     0   \n",
       "1                     0                     0                     0   \n",
       "2                     0                     0                     0   \n",
       "3                     0                     0                     0   \n",
       "4                     0                     0                     0   \n",
       "\n",
       "   deposit_type_Non Refund  deposit_type_Refundable  customer_type_Group  \\\n",
       "0                        0                        0                    0   \n",
       "1                        0                        0                    0   \n",
       "2                        0                        0                    0   \n",
       "3                        0                        0                    0   \n",
       "4                        0                        0                    0   \n",
       "\n",
       "   customer_type_Transient  customer_type_Transient-Party  lead_time  \\\n",
       "0                        1                              0        342   \n",
       "1                        1                              0        444   \n",
       "2                        1                              0          7   \n",
       "3                        1                              0         13   \n",
       "4                        1                              0         14   \n",
       "\n",
       "   arrival_date_day_of_month  stays_in_week_nights  agent  \n",
       "0                          1                     0    9.0  \n",
       "1                          1                     0    9.0  \n",
       "2                          1                     1    9.0  \n",
       "3                          1                     1  304.0  \n",
       "4                          1                     2  240.0  "
      ]
     },
     "execution_count": 81,
     "metadata": {},
     "output_type": "execute_result"
    }
   ],
   "source": [
    "pd.set_option('display.max_columns', None)\n",
    "x_final.head()\n"
   ]
  },
  {
   "cell_type": "code",
   "execution_count": 82,
   "id": "636af31a",
   "metadata": {
    "scrolled": false
   },
   "outputs": [
    {
     "data": {
      "text/plain": [
       "stays_in_weekend_nights            int64\n",
       "adults                             int64\n",
       "children                         float64\n",
       "babies                             int64\n",
       "is_repeated_guest                  int64\n",
       "                                  ...   \n",
       "customer_type_Transient-Party      uint8\n",
       "lead_time                          int64\n",
       "arrival_date_day_of_month          int64\n",
       "stays_in_week_nights               int64\n",
       "agent                            float64\n",
       "Length: 67, dtype: object"
      ]
     },
     "execution_count": 82,
     "metadata": {},
     "output_type": "execute_result"
    }
   ],
   "source": [
    "x_final.dtypes"
   ]
  },
  {
   "cell_type": "code",
   "execution_count": 83,
   "id": "ee19f911",
   "metadata": {},
   "outputs": [
    {
     "data": {
      "text/plain": [
       "0    0\n",
       "1    0\n",
       "2    0\n",
       "3    0\n",
       "4    0\n",
       "Name: arrival_month_year_September 2016, dtype: uint8"
      ]
     },
     "execution_count": 83,
     "metadata": {},
     "output_type": "execute_result"
    }
   ],
   "source": [
    "x_final.loc[:'arrival_month_year_August 2015','arrival_month_year_September 2016'].head()"
   ]
  },
  {
   "cell_type": "code",
   "execution_count": 84,
   "id": "1ddeb21b",
   "metadata": {},
   "outputs": [
    {
     "data": {
      "text/plain": [
       "Index(['stays_in_weekend_nights', 'adults', 'children', 'babies',\n",
       "       'is_repeated_guest', 'previous_cancellations',\n",
       "       'required_car_parking_spaces', 'total_of_special_requests',\n",
       "       'hotel_Resort Hotel', 'arrival_month_year_April 2017',\n",
       "       'arrival_month_year_August 2015', 'arrival_month_year_August 2016',\n",
       "       'arrival_month_year_August 2017', 'arrival_month_year_December 2015',\n",
       "       'arrival_month_year_December 2016', 'arrival_month_year_February 2016',\n",
       "       'arrival_month_year_February 2017', 'arrival_month_year_January 2016',\n",
       "       'arrival_month_year_January 2017', 'arrival_month_year_July 2015',\n",
       "       'arrival_month_year_July 2016', 'arrival_month_year_July 2017',\n",
       "       'arrival_month_year_June 2016', 'arrival_month_year_June 2017',\n",
       "       'arrival_month_year_March 2016', 'arrival_month_year_March 2017',\n",
       "       'arrival_month_year_May 2016', 'arrival_month_year_May 2017',\n",
       "       'arrival_month_year_November 2015', 'arrival_month_year_November 2016',\n",
       "       'arrival_month_year_October 2015', 'arrival_month_year_October 2016',\n",
       "       'arrival_month_year_September 2015',\n",
       "       'arrival_month_year_September 2016', 'meal_FB', 'meal_HB', 'meal_SC',\n",
       "       'meal_Undefined', 'market_segment_Complementary',\n",
       "       'market_segment_Corporate', 'market_segment_Direct',\n",
       "       'market_segment_Groups', 'market_segment_Offline TA/TO',\n",
       "       'market_segment_Online TA', 'market_segment_Undefined',\n",
       "       'distribution_channel_Direct', 'distribution_channel_GDS',\n",
       "       'distribution_channel_TA/TO', 'distribution_channel_Undefined',\n",
       "       'reserved_room_type_B', 'reserved_room_type_C', 'reserved_room_type_D',\n",
       "       'reserved_room_type_E', 'reserved_room_type_F', 'reserved_room_type_G',\n",
       "       'reserved_room_type_H', 'reserved_room_type_L', 'reserved_room_type_P',\n",
       "       'deposit_type_Non Refund', 'deposit_type_Refundable',\n",
       "       'customer_type_Group', 'customer_type_Transient',\n",
       "       'customer_type_Transient-Party', 'lead_time',\n",
       "       'arrival_date_day_of_month', 'stays_in_week_nights', 'agent'],\n",
       "      dtype='object')"
      ]
     },
     "execution_count": 84,
     "metadata": {},
     "output_type": "execute_result"
    }
   ],
   "source": [
    "x_final.columns"
   ]
  },
  {
   "cell_type": "code",
   "execution_count": 85,
   "id": "cbf71baf",
   "metadata": {},
   "outputs": [
    {
     "name": "stdout",
     "output_type": "stream",
     "text": [
      "stays_in_weekend_nights---->0     51998\n",
      "2     33308\n",
      "1     30626\n",
      "4      1855\n",
      "3      1259\n",
      "6       153\n",
      "5        79\n",
      "8        60\n",
      "7        19\n",
      "9        11\n",
      "10        7\n",
      "12        5\n",
      "13        3\n",
      "16        3\n",
      "14        2\n",
      "18        1\n",
      "19        1\n",
      "Name: stays_in_weekend_nights, dtype: int64\n",
      "\n",
      "adults---->2     89680\n",
      "1     23027\n",
      "3      6202\n",
      "0       403\n",
      "4        62\n",
      "26        5\n",
      "5         2\n",
      "20        2\n",
      "27        2\n",
      "6         1\n",
      "10        1\n",
      "40        1\n",
      "50        1\n",
      "55        1\n",
      "Name: adults, dtype: int64\n",
      "\n",
      "children---->0.0     110800\n",
      "1.0       4861\n",
      "2.0       3652\n",
      "3.0         76\n",
      "10.0         1\n",
      "Name: children, dtype: int64\n",
      "\n",
      "babies---->0     118473\n",
      "1        900\n",
      "2         15\n",
      "9          1\n",
      "10         1\n",
      "Name: babies, dtype: int64\n",
      "\n",
      "is_repeated_guest---->0    115580\n",
      "1      3810\n",
      "Name: is_repeated_guest, dtype: int64\n",
      "\n",
      "previous_cancellations---->0     112906\n",
      "1       6051\n",
      "2        116\n",
      "3         65\n",
      "24        48\n",
      "11        35\n",
      "4         31\n",
      "26        26\n",
      "25        25\n",
      "6         22\n",
      "5         19\n",
      "19        19\n",
      "14        14\n",
      "13        12\n",
      "21         1\n",
      "Name: previous_cancellations, dtype: int64\n",
      "\n",
      "required_car_parking_spaces---->0    111974\n",
      "1      7383\n",
      "2        28\n",
      "3         3\n",
      "8         2\n",
      "Name: required_car_parking_spaces, dtype: int64\n",
      "\n",
      "total_of_special_requests---->0    70318\n",
      "1    33226\n",
      "2    12969\n",
      "3     2497\n",
      "4      340\n",
      "5       40\n",
      "Name: total_of_special_requests, dtype: int64\n",
      "\n",
      "hotel_Resort Hotel---->0    79330\n",
      "1    40060\n",
      "Name: hotel_Resort Hotel, dtype: int64\n",
      "\n",
      "arrival_month_year_April 2017---->0    113729\n",
      "1      5661\n",
      "Name: arrival_month_year_April 2017, dtype: int64\n",
      "\n",
      "arrival_month_year_August 2015---->0    115501\n",
      "1      3889\n",
      "Name: arrival_month_year_August 2015, dtype: int64\n",
      "\n",
      "arrival_month_year_August 2016---->0    114327\n",
      "1      5063\n",
      "Name: arrival_month_year_August 2016, dtype: int64\n",
      "\n",
      "arrival_month_year_August 2017---->0    114465\n",
      "1      4925\n",
      "Name: arrival_month_year_August 2017, dtype: int64\n",
      "\n",
      "arrival_month_year_December 2015---->0    116470\n",
      "1      2920\n",
      "Name: arrival_month_year_December 2015, dtype: int64\n",
      "\n",
      "arrival_month_year_December 2016---->0    115530\n",
      "1      3860\n",
      "Name: arrival_month_year_December 2016, dtype: int64\n",
      "\n",
      "arrival_month_year_February 2016---->0    115499\n",
      "1      3891\n",
      "Name: arrival_month_year_February 2016, dtype: int64\n",
      "\n",
      "arrival_month_year_February 2017---->0    115213\n",
      "1      4177\n",
      "Name: arrival_month_year_February 2017, dtype: int64\n",
      "\n",
      "arrival_month_year_January 2016---->0    117142\n",
      "1      2248\n",
      "Name: arrival_month_year_January 2016, dtype: int64\n",
      "\n",
      "arrival_month_year_January 2017---->0    115709\n",
      "1      3681\n",
      "Name: arrival_month_year_January 2017, dtype: int64\n",
      "\n",
      "arrival_month_year_July 2015---->0    116614\n",
      "1      2776\n",
      "Name: arrival_month_year_July 2015, dtype: int64\n",
      "\n",
      "arrival_month_year_July 2016---->0    114818\n",
      "1      4572\n",
      "Name: arrival_month_year_July 2016, dtype: int64\n",
      "\n",
      "arrival_month_year_July 2017---->0    114077\n",
      "1      5313\n",
      "Name: arrival_month_year_July 2017, dtype: int64\n",
      "\n",
      "arrival_month_year_June 2016---->0    114098\n",
      "1      5292\n",
      "Name: arrival_month_year_June 2016, dtype: int64\n",
      "\n",
      "arrival_month_year_June 2017---->0    113743\n",
      "1      5647\n",
      "Name: arrival_month_year_June 2017, dtype: int64\n",
      "\n",
      "arrival_month_year_March 2016---->0    114566\n",
      "1      4824\n",
      "Name: arrival_month_year_March 2016, dtype: int64\n",
      "\n",
      "arrival_month_year_March 2017---->0    114420\n",
      "1      4970\n",
      "Name: arrival_month_year_March 2017, dtype: int64\n",
      "\n",
      "arrival_month_year_May 2016---->0    113912\n",
      "1      5478\n",
      "Name: arrival_month_year_May 2016, dtype: int64\n",
      "\n",
      "arrival_month_year_May 2017---->0    113077\n",
      "1      6313\n",
      "Name: arrival_month_year_May 2017, dtype: int64\n",
      "\n",
      "arrival_month_year_November 2015---->0    117050\n",
      "1      2340\n",
      "Name: arrival_month_year_November 2015, dtype: int64\n",
      "\n",
      "arrival_month_year_November 2016---->0    114936\n",
      "1      4454\n",
      "Name: arrival_month_year_November 2016, dtype: int64\n",
      "\n",
      "arrival_month_year_October 2015---->0    114433\n",
      "1      4957\n",
      "Name: arrival_month_year_October 2015, dtype: int64\n",
      "\n",
      "arrival_month_year_October 2016---->0    113187\n",
      "1      6203\n",
      "Name: arrival_month_year_October 2016, dtype: int64\n",
      "\n",
      "arrival_month_year_September 2015---->0    114276\n",
      "1      5114\n",
      "Name: arrival_month_year_September 2015, dtype: int64\n",
      "\n",
      "arrival_month_year_September 2016---->0    113996\n",
      "1      5394\n",
      "Name: arrival_month_year_September 2016, dtype: int64\n",
      "\n",
      "meal_FB---->0    118592\n",
      "1       798\n",
      "Name: meal_FB, dtype: int64\n",
      "\n",
      "meal_HB---->0    104927\n",
      "1     14463\n",
      "Name: meal_HB, dtype: int64\n",
      "\n",
      "meal_SC---->0    108740\n",
      "1     10650\n",
      "Name: meal_SC, dtype: int64\n",
      "\n",
      "meal_Undefined---->0    118221\n",
      "1      1169\n",
      "Name: meal_Undefined, dtype: int64\n",
      "\n",
      "market_segment_Complementary---->0    118647\n",
      "1       743\n",
      "Name: market_segment_Complementary, dtype: int64\n",
      "\n",
      "market_segment_Corporate---->0    114095\n",
      "1      5295\n",
      "Name: market_segment_Corporate, dtype: int64\n",
      "\n",
      "market_segment_Direct---->0    106784\n",
      "1     12606\n",
      "Name: market_segment_Direct, dtype: int64\n",
      "\n",
      "market_segment_Groups---->0    99579\n",
      "1    19811\n",
      "Name: market_segment_Groups, dtype: int64\n",
      "\n",
      "market_segment_Offline TA/TO---->0    95171\n",
      "1    24219\n",
      "Name: market_segment_Offline TA/TO, dtype: int64\n",
      "\n",
      "market_segment_Online TA---->0    62913\n",
      "1    56477\n",
      "Name: market_segment_Online TA, dtype: int64\n",
      "\n",
      "market_segment_Undefined---->0    119388\n",
      "1         2\n",
      "Name: market_segment_Undefined, dtype: int64\n",
      "\n",
      "distribution_channel_Direct---->0    104745\n",
      "1     14645\n",
      "Name: distribution_channel_Direct, dtype: int64\n",
      "\n",
      "distribution_channel_GDS---->0    119197\n",
      "1       193\n",
      "Name: distribution_channel_GDS, dtype: int64\n",
      "\n",
      "distribution_channel_TA/TO---->1    97870\n",
      "0    21520\n",
      "Name: distribution_channel_TA/TO, dtype: int64\n",
      "\n",
      "distribution_channel_Undefined---->0    119385\n",
      "1         5\n",
      "Name: distribution_channel_Undefined, dtype: int64\n",
      "\n",
      "reserved_room_type_B---->0    118272\n",
      "1      1118\n",
      "Name: reserved_room_type_B, dtype: int64\n",
      "\n",
      "reserved_room_type_C---->0    118458\n",
      "1       932\n",
      "Name: reserved_room_type_C, dtype: int64\n",
      "\n",
      "reserved_room_type_D---->0    100189\n",
      "1     19201\n",
      "Name: reserved_room_type_D, dtype: int64\n",
      "\n",
      "reserved_room_type_E---->0    112855\n",
      "1      6535\n",
      "Name: reserved_room_type_E, dtype: int64\n",
      "\n",
      "reserved_room_type_F---->0    116493\n",
      "1      2897\n",
      "Name: reserved_room_type_F, dtype: int64\n",
      "\n",
      "reserved_room_type_G---->0    117296\n",
      "1      2094\n",
      "Name: reserved_room_type_G, dtype: int64\n",
      "\n",
      "reserved_room_type_H---->0    118789\n",
      "1       601\n",
      "Name: reserved_room_type_H, dtype: int64\n",
      "\n",
      "reserved_room_type_L---->0    119384\n",
      "1         6\n",
      "Name: reserved_room_type_L, dtype: int64\n",
      "\n",
      "reserved_room_type_P---->0    119378\n",
      "1        12\n",
      "Name: reserved_room_type_P, dtype: int64\n",
      "\n",
      "deposit_type_Non Refund---->0    104803\n",
      "1     14587\n",
      "Name: deposit_type_Non Refund, dtype: int64\n",
      "\n",
      "deposit_type_Refundable---->0    119228\n",
      "1       162\n",
      "Name: deposit_type_Refundable, dtype: int64\n",
      "\n",
      "customer_type_Group---->0    118813\n",
      "1       577\n",
      "Name: customer_type_Group, dtype: int64\n",
      "\n",
      "customer_type_Transient---->1    89613\n",
      "0    29777\n",
      "Name: customer_type_Transient, dtype: int64\n",
      "\n",
      "customer_type_Transient-Party---->0    94266\n",
      "1    25124\n",
      "Name: customer_type_Transient-Party, dtype: int64\n",
      "\n",
      "lead_time---->0      6345\n",
      "1      3460\n",
      "2      2069\n",
      "3      1816\n",
      "4      1715\n",
      "       ... \n",
      "380       1\n",
      "424       1\n",
      "370       1\n",
      "371       1\n",
      "400       1\n",
      "Name: lead_time, Length: 424, dtype: int64\n",
      "\n",
      "arrival_date_day_of_month---->17    4406\n",
      "5     4317\n",
      "15    4196\n",
      "25    4160\n",
      "26    4147\n",
      "9     4096\n",
      "12    4087\n",
      "16    4078\n",
      "2     4055\n",
      "19    4052\n",
      "20    4032\n",
      "18    4002\n",
      "24    3993\n",
      "28    3946\n",
      "8     3921\n",
      "3     3855\n",
      "30    3853\n",
      "6     3833\n",
      "14    3819\n",
      "27    3802\n",
      "21    3767\n",
      "4     3763\n",
      "13    3745\n",
      "7     3665\n",
      "1     3626\n",
      "23    3616\n",
      "11    3599\n",
      "22    3596\n",
      "29    3580\n",
      "10    3575\n",
      "31    2208\n",
      "Name: arrival_date_day_of_month, dtype: int64\n",
      "\n",
      "stays_in_week_nights---->2     33684\n",
      "1     30310\n",
      "3     22258\n",
      "5     11077\n",
      "4      9563\n",
      "0      7645\n",
      "6      1499\n",
      "10     1438\n",
      "7      1029\n",
      "8       656\n",
      "9       231\n",
      "Name: stays_in_week_nights, dtype: int64\n",
      "\n",
      "agent---->9.0      48301\n",
      "240.0    13922\n",
      "1.0       7191\n",
      "14.0      3640\n",
      "7.0       3539\n",
      "         ...  \n",
      "299.0        1\n",
      "144.0        1\n",
      "197.0        1\n",
      "301.0        1\n",
      "358.0        1\n",
      "Name: agent, Length: 264, dtype: int64\n",
      "\n"
     ]
    }
   ],
   "source": [
    "for i in x_final.columns:\n",
    "    print(f'{i}---->{x_final[i].value_counts()}')\n",
    "    print()"
   ]
  },
  {
   "cell_type": "markdown",
   "id": "89b4f795",
   "metadata": {},
   "source": [
    "# Train Test Split"
   ]
  },
  {
   "cell_type": "code",
   "execution_count": 86,
   "id": "bb3b0368",
   "metadata": {},
   "outputs": [],
   "source": [
    "from sklearn.model_selection import train_test_split\n",
    "X_train, X_test, y_train, y_test = train_test_split(x_final, Y, test_size=0.3, random_state=20)"
   ]
  },
  {
   "cell_type": "code",
   "execution_count": 87,
   "id": "4e34b6b1",
   "metadata": {},
   "outputs": [
    {
     "name": "stdout",
     "output_type": "stream",
     "text": [
      "Shape of Training Data (83573, 67)\n",
      "Shape of Testing Data (35817, 67)\n"
     ]
    }
   ],
   "source": [
    "print(\"Shape of Training Data\",X_train.shape)\n",
    "print(\"Shape of Testing Data\",X_test.shape)"
   ]
  },
  {
   "cell_type": "markdown",
   "id": "72921109",
   "metadata": {},
   "source": [
    "- Another important step in feature engineering is to scale the data as logistic regression is sensitive to  whether or not the\n",
    "    \n",
    "    data has been scaled. If the data is not scaled, \n",
    "    the model might consider 3000 grams to be greater than 5 KG which may result in erroneous prediction."
   ]
  },
  {
   "cell_type": "markdown",
   "id": "4990a23d",
   "metadata": {},
   "source": [
    "# Logistic Regression Model "
   ]
  },
  {
   "cell_type": "code",
   "execution_count": 88,
   "id": "26f57a47",
   "metadata": {},
   "outputs": [
    {
     "data": {
      "text/plain": [
       "LogisticRegression()"
      ]
     },
     "execution_count": 88,
     "metadata": {},
     "output_type": "execute_result"
    }
   ],
   "source": [
    "from sklearn.linear_model import LogisticRegression\n",
    "from sklearn import metrics\n",
    "\n",
    "# instantiate the model (using the default parameters)\n",
    "logreg = LogisticRegression()\n",
    "# fit the model with data\n",
    "logreg.fit(X_train,y_train)"
   ]
  },
  {
   "cell_type": "markdown",
   "id": "761d45b5",
   "metadata": {},
   "source": [
    "# Prediction"
   ]
  },
  {
   "cell_type": "code",
   "execution_count": 89,
   "id": "f22cca81",
   "metadata": {},
   "outputs": [
    {
     "data": {
      "text/plain": [
       "array([0, 0, 0, ..., 0, 0, 0], dtype=int64)"
      ]
     },
     "execution_count": 89,
     "metadata": {},
     "output_type": "execute_result"
    }
   ],
   "source": [
    "y_pred = logreg.predict(X_test)\n",
    "y_pred"
   ]
  },
  {
   "cell_type": "markdown",
   "id": "f5e544aa",
   "metadata": {},
   "source": [
    "## Performance & Accuracy"
   ]
  },
  {
   "cell_type": "code",
   "execution_count": 90,
   "id": "a1d6436b",
   "metadata": {},
   "outputs": [
    {
     "data": {
      "text/plain": [
       "array([[20740,  1812],\n",
       "       [ 5623,  7642]], dtype=int64)"
      ]
     },
     "execution_count": 90,
     "metadata": {},
     "output_type": "execute_result"
    }
   ],
   "source": [
    "cnf_matrix = metrics.confusion_matrix(y_test, y_pred)\n",
    "cnf_matrix"
   ]
  },
  {
   "cell_type": "code",
   "execution_count": 91,
   "id": "9f4c4831",
   "metadata": {},
   "outputs": [
    {
     "data": {
      "text/plain": [
       "0.5761025254428949"
      ]
     },
     "execution_count": 91,
     "metadata": {},
     "output_type": "execute_result"
    }
   ],
   "source": [
    "recall = 7642/(7642+5623) ## TP/(TP + FN)\n",
    "recall"
   ]
  },
  {
   "cell_type": "code",
   "execution_count": 92,
   "id": "4e49a0bd",
   "metadata": {},
   "outputs": [
    {
     "data": {
      "text/plain": [
       "0.8082496033844526"
      ]
     },
     "execution_count": 92,
     "metadata": {},
     "output_type": "execute_result"
    }
   ],
   "source": [
    "precision = 7642/(7642+1813)  ## TP/(TP + FP)\n",
    "precision"
   ]
  },
  {
   "cell_type": "code",
   "execution_count": 93,
   "id": "95691de8",
   "metadata": {},
   "outputs": [
    {
     "name": "stdout",
     "output_type": "stream",
     "text": [
      "Accuracy: 0.7924170086830276\n",
      "recall: 0.5761025254428949\n",
      "precision: 0.8083350962555532\n",
      "f-score: 0.6727408776794754\n"
     ]
    }
   ],
   "source": [
    "print('Accuracy:',metrics.accuracy_score(y_test, y_pred))\n",
    "print('recall:',metrics.recall_score(y_test, y_pred))\n",
    "print('precision:',metrics.precision_score(y_test, y_pred))\n",
    "print('f-score:',metrics.f1_score(y_test, y_pred))"
   ]
  },
  {
   "cell_type": "markdown",
   "id": "df4f2af7",
   "metadata": {},
   "source": [
    "\n",
    "Assuming your target is (0,1), then the classifier would output a probability matrix of dimension (N,2). \n",
    "The first index refers to the probability that the data belong to class 0, \n",
    "and the second refers to the probability that the data belong to class 1."
   ]
  },
  {
   "cell_type": "code",
   "execution_count": 94,
   "id": "ea60c4c9",
   "metadata": {},
   "outputs": [
    {
     "data": {
      "image/png": "[encoded data removed]",
      "text/plain": [
       "<Figure size 432x288 with 1 Axes>"
      ]
     },
     "metadata": {
      "needs_background": "light"
     },
     "output_type": "display_data"
    }
   ],
   "source": [
    "\n",
    "\n",
    "\n",
    "y_pred_proba = logreg.predict_proba(X_test)[::,1]\n",
    "fpr , tpr , _ = metrics.roc_curve(y_test, y_pred_proba)\n",
    "auc = metrics.roc_auc_score(y_test,y_pred_proba)\n",
    "plt.plot(fpr,tpr,label = \"data1 , auc = \"+str(auc))\n",
    "plt.legend(loc =4)\n",
    "plt.xlabel(\"FPR\")\n",
    "plt.ylabel(\"TPR (recall)\")\n",
    "plt.show()"
   ]
  },
  {
   "cell_type": "markdown",
   "id": "05c33389",
   "metadata": {},
   "source": [
    "## Training XGBoost on the Training set"
   ]
  },
  {
   "cell_type": "code",
   "execution_count": 95,
   "id": "0a419954",
   "metadata": {},
   "outputs": [
    {
     "name": "stdout",
     "output_type": "stream",
     "text": [
      "[00:29:21] WARNING: C:/Users/Administrator/workspace/xgboost-win64_release_1.5.0/src/learner.cc:1115: Starting in XGBoost 1.3.0, the default evaluation metric used with the objective 'binary:logistic' was changed from 'error' to 'logloss'. Explicitly set eval_metric if you'd like to restore the old behavior.\n"
     ]
    },
    {
     "data": {
      "text/plain": [
       "XGBClassifier(base_score=0.5, booster='gbtree', colsample_bylevel=1,\n",
       "              colsample_bynode=1, colsample_bytree=1, enable_categorical=False,\n",
       "              gamma=0, gpu_id=-1, importance_type=None,\n",
       "              interaction_constraints='', learning_rate=0.300000012,\n",
       "              max_delta_step=0, max_depth=6, min_child_weight=1, missing=nan,\n",
       "              monotone_constraints='()', n_estimators=100, n_jobs=16,\n",
       "              num_parallel_tree=1, predictor='auto', random_state=0,\n",
       "              reg_alpha=0, reg_lambda=1, scale_pos_weight=1, subsample=1,\n",
       "              tree_method='exact', validate_parameters=1, verbosity=None)"
      ]
     },
     "execution_count": 95,
     "metadata": {},
     "output_type": "execute_result"
    }
   ],
   "source": [
    "from xgboost import XGBClassifier\n",
    "classifier = XGBClassifier()\n",
    "classifier.fit(X_train, y_train)"
   ]
  },
  {
   "cell_type": "code",
   "execution_count": 96,
   "id": "127a86d4",
   "metadata": {},
   "outputs": [
    {
     "name": "stdout",
     "output_type": "stream",
     "text": [
      "Accuracy: 0.8454365245553788\n",
      "recall: 0.5761025254428949\n",
      "precision: 0.8513501227384308\n",
      "f-score: 0.7718430596768875\n"
     ]
    }
   ],
   "source": [
    "from sklearn.metrics import confusion_matrix, accuracy_score, precision_score, recall_score\n",
    "\n",
    "y_pred_xgb = classifier.predict(X_test)\n",
    "\n",
    "\n",
    "print('Accuracy:',metrics.accuracy_score(y_test, y_pred_xgb))\n",
    "print('recall:',metrics.recall_score(y_test, y_pred))\n",
    "print('precision:',metrics.precision_score(y_test, y_pred_xgb))\n",
    "print('f-score:',metrics.f1_score(y_test, y_pred_xgb))"
   ]
  },
  {
   "cell_type": "markdown",
   "id": "c36c2daf",
   "metadata": {},
   "source": [
    "# Decision Tree Classifier"
   ]
  },
  {
   "cell_type": "code",
   "execution_count": 97,
   "id": "a11cca5d",
   "metadata": {},
   "outputs": [
    {
     "data": {
      "text/plain": [
       "DecisionTreeClassifier(max_depth=9, min_samples_split=140, random_state=20)"
      ]
     },
     "execution_count": 97,
     "metadata": {},
     "output_type": "execute_result"
    }
   ],
   "source": [
    "from sklearn.tree import DecisionTreeClassifier\n",
    "DTC = DecisionTreeClassifier(criterion='gini', random_state=20,max_depth=9,min_samples_split=140)\n",
    "DTC.fit(X_train,y_train)"
   ]
  },
  {
   "cell_type": "code",
   "execution_count": 98,
   "id": "5f845632",
   "metadata": {},
   "outputs": [
    {
     "data": {
      "text/plain": [
       "RandomForestClassifier(max_depth=9, min_samples_split=140, random_state=0)"
      ]
     },
     "execution_count": 98,
     "metadata": {},
     "output_type": "execute_result"
    }
   ],
   "source": [
    "# Building a Random Forest Model\n",
    "from sklearn.ensemble import RandomForestClassifier\n",
    "rf=RandomForestClassifier(criterion='gini',random_state=0,max_depth=9,min_samples_split=140)\n",
    "rf.fit(X_train,y_train)"
   ]
  },
  {
   "cell_type": "code",
   "execution_count": 99,
   "id": "9e875803",
   "metadata": {},
   "outputs": [
    {
     "data": {
      "text/plain": [
       "GradientBoostingClassifier(criterion='mse', max_depth=9, min_samples_split=140,\n",
       "                           random_state=0)"
      ]
     },
     "execution_count": 99,
     "metadata": {},
     "output_type": "execute_result"
    }
   ],
   "source": [
    "# Building a Gradient Boosting Model\n",
    "from sklearn.ensemble import GradientBoostingClassifier\n",
    "gbm=GradientBoostingClassifier(criterion='mse',random_state=0,max_depth=9,min_samples_split=140)\n",
    "gbm.fit(X_train,y_train)"
   ]
  },
  {
   "cell_type": "code",
   "execution_count": 100,
   "id": "2daa66b2",
   "metadata": {},
   "outputs": [],
   "source": [
    "# Model Evaluation\n",
    "y_pred_tree=DTC.predict(X_test)\n",
    "y_pred_rf=rf.predict(X_test)\n",
    "y_pred_gbm=gbm.predict(X_test)"
   ]
  },
  {
   "cell_type": "code",
   "execution_count": 101,
   "id": "ad2ee7fd",
   "metadata": {},
   "outputs": [
    {
     "name": "stdout",
     "output_type": "stream",
     "text": [
      "Accuracy: 0.818912806767736\n",
      "Precision 0.8332514010421788\n",
      "Recall 0.638899359215982\n",
      "f1_score 0.7232462877624168\n"
     ]
    }
   ],
   "source": [
    "from sklearn import metrics\n",
    "print(\"Accuracy:\",metrics.accuracy_score(y_test, y_pred_tree))\n",
    "print(\"Precision\",metrics.precision_score(y_test,y_pred_tree))\n",
    "print(\"Recall\",metrics.recall_score(y_test,y_pred_tree))\n",
    "print(\"f1_score\",metrics.f1_score(y_test,y_pred_tree))"
   ]
  },
  {
   "cell_type": "code",
   "execution_count": 102,
   "id": "5e3f285e",
   "metadata": {},
   "outputs": [
    {
     "data": {
      "text/plain": [
       "<sklearn.metrics._plot.confusion_matrix.ConfusionMatrixDisplay at 0x1eec87be7c0>"
      ]
     },
     "execution_count": 102,
     "metadata": {},
     "output_type": "execute_result"
    },
    {
     "data": {
      "image/png": "[encoded data removed]",
      "text/plain": [
       "<Figure size 432x288 with 2 Axes>"
      ]
     },
     "metadata": {
      "needs_background": "light"
     },
     "output_type": "display_data"
    }
   ],
   "source": [
    "metrics.plot_confusion_matrix(DTC,x_final,Y)"
   ]
  },
  {
   "cell_type": "code",
   "execution_count": 103,
   "id": "e2c16f84",
   "metadata": {},
   "outputs": [
    {
     "name": "stdout",
     "output_type": "stream",
     "text": [
      "Accuracy: 0.8166233911271185\n",
      "Precision 0.8744269260874427\n",
      "Recall 0.5895212966453072\n",
      "f1_score 0.7042507204610952\n"
     ]
    }
   ],
   "source": [
    "from sklearn import metrics\n",
    "print(\"Accuracy:\",metrics.accuracy_score(y_test, y_pred_rf))\n",
    "print(\"Precision\",metrics.precision_score(y_test,y_pred_rf))\n",
    "print(\"Recall\",metrics.recall_score(y_test,y_pred_rf))\n",
    "print(\"f1_score\",metrics.f1_score(y_test,y_pred_rf))"
   ]
  },
  {
   "cell_type": "code",
   "execution_count": 104,
   "id": "8901da02",
   "metadata": {},
   "outputs": [
    {
     "data": {
      "text/plain": [
       "<sklearn.metrics._plot.confusion_matrix.ConfusionMatrixDisplay at 0x1eebbc0bc10>"
      ]
     },
     "execution_count": 104,
     "metadata": {},
     "output_type": "execute_result"
    },
    {
     "data": {
      "image/png": "[encoded data removed]",
      "text/plain": [
       "<Figure size 432x288 with 2 Axes>"
      ]
     },
     "metadata": {
      "needs_background": "light"
     },
     "output_type": "display_data"
    }
   ],
   "source": [
    "metrics.plot_confusion_matrix(rf,x_final,Y)"
   ]
  },
  {
   "cell_type": "code",
   "execution_count": 105,
   "id": "56c33807",
   "metadata": {},
   "outputs": [
    {
     "name": "stdout",
     "output_type": "stream",
     "text": [
      "Accuracy: 0.8460507580199347\n",
      "Precision 0.858278635481187\n",
      "Recall 0.6998869204673954\n",
      "f1_score 0.7710323062868533\n"
     ]
    }
   ],
   "source": [
    "from sklearn import metrics\n",
    "print(\"Accuracy:\",metrics.accuracy_score(y_test, y_pred_gbm))\n",
    "print(\"Precision\",metrics.precision_score(y_test,y_pred_gbm))\n",
    "print(\"Recall\",metrics.recall_score(y_test,y_pred_gbm))\n",
    "print(\"f1_score\",metrics.f1_score(y_test,y_pred_gbm))"
   ]
  },
  {
   "cell_type": "code",
   "execution_count": 106,
   "id": "f77706b6",
   "metadata": {},
   "outputs": [
    {
     "data": {
      "text/plain": [
       "<sklearn.metrics._plot.confusion_matrix.ConfusionMatrixDisplay at 0x1eebaaa77c0>"
      ]
     },
     "execution_count": 106,
     "metadata": {},
     "output_type": "execute_result"
    },
    {
     "data": {
      "image/png": "[encoded data removed]",
      "text/plain": [
       "<Figure size 432x288 with 2 Axes>"
      ]
     },
     "metadata": {
      "needs_background": "light"
     },
     "output_type": "display_data"
    }
   ],
   "source": [
    "metrics.plot_confusion_matrix(gbm,x_final,Y)"
   ]
  },
  {
   "cell_type": "markdown",
   "id": "18719bf1",
   "metadata": {},
   "source": [
    "As the overall performance of Gradient Boosting Model is the best, we will go with this model.\n"
   ]
  },
  {
   "cell_type": "markdown",
   "id": "c86d5dd1",
   "metadata": {},
   "source": [
    "## Saving the model"
   ]
  },
  {
   "cell_type": "code",
   "execution_count": 107,
   "id": "ff3430ff",
   "metadata": {},
   "outputs": [],
   "source": [
    "import pickle\n",
    "pickle.dump(gbm,open('hotel.pkl','wb'))\n"
   ]
  },
  {
   "cell_type": "code",
   "execution_count": 9,
   "id": "9a73b850",
   "metadata": {},
   "outputs": [],
   "source": [
    "\n",
    "z2=[]\n",
    "def reserved_room_type(x):\n",
    "    if x=='A':\n",
    "        return [0,0,0,0,0,0,0,0,0]\n",
    "    else:\n",
    "        dict1 = {'B':0,'C':0,'D':0,'E':0,'F':0,'G':0,'H':0,'L':0,'P':0}\n",
    "        dict1[x] = 1\n",
    "    \n",
    "    for i in dict1:\n",
    "        z2.append(dict1[i])\n",
    "    print(z2)"
   ]
  },
  {
   "cell_type": "code",
   "execution_count": 11,
   "id": "0f2a4e02",
   "metadata": {},
   "outputs": [
    {
     "data": {
      "text/plain": [
       "[0, 0, 0, 0, 0, 0, 0, 0, 0]"
      ]
     },
     "execution_count": 11,
     "metadata": {},
     "output_type": "execute_result"
    }
   ],
   "source": [
    "reserved_room_type('A')"
   ]
  },
  {
   "cell_type": "code",
   "execution_count": 8,
   "id": "1714d3a1",
   "metadata": {},
   "outputs": [
    {
     "data": {
      "text/plain": [
       "[0, 0, 0, 0]"
      ]
     },
     "execution_count": 8,
     "metadata": {},
     "output_type": "execute_result"
    }
   ],
   "source": [
    "z3=[]\n",
    "\n",
    "def meal(y):\n",
    "    x = 'meal_'+ y\n",
    "    if x=='meal_BB':\n",
    "        return [0,0,0,0]\n",
    "    else:\n",
    "        dict3={'meal_FB':0, 'meal_HB':0, 'meal_SC':0,'meal_Undefined':0}\n",
    "        dict3[x]=1\n",
    "        for i in dict3:\n",
    "            z3.append(dict3[i])\n",
    "        print(z3)\n",
    "meal('BB')"
   ]
  },
  {
   "cell_type": "code",
   "execution_count": 12,
   "id": "14b76ec7",
   "metadata": {},
   "outputs": [
    {
     "data": {
      "text/plain": [
       "25"
      ]
     },
     "execution_count": 12,
     "metadata": {},
     "output_type": "execute_result"
    }
   ],
   "source": [
    "x = [0, 0, 0, 0, 0, 0, 0, 0, 0, 0, 0, 0, 0, 0, 0, 0, 0, 0, 0, 0, 0, 0, 0, 0, 0]\n",
    "len(x)"
   ]
  },
  {
   "cell_type": "code",
   "execution_count": 13,
   "id": "05246548",
   "metadata": {},
   "outputs": [],
   "source": [
    "z4=[]\n",
    "def arrival_month_year(x1,x2):\n",
    "    p = 'arrival_month_year_'+x1+' '+str(x2)\n",
    "    if p=='arrival_month_year_April 2016':\n",
    "        return [0, 0, 0, 0, 0, 0, 0, 0, 0, 0, 0, 0, 0, 0, 0, 0, 0, 0, 0, 0, 0, 0, 0, 0, 0]\n",
    "    else:\n",
    "        dict4={'arrival_month_year_April 2017':0,'arrival_month_year_August 2015':0,'arrival_month_year_August 2016':0,\n",
    "        'arrival_month_year_August 2017':0, 'arrival_month_year_December 2015':0,'arrival_month_year_December 2016':0, \n",
    "        'arrival_month_year_February 2016':0,'arrival_month_year_February 2017':0, 'arrival_month_year_January 2016':0,\n",
    "        'arrival_month_year_January 2017':0, 'arrival_month_year_July 2015':0,'arrival_month_year_July 2016':0, \n",
    "        'arrival_month_year_July 2017':0,'arrival_month_year_June 2016':0, 'arrival_month_year_June 2017':0,\n",
    "    'arrival_month_year_March 2016':0, 'arrival_month_year_March 2017':0,'arrival_month_year_May 2016':0, \n",
    "    'arrival_month_year_May 2017':0,'arrival_month_year_November 2015':0, 'arrival_month_year_November 2016':0,\n",
    "    'arrival_month_year_October 2015':0, 'arrival_month_year_October 2016':0,'arrival_month_year_September 2015':0,\n",
    "    'arrival_month_year_September 2016':0}\n",
    "        dict4[p]=1\n",
    "        for i in dict4:\n",
    "            z4.append(dict4[i])\n",
    "        return z4"
   ]
  },
  {
   "cell_type": "code",
   "execution_count": 18,
   "id": "365a2ca6",
   "metadata": {},
   "outputs": [
    {
     "data": {
      "text/plain": [
       "[0,\n",
       " 0,\n",
       " 0,\n",
       " 0,\n",
       " 0,\n",
       " 0,\n",
       " 0,\n",
       " 0,\n",
       " 0,\n",
       " 1,\n",
       " 0,\n",
       " 0,\n",
       " 0,\n",
       " 0,\n",
       " 0,\n",
       " 0,\n",
       " 0,\n",
       " 0,\n",
       " 0,\n",
       " 0,\n",
       " 0,\n",
       " 0,\n",
       " 0,\n",
       " 0,\n",
       " 0,\n",
       " 0,\n",
       " 0,\n",
       " 0,\n",
       " 0,\n",
       " 0,\n",
       " 0,\n",
       " 0,\n",
       " 0,\n",
       " 0,\n",
       " 0,\n",
       " 0,\n",
       " 0,\n",
       " 0,\n",
       " 0,\n",
       " 0,\n",
       " 0,\n",
       " 0,\n",
       " 0,\n",
       " 0,\n",
       " 0,\n",
       " 0,\n",
       " 0,\n",
       " 0,\n",
       " 0,\n",
       " 0,\n",
       " 1,\n",
       " 0,\n",
       " 0,\n",
       " 0,\n",
       " 0,\n",
       " 0,\n",
       " 0,\n",
       " 0,\n",
       " 0,\n",
       " 0,\n",
       " 0,\n",
       " 0,\n",
       " 0,\n",
       " 0,\n",
       " 0,\n",
       " 0,\n",
       " 0,\n",
       " 0,\n",
       " 0,\n",
       " 0,\n",
       " 0,\n",
       " 0,\n",
       " 0,\n",
       " 0,\n",
       " 0,\n",
       " 0,\n",
       " 1]"
      ]
     },
     "execution_count": 18,
     "metadata": {},
     "output_type": "execute_result"
    }
   ],
   "source": [
    "arrival_month_year('April',2015)"
   ]
  },
  {
   "cell_type": "code",
   "execution_count": 113,
   "id": "576bcb8c",
   "metadata": {},
   "outputs": [],
   "source": [
    "list1 = ['arrival_month_year_April 2017','arrival_month_year_August 2015','arrival_month_year_August 2016','arrival_month_year_August 2017','arrival_month_year_December 2015','arrival_month_year_December 2016','arrival_month_year_February 2016','arrival_month_year_February 2017','arrival_month_year_January 2016','arrival_month_year_January 2017','arrival_month_year_July 2015','arrival_month_year_July 2016','arrival_month_year_July 2017','arrival_month_year_June 2016','arrival_month_year_June 2017','arrival_month_year_March 2016','arrival_month_year_March 2017','arrival_month_year_May 2016','arrival_month_year_May 2017','arrival_month_year_November 2015','arrival_month_year_November 2016','arrival_month_year_October 2015','arrival_month_year_October 2016','arrival_month_year_September 2015','arrival_month_year_September 2016']"
   ]
  },
  {
   "cell_type": "code",
   "execution_count": 114,
   "id": "ed82e506",
   "metadata": {},
   "outputs": [
    {
     "data": {
      "text/plain": [
       "25"
      ]
     },
     "execution_count": 114,
     "metadata": {},
     "output_type": "execute_result"
    }
   ],
   "source": [
    "len(list1)"
   ]
  },
  {
   "cell_type": "code",
   "execution_count": 115,
   "id": "f950fae8",
   "metadata": {},
   "outputs": [
    {
     "name": "stdout",
     "output_type": "stream",
     "text": [
      "25\n"
     ]
    }
   ],
   "source": [
    "count=0\n",
    "z=[]\n",
    "for i in x_final.columns:\n",
    "    \n",
    "    z.append(i)\n",
    "print(len(z[9:34]))\n",
    "    "
   ]
  },
  {
   "cell_type": "code",
   "execution_count": 116,
   "id": "bd23eddf",
   "metadata": {},
   "outputs": [
    {
     "data": {
      "text/plain": [
       "'December'"
      ]
     },
     "execution_count": 116,
     "metadata": {},
     "output_type": "execute_result"
    }
   ],
   "source": [
    "x='DECEMBER'\n",
    "y=x.lower()#.capitalize()\n",
    "z=y.capitalize()\n",
    "z"
   ]
  },
  {
   "cell_type": "code",
   "execution_count": 117,
   "id": "ef497d9a",
   "metadata": {},
   "outputs": [
    {
     "name": "stdout",
     "output_type": "stream",
     "text": [
      "[0, 1, 0, 0, 0, 0, 0]\n"
     ]
    }
   ],
   "source": [
    "z5=[]\n",
    "\n",
    "def market_segment(y):\n",
    "    x = 'market_segment_'+ y\n",
    "    if x=='market_segment_Aviation':\n",
    "        return [0,0,0,0,0,0,0]\n",
    "    else:\n",
    "        dict5={'market_segment_Complementary':0, 'market_segment_Corporate':0, 'market_segment_Direct':0,'market_segment_Groups':0,'market_segment_Offline TA/TO':0,'market_segment_Online TA':0, 'market_segment_Undefined':0}\n",
    "        dict5[x]=1\n",
    "        for i in dict5:\n",
    "            z5.append(dict5[i])\n",
    "        print(z5)\n",
    "market_segment('Corporate')"
   ]
  },
  {
   "cell_type": "code",
   "execution_count": 118,
   "id": "895a9d0d",
   "metadata": {},
   "outputs": [
    {
     "name": "stdout",
     "output_type": "stream",
     "text": [
      "[0, 1, 0, 0]\n"
     ]
    }
   ],
   "source": [
    "z6=[]\n",
    "\n",
    "def distribution_channel(y):\n",
    "    x = 'distribution_channel_'+ y\n",
    "    if x=='distribution_channel_Corporate':\n",
    "        return [0,0,0,0,0,0,0]\n",
    "    else:\n",
    "        dict6={'distribution_channel_Direct':0, 'distribution_channel_GDS':0, 'distribution_channel_TA/TO':0,'distribution_channel_Undefined':0}\n",
    "        dict6[x]=1\n",
    "        for i in dict6:\n",
    "            z6.append(dict6[i])\n",
    "        print(z6)\n",
    "distribution_channel('GDS')"
   ]
  },
  {
   "cell_type": "code",
   "execution_count": 119,
   "id": "8408fb67",
   "metadata": {},
   "outputs": [
    {
     "name": "stdout",
     "output_type": "stream",
     "text": [
      "[0, 1]\n"
     ]
    }
   ],
   "source": [
    "\n",
    "z7=[]\n",
    "\n",
    "def deposit_type(y):\n",
    "    x = 'deposit_type_'+ y\n",
    "    if x=='deposit_type_No Deposit':\n",
    "        return [0,0]\n",
    "    else:\n",
    "        dict7={'deposit_type_Non Refund':0, 'deposit_type_Refundable':0}\n",
    "        dict7[x]=1\n",
    "        \n",
    "        for i in dict7:\n",
    "            z7.append(dict7[i])\n",
    "        print(z7)\n",
    "deposit_type('Refundable')"
   ]
  },
  {
   "cell_type": "code",
   "execution_count": 120,
   "id": "2aa66228",
   "metadata": {},
   "outputs": [
    {
     "name": "stdout",
     "output_type": "stream",
     "text": [
      "[1, 0, 0]\n"
     ]
    }
   ],
   "source": [
    "\n",
    "z8=[]\n",
    "\n",
    "def customer_type(y):\n",
    "    x = 'customer_type_'+ y\n",
    "    if x=='customer_type_Contract':\n",
    "        return [0,0,0]\n",
    "    else:\n",
    "        dict8={'customer_type_Group':0, 'customer_type_Transient':0,'customer_type_Transient_party':0}\n",
    "        dict8[x]=1\n",
    "        for i in dict8:\n",
    "            z8.append(dict8[i])\n",
    "        print(z8)\n",
    "customer_type('Group')"
   ]
  },
  {
   "cell_type": "code",
   "execution_count": 121,
   "id": "1adb510a",
   "metadata": {},
   "outputs": [],
   "source": [
    "import pickle\n",
    "pickle.dump(gbm,open('hotel.pkl','wb'))"
   ]
  },
  {
   "cell_type": "code",
   "execution_count": null,
   "id": "9821fbd8",
   "metadata": {},
   "outputs": [],
   "source": []
  }
 ],
 "metadata": {
  "kernelspec": {
   "display_name": "Python 3",
   "language": "python",
   "name": "python3"
  },
  "language_info": {
   "codemirror_mode": {
    "name": "ipython",
    "version": 3
   },
   "file_extension": ".py",
   "mimetype": "text/x-python",
   "name": "python",
   "nbconvert_exporter": "python",
   "pygments_lexer": "ipython3",
   "version": "3.8.8"
  }
 },
 "nbformat": 4,
 "nbformat_minor": 5
}
